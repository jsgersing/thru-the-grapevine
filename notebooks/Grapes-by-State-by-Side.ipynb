{
 "cells": [
  {
   "cell_type": "code",
   "execution_count": 16,
   "id": "05102d11",
   "metadata": {
    "pycharm": {
     "name": "#%%\n"
    }
   },
   "outputs": [],
   "source": [
    "import requests\n",
    "from os import getenv\n",
    "from pymongo import MongoClient\n",
    "from pandas import DataFrame, Series, concat\n",
    "from dotenv import load_dotenv\n",
    "from altair import Chart, Color, Y, X, Tooltip, Column, Theta"
   ]
  },
  {
   "cell_type": "code",
   "execution_count": 21,
   "id": "cfb262ac",
   "metadata": {
    "pycharm": {
     "name": "#%%\n"
    }
   },
   "outputs": [],
   "source": [
    "filepath = '/Users/jasongersing/PycharmProjects/fastApiProject/.env'\n",
    "load_dotenv(filepath)\n",
    "url = getenv('MONGO_URL')\n",
    "database = \"thruTheGrapevine\"\n",
    "collection_GB = \"GrapeBuyers\"\n",
    "collection_GS = \"GrapeSellers\""
   ]
  },
  {
   "cell_type": "code",
   "execution_count": 22,
   "id": "bb5f2308",
   "metadata": {
    "pycharm": {
     "name": "#%%\n"
    }
   },
   "outputs": [],
   "source": [
    "db_GB = MongoClient(url)[database][collection_GB]\n",
    "db_GS = MongoClient(url)[database][collection_GS]"
   ]
  },
  {
   "cell_type": "code",
   "execution_count": 23,
   "id": "64df5046",
   "metadata": {
    "pycharm": {
     "name": "#%%\n"
    }
   },
   "outputs": [
    {
     "data": {
      "text/plain": "              variety   side       state  tons\n0  Cabernet Sauvignon  Buyer  California    90\n1  Cabernet Sauvignon  Buyer      Oregon   170\n2  Cabernet Sauvignon  Buyer  Washington   240\n3          Chardonnay  Buyer  California   285\n4          Chardonnay  Buyer      Oregon   185",
      "text/html": "<div>\n<style scoped>\n    .dataframe tbody tr th:only-of-type {\n        vertical-align: middle;\n    }\n\n    .dataframe tbody tr th {\n        vertical-align: top;\n    }\n\n    .dataframe thead th {\n        text-align: right;\n    }\n</style>\n<table border=\"1\" class=\"dataframe\">\n  <thead>\n    <tr style=\"text-align: right;\">\n      <th></th>\n      <th>variety</th>\n      <th>side</th>\n      <th>state</th>\n      <th>tons</th>\n    </tr>\n  </thead>\n  <tbody>\n    <tr>\n      <th>0</th>\n      <td>Cabernet Sauvignon</td>\n      <td>Buyer</td>\n      <td>California</td>\n      <td>90</td>\n    </tr>\n    <tr>\n      <th>1</th>\n      <td>Cabernet Sauvignon</td>\n      <td>Buyer</td>\n      <td>Oregon</td>\n      <td>170</td>\n    </tr>\n    <tr>\n      <th>2</th>\n      <td>Cabernet Sauvignon</td>\n      <td>Buyer</td>\n      <td>Washington</td>\n      <td>240</td>\n    </tr>\n    <tr>\n      <th>3</th>\n      <td>Chardonnay</td>\n      <td>Buyer</td>\n      <td>California</td>\n      <td>285</td>\n    </tr>\n    <tr>\n      <th>4</th>\n      <td>Chardonnay</td>\n      <td>Buyer</td>\n      <td>Oregon</td>\n      <td>185</td>\n    </tr>\n  </tbody>\n</table>\n</div>"
     },
     "execution_count": 23,
     "metadata": {},
     "output_type": "execute_result"
    }
   ],
   "source": [
    "grape_buyers = DataFrame(db_GB.find(projection={\"_id\": False, \"grapes_seeking\": True, \"volume_seeking\": True, \"state\": True}))\n",
    "grape_buyers = grape_buyers.explode(column=[\"grapes_seeking\", \"volume_seeking\"])\n",
    "grape_buyers.rename(columns={\"grapes_seeking\": \"variety\", \"volume_seeking\": \"tons\"}, inplace=True)\n",
    "grape_buyers[\"side\"] = \"Buyer\"\n",
    "grape_buyers[\"tons\"] = Series([int(num) for num in grape_buyers[\"tons\"]])\n",
    "grape_buyers = grape_buyers.groupby([\"variety\", \"side\", \"state\"]).agg({\"tons\": \"sum\"}).reset_index()\n",
    "grape_buyers.head()"
   ]
  },
  {
   "cell_type": "code",
   "execution_count": 24,
   "id": "288ba375",
   "metadata": {
    "pycharm": {
     "name": "#%%\n"
    }
   },
   "outputs": [
    {
     "data": {
      "text/plain": "              variety    side       state  tons\n0  Cabernet Sauvignon  Seller  California    45\n1  Cabernet Sauvignon  Seller      Oregon    55\n2  Cabernet Sauvignon  Seller  Washington    10\n3          Chardonnay  Seller  California    45\n4          Chardonnay  Seller      Oregon    80",
      "text/html": "<div>\n<style scoped>\n    .dataframe tbody tr th:only-of-type {\n        vertical-align: middle;\n    }\n\n    .dataframe tbody tr th {\n        vertical-align: top;\n    }\n\n    .dataframe thead th {\n        text-align: right;\n    }\n</style>\n<table border=\"1\" class=\"dataframe\">\n  <thead>\n    <tr style=\"text-align: right;\">\n      <th></th>\n      <th>variety</th>\n      <th>side</th>\n      <th>state</th>\n      <th>tons</th>\n    </tr>\n  </thead>\n  <tbody>\n    <tr>\n      <th>0</th>\n      <td>Cabernet Sauvignon</td>\n      <td>Seller</td>\n      <td>California</td>\n      <td>45</td>\n    </tr>\n    <tr>\n      <th>1</th>\n      <td>Cabernet Sauvignon</td>\n      <td>Seller</td>\n      <td>Oregon</td>\n      <td>55</td>\n    </tr>\n    <tr>\n      <th>2</th>\n      <td>Cabernet Sauvignon</td>\n      <td>Seller</td>\n      <td>Washington</td>\n      <td>10</td>\n    </tr>\n    <tr>\n      <th>3</th>\n      <td>Chardonnay</td>\n      <td>Seller</td>\n      <td>California</td>\n      <td>45</td>\n    </tr>\n    <tr>\n      <th>4</th>\n      <td>Chardonnay</td>\n      <td>Seller</td>\n      <td>Oregon</td>\n      <td>80</td>\n    </tr>\n  </tbody>\n</table>\n</div>"
     },
     "execution_count": 24,
     "metadata": {},
     "output_type": "execute_result"
    }
   ],
   "source": [
    "grape_sellers = DataFrame(db_GS.find(projection={\"_id\": False, \"grapes_selling\": True, \"volume_selling\": True, \"state\": True}))\n",
    "grape_sellers = grape_sellers.explode(column=[\"grapes_selling\", \"volume_selling\"])\n",
    "grape_sellers.rename(columns={\"grapes_selling\": \"variety\", \"volume_selling\": \"tons\"}, inplace=True)\n",
    "grape_sellers[\"side\"] = \"Seller\"\n",
    "grape_sellers[\"tons\"] = Series([int(num) for num in grape_sellers[\"tons\"]])\n",
    "grape_sellers = grape_sellers.groupby([\"variety\", \"side\", \"state\"]).agg({\"tons\": \"sum\"}).reset_index()\n",
    "grape_sellers.head()"
   ]
  },
  {
   "cell_type": "code",
   "execution_count": 25,
   "id": "22c6bcb5",
   "metadata": {
    "pycharm": {
     "name": "#%%\n"
    }
   },
   "outputs": [
    {
     "data": {
      "text/html": "\n<div id=\"altair-viz-45c415caebad427682682809615072ff\"></div>\n<script type=\"text/javascript\">\n  var VEGA_DEBUG = (typeof VEGA_DEBUG == \"undefined\") ? {} : VEGA_DEBUG;\n  (function(spec, embedOpt){\n    let outputDiv = document.currentScript.previousElementSibling;\n    if (outputDiv.id !== \"altair-viz-45c415caebad427682682809615072ff\") {\n      outputDiv = document.getElementById(\"altair-viz-45c415caebad427682682809615072ff\");\n    }\n    const paths = {\n      \"vega\": \"https://cdn.jsdelivr.net/npm//vega@5?noext\",\n      \"vega-lib\": \"https://cdn.jsdelivr.net/npm//vega-lib?noext\",\n      \"vega-lite\": \"https://cdn.jsdelivr.net/npm//vega-lite@4.17.0?noext\",\n      \"vega-embed\": \"https://cdn.jsdelivr.net/npm//vega-embed@6?noext\",\n    };\n\n    function maybeLoadScript(lib, version) {\n      var key = `${lib.replace(\"-\", \"\")}_version`;\n      return (VEGA_DEBUG[key] == version) ?\n        Promise.resolve(paths[lib]) :\n        new Promise(function(resolve, reject) {\n          var s = document.createElement('script');\n          document.getElementsByTagName(\"head\")[0].appendChild(s);\n          s.async = true;\n          s.onload = () => {\n            VEGA_DEBUG[key] = version;\n            return resolve(paths[lib]);\n          };\n          s.onerror = () => reject(`Error loading script: ${paths[lib]}`);\n          s.src = paths[lib];\n        });\n    }\n\n    function showError(err) {\n      outputDiv.innerHTML = `<div class=\"error\" style=\"color:red;\">${err}</div>`;\n      throw err;\n    }\n\n    function displayChart(vegaEmbed) {\n      vegaEmbed(outputDiv, spec, embedOpt)\n        .catch(err => showError(`Javascript Error: ${err.message}<br>This usually means there's a typo in your chart specification. See the javascript console for the full traceback.`));\n    }\n\n    if(typeof define === \"function\" && define.amd) {\n      requirejs.config({paths});\n      require([\"vega-embed\"], displayChart, err => showError(`Error loading script: ${err.message}`));\n    } else {\n      maybeLoadScript(\"vega\", \"5\")\n        .then(() => maybeLoadScript(\"vega-lite\", \"4.17.0\"))\n        .then(() => maybeLoadScript(\"vega-embed\", \"6\"))\n        .catch(showError)\n        .then(() => displayChart(vegaEmbed));\n    }\n  })({\"config\": {\"view\": {\"continuousWidth\": 400, \"continuousHeight\": 300, \"stroke\": \"#FFF\"}, \"legend\": {\"padding\": 24}, \"title\": {\"fontSize\": 20, \"offset\": 24}}, \"data\": {\"name\": \"data-15c9e2286b7e18a26f65981035691e95\"}, \"mark\": \"bar\", \"datasets\": {\"data-15c9e2286b7e18a26f65981035691e95\": [{\"variety\": \"Cabernet Sauvignon\", \"side\": \"Buyer\", \"state\": \"California\", \"tons\": 90}, {\"variety\": \"Cabernet Sauvignon\", \"side\": \"Buyer\", \"state\": \"Oregon\", \"tons\": 170}, {\"variety\": \"Cabernet Sauvignon\", \"side\": \"Buyer\", \"state\": \"Washington\", \"tons\": 240}, {\"variety\": \"Chardonnay\", \"side\": \"Buyer\", \"state\": \"California\", \"tons\": 285}, {\"variety\": \"Chardonnay\", \"side\": \"Buyer\", \"state\": \"Oregon\", \"tons\": 185}, {\"variety\": \"Chardonnay\", \"side\": \"Buyer\", \"state\": \"Washington\", \"tons\": 115}, {\"variety\": \"Granache\", \"side\": \"Buyer\", \"state\": \"California\", \"tons\": 145}, {\"variety\": \"Granache\", \"side\": \"Buyer\", \"state\": \"Oregon\", \"tons\": 205}, {\"variety\": \"Granache\", \"side\": \"Buyer\", \"state\": \"Washington\", \"tons\": 185}, {\"variety\": \"Marsanne\", \"side\": \"Buyer\", \"state\": \"California\", \"tons\": 35}, {\"variety\": \"Marsanne\", \"side\": \"Buyer\", \"state\": \"Oregon\", \"tons\": 120}, {\"variety\": \"Marsanne\", \"side\": \"Buyer\", \"state\": \"Washington\", \"tons\": 110}, {\"variety\": \"Merlot\", \"side\": \"Buyer\", \"state\": \"California\", \"tons\": 60}, {\"variety\": \"Merlot\", \"side\": \"Buyer\", \"state\": \"Oregon\", \"tons\": 95}, {\"variety\": \"Merlot\", \"side\": \"Buyer\", \"state\": \"Washington\", \"tons\": 155}, {\"variety\": \"Mourvedre\", \"side\": \"Buyer\", \"state\": \"California\", \"tons\": 50}, {\"variety\": \"Mourvedre\", \"side\": \"Buyer\", \"state\": \"Oregon\", \"tons\": 205}, {\"variety\": \"Mourvedre\", \"side\": \"Buyer\", \"state\": \"Washington\", \"tons\": 95}, {\"variety\": \"Nebbiolo\", \"side\": \"Buyer\", \"state\": \"California\", \"tons\": 90}, {\"variety\": \"Nebbiolo\", \"side\": \"Buyer\", \"state\": \"Oregon\", \"tons\": 85}, {\"variety\": \"Nebbiolo\", \"side\": \"Buyer\", \"state\": \"Washington\", \"tons\": 130}, {\"variety\": \"Petit Verdot\", \"side\": \"Buyer\", \"state\": \"California\", \"tons\": 155}, {\"variety\": \"Petit Verdot\", \"side\": \"Buyer\", \"state\": \"Oregon\", \"tons\": 30}, {\"variety\": \"Petit Verdot\", \"side\": \"Buyer\", \"state\": \"Washington\", \"tons\": 190}, {\"variety\": \"Pinot blanc\", \"side\": \"Buyer\", \"state\": \"California\", \"tons\": 115}, {\"variety\": \"Pinot blanc\", \"side\": \"Buyer\", \"state\": \"Oregon\", \"tons\": 165}, {\"variety\": \"Pinot blanc\", \"side\": \"Buyer\", \"state\": \"Washington\", \"tons\": 230}, {\"variety\": \"Pinot gris\", \"side\": \"Buyer\", \"state\": \"California\", \"tons\": 105}, {\"variety\": \"Pinot gris\", \"side\": \"Buyer\", \"state\": \"Oregon\", \"tons\": 45}, {\"variety\": \"Pinot gris\", \"side\": \"Buyer\", \"state\": \"Washington\", \"tons\": 65}, {\"variety\": \"Pinot noir\", \"side\": \"Buyer\", \"state\": \"California\", \"tons\": 65}, {\"variety\": \"Pinot noir\", \"side\": \"Buyer\", \"state\": \"Oregon\", \"tons\": 25}, {\"variety\": \"Pinot noir\", \"side\": \"Buyer\", \"state\": \"Washington\", \"tons\": 130}, {\"variety\": \"Riesling\", \"side\": \"Buyer\", \"state\": \"California\", \"tons\": 125}, {\"variety\": \"Riesling\", \"side\": \"Buyer\", \"state\": \"Oregon\", \"tons\": 205}, {\"variety\": \"Riesling\", \"side\": \"Buyer\", \"state\": \"Washington\", \"tons\": 90}, {\"variety\": \"Roussanne\", \"side\": \"Buyer\", \"state\": \"California\", \"tons\": 80}, {\"variety\": \"Roussanne\", \"side\": \"Buyer\", \"state\": \"Oregon\", \"tons\": 210}, {\"variety\": \"Roussanne\", \"side\": \"Buyer\", \"state\": \"Washington\", \"tons\": 80}, {\"variety\": \"Sangiovese\", \"side\": \"Buyer\", \"state\": \"California\", \"tons\": 85}, {\"variety\": \"Sangiovese\", \"side\": \"Buyer\", \"state\": \"Oregon\", \"tons\": 165}, {\"variety\": \"Sangiovese\", \"side\": \"Buyer\", \"state\": \"Washington\", \"tons\": 110}, {\"variety\": \"Sauvignon blanc\", \"side\": \"Buyer\", \"state\": \"California\", \"tons\": 45}, {\"variety\": \"Sauvignon blanc\", \"side\": \"Buyer\", \"state\": \"Oregon\", \"tons\": 120}, {\"variety\": \"Sauvignon blanc\", \"side\": \"Buyer\", \"state\": \"Washington\", \"tons\": 125}, {\"variety\": \"Semillon\", \"side\": \"Buyer\", \"state\": \"California\", \"tons\": 115}, {\"variety\": \"Semillon\", \"side\": \"Buyer\", \"state\": \"Oregon\", \"tons\": 240}, {\"variety\": \"Semillon\", \"side\": \"Buyer\", \"state\": \"Washington\", \"tons\": 150}, {\"variety\": \"Syrah\", \"side\": \"Buyer\", \"state\": \"California\", \"tons\": 80}, {\"variety\": \"Syrah\", \"side\": \"Buyer\", \"state\": \"Oregon\", \"tons\": 295}, {\"variety\": \"Syrah\", \"side\": \"Buyer\", \"state\": \"Washington\", \"tons\": 215}, {\"variety\": \"Viognier\", \"side\": \"Buyer\", \"state\": \"California\", \"tons\": 40}, {\"variety\": \"Viognier\", \"side\": \"Buyer\", \"state\": \"Oregon\", \"tons\": 50}, {\"variety\": \"Viognier\", \"side\": \"Buyer\", \"state\": \"Washington\", \"tons\": 200}]}, \"encoding\": {\"color\": {\"field\": \"state\", \"title\": \"State\", \"type\": \"nominal\"}, \"tooltip\": [{\"field\": \"state\", \"type\": \"nominal\"}, {\"field\": \"variety\", \"type\": \"nominal\"}, {\"field\": \"tons\", \"type\": \"quantitative\"}], \"x\": {\"field\": \"variety\", \"sort\": \"-y\", \"title\": \"Variety\", \"type\": \"nominal\"}, \"y\": {\"field\": \"tons\", \"type\": \"quantitative\"}}, \"height\": 400, \"padding\": 24, \"title\": \"Tons by State by Variety\", \"width\": 480, \"$schema\": \"https://vega.github.io/schema/vega-lite/v4.17.0.json\"}, {\"mode\": \"vega-lite\"});\n</script>",
      "text/plain": "alt.Chart(...)"
     },
     "execution_count": 25,
     "metadata": {},
     "output_type": "execute_result"
    }
   ],
   "source": [
    "chart_buyer = requests.get('http://127.0.0.1:8000/graph/df-grapes-by-state-buyer').json()\n",
    "Chart.from_dict(chart_buyer)"
   ]
  },
  {
   "cell_type": "code",
   "execution_count": 26,
   "id": "34eba267",
   "metadata": {
    "pycharm": {
     "name": "#%%\n"
    }
   },
   "outputs": [
    {
     "data": {
      "text/html": "\n<div id=\"altair-viz-9c2d150fd4fa40009d51bcbb7a75d0d5\"></div>\n<script type=\"text/javascript\">\n  var VEGA_DEBUG = (typeof VEGA_DEBUG == \"undefined\") ? {} : VEGA_DEBUG;\n  (function(spec, embedOpt){\n    let outputDiv = document.currentScript.previousElementSibling;\n    if (outputDiv.id !== \"altair-viz-9c2d150fd4fa40009d51bcbb7a75d0d5\") {\n      outputDiv = document.getElementById(\"altair-viz-9c2d150fd4fa40009d51bcbb7a75d0d5\");\n    }\n    const paths = {\n      \"vega\": \"https://cdn.jsdelivr.net/npm//vega@5?noext\",\n      \"vega-lib\": \"https://cdn.jsdelivr.net/npm//vega-lib?noext\",\n      \"vega-lite\": \"https://cdn.jsdelivr.net/npm//vega-lite@4.17.0?noext\",\n      \"vega-embed\": \"https://cdn.jsdelivr.net/npm//vega-embed@6?noext\",\n    };\n\n    function maybeLoadScript(lib, version) {\n      var key = `${lib.replace(\"-\", \"\")}_version`;\n      return (VEGA_DEBUG[key] == version) ?\n        Promise.resolve(paths[lib]) :\n        new Promise(function(resolve, reject) {\n          var s = document.createElement('script');\n          document.getElementsByTagName(\"head\")[0].appendChild(s);\n          s.async = true;\n          s.onload = () => {\n            VEGA_DEBUG[key] = version;\n            return resolve(paths[lib]);\n          };\n          s.onerror = () => reject(`Error loading script: ${paths[lib]}`);\n          s.src = paths[lib];\n        });\n    }\n\n    function showError(err) {\n      outputDiv.innerHTML = `<div class=\"error\" style=\"color:red;\">${err}</div>`;\n      throw err;\n    }\n\n    function displayChart(vegaEmbed) {\n      vegaEmbed(outputDiv, spec, embedOpt)\n        .catch(err => showError(`Javascript Error: ${err.message}<br>This usually means there's a typo in your chart specification. See the javascript console for the full traceback.`));\n    }\n\n    if(typeof define === \"function\" && define.amd) {\n      requirejs.config({paths});\n      require([\"vega-embed\"], displayChart, err => showError(`Error loading script: ${err.message}`));\n    } else {\n      maybeLoadScript(\"vega\", \"5\")\n        .then(() => maybeLoadScript(\"vega-lite\", \"4.17.0\"))\n        .then(() => maybeLoadScript(\"vega-embed\", \"6\"))\n        .catch(showError)\n        .then(() => displayChart(vegaEmbed));\n    }\n  })({\"config\": {\"view\": {\"continuousWidth\": 400, \"continuousHeight\": 300, \"stroke\": \"#FFF\"}, \"legend\": {\"padding\": 24}, \"title\": {\"fontSize\": 20, \"offset\": 24}}, \"data\": {\"name\": \"data-43873f97a5cebc0b8b908b099854c52b\"}, \"mark\": \"bar\", \"datasets\": {\"data-43873f97a5cebc0b8b908b099854c52b\": [{\"variety\": \"Cabernet Sauvignon\", \"side\": \"Seller\", \"state\": \"California\", \"tons\": 45}, {\"variety\": \"Cabernet Sauvignon\", \"side\": \"Seller\", \"state\": \"Oregon\", \"tons\": 55}, {\"variety\": \"Cabernet Sauvignon\", \"side\": \"Seller\", \"state\": \"Washington\", \"tons\": 10}, {\"variety\": \"Chardonnay\", \"side\": \"Seller\", \"state\": \"California\", \"tons\": 45}, {\"variety\": \"Chardonnay\", \"side\": \"Seller\", \"state\": \"Oregon\", \"tons\": 80}, {\"variety\": \"Chardonnay\", \"side\": \"Seller\", \"state\": \"Washington\", \"tons\": 15}, {\"variety\": \"Granache\", \"side\": \"Seller\", \"state\": \"Oregon\", \"tons\": 45}, {\"variety\": \"Granache\", \"side\": \"Seller\", \"state\": \"Washington\", \"tons\": 15}, {\"variety\": \"Marsanne\", \"side\": \"Seller\", \"state\": \"California\", \"tons\": 95}, {\"variety\": \"Marsanne\", \"side\": \"Seller\", \"state\": \"Oregon\", \"tons\": 10}, {\"variety\": \"Marsanne\", \"side\": \"Seller\", \"state\": \"Washington\", \"tons\": 40}, {\"variety\": \"Merlot\", \"side\": \"Seller\", \"state\": \"California\", \"tons\": 25}, {\"variety\": \"Merlot\", \"side\": \"Seller\", \"state\": \"Oregon\", \"tons\": 80}, {\"variety\": \"Merlot\", \"side\": \"Seller\", \"state\": \"Washington\", \"tons\": 70}, {\"variety\": \"Mourvedre\", \"side\": \"Seller\", \"state\": \"California\", \"tons\": 80}, {\"variety\": \"Mourvedre\", \"side\": \"Seller\", \"state\": \"Oregon\", \"tons\": 125}, {\"variety\": \"Mourvedre\", \"side\": \"Seller\", \"state\": \"Washington\", \"tons\": 30}, {\"variety\": \"Nebbiolo\", \"side\": \"Seller\", \"state\": \"Oregon\", \"tons\": 100}, {\"variety\": \"Petit Verdot\", \"side\": \"Seller\", \"state\": \"California\", \"tons\": 80}, {\"variety\": \"Petit Verdot\", \"side\": \"Seller\", \"state\": \"Oregon\", \"tons\": 110}, {\"variety\": \"Pinot blanc\", \"side\": \"Seller\", \"state\": \"California\", \"tons\": 85}, {\"variety\": \"Pinot blanc\", \"side\": \"Seller\", \"state\": \"Oregon\", \"tons\": 100}, {\"variety\": \"Pinot blanc\", \"side\": \"Seller\", \"state\": \"Washington\", \"tons\": 10}, {\"variety\": \"Pinot gris\", \"side\": \"Seller\", \"state\": \"California\", \"tons\": 135}, {\"variety\": \"Pinot gris\", \"side\": \"Seller\", \"state\": \"Oregon\", \"tons\": 25}, {\"variety\": \"Pinot gris\", \"side\": \"Seller\", \"state\": \"Washington\", \"tons\": 65}, {\"variety\": \"Pinot noir\", \"side\": \"Seller\", \"state\": \"California\", \"tons\": 145}, {\"variety\": \"Pinot noir\", \"side\": \"Seller\", \"state\": \"Oregon\", \"tons\": 50}, {\"variety\": \"Riesling\", \"side\": \"Seller\", \"state\": \"California\", \"tons\": 150}, {\"variety\": \"Riesling\", \"side\": \"Seller\", \"state\": \"Oregon\", \"tons\": 50}, {\"variety\": \"Riesling\", \"side\": \"Seller\", \"state\": \"Washington\", \"tons\": 20}, {\"variety\": \"Roussanne\", \"side\": \"Seller\", \"state\": \"California\", \"tons\": 110}, {\"variety\": \"Roussanne\", \"side\": \"Seller\", \"state\": \"Oregon\", \"tons\": 5}, {\"variety\": \"Roussanne\", \"side\": \"Seller\", \"state\": \"Washington\", \"tons\": 115}, {\"variety\": \"Sangiovese\", \"side\": \"Seller\", \"state\": \"California\", \"tons\": 95}, {\"variety\": \"Sangiovese\", \"side\": \"Seller\", \"state\": \"Oregon\", \"tons\": 45}, {\"variety\": \"Sangiovese\", \"side\": \"Seller\", \"state\": \"Washington\", \"tons\": 45}, {\"variety\": \"Sauvignon blanc\", \"side\": \"Seller\", \"state\": \"California\", \"tons\": 170}, {\"variety\": \"Semillon\", \"side\": \"Seller\", \"state\": \"California\", \"tons\": 110}, {\"variety\": \"Semillon\", \"side\": \"Seller\", \"state\": \"Oregon\", \"tons\": 35}, {\"variety\": \"Semillon\", \"side\": \"Seller\", \"state\": \"Washington\", \"tons\": 35}, {\"variety\": \"Syrah\", \"side\": \"Seller\", \"state\": \"California\", \"tons\": 45}, {\"variety\": \"Syrah\", \"side\": \"Seller\", \"state\": \"Oregon\", \"tons\": 50}, {\"variety\": \"Syrah\", \"side\": \"Seller\", \"state\": \"Washington\", \"tons\": 35}, {\"variety\": \"Viognier\", \"side\": \"Seller\", \"state\": \"California\", \"tons\": 10}, {\"variety\": \"Viognier\", \"side\": \"Seller\", \"state\": \"Oregon\", \"tons\": 70}, {\"variety\": \"Viognier\", \"side\": \"Seller\", \"state\": \"Washington\", \"tons\": 15}]}, \"encoding\": {\"color\": {\"field\": \"state\", \"title\": \"State\", \"type\": \"nominal\"}, \"tooltip\": [{\"field\": \"state\", \"type\": \"nominal\"}, {\"field\": \"variety\", \"type\": \"nominal\"}, {\"field\": \"tons\", \"type\": \"quantitative\"}], \"x\": {\"field\": \"variety\", \"sort\": \"-y\", \"title\": \"Variety\", \"type\": \"nominal\"}, \"y\": {\"field\": \"tons\", \"type\": \"quantitative\"}}, \"height\": 400, \"padding\": 24, \"title\": \"Tons by State by Variety\", \"width\": 480, \"$schema\": \"https://vega.github.io/schema/vega-lite/v4.17.0.json\"}, {\"mode\": \"vega-lite\"});\n</script>",
      "text/plain": "alt.Chart(...)"
     },
     "execution_count": 26,
     "metadata": {},
     "output_type": "execute_result"
    }
   ],
   "source": [
    "chart_seller = requests.get('http://127.0.0.1:8000/graph/df-grapes-by-state-seller').json()\n",
    "Chart.from_dict(chart_seller)"
   ]
  },
  {
   "cell_type": "code",
   "execution_count": 27,
   "id": "f9ad11f4",
   "metadata": {
    "pycharm": {
     "name": "#%%\n"
    }
   },
   "outputs": [
    {
     "data": {
      "text/plain": "              variety   side       state  tons\n0  Cabernet Sauvignon  Buyer  California    90\n1  Cabernet Sauvignon  Buyer      Oregon   170\n2  Cabernet Sauvignon  Buyer  Washington   240\n3          Chardonnay  Buyer  California   285\n4          Chardonnay  Buyer      Oregon   185",
      "text/html": "<div>\n<style scoped>\n    .dataframe tbody tr th:only-of-type {\n        vertical-align: middle;\n    }\n\n    .dataframe tbody tr th {\n        vertical-align: top;\n    }\n\n    .dataframe thead th {\n        text-align: right;\n    }\n</style>\n<table border=\"1\" class=\"dataframe\">\n  <thead>\n    <tr style=\"text-align: right;\">\n      <th></th>\n      <th>variety</th>\n      <th>side</th>\n      <th>state</th>\n      <th>tons</th>\n    </tr>\n  </thead>\n  <tbody>\n    <tr>\n      <th>0</th>\n      <td>Cabernet Sauvignon</td>\n      <td>Buyer</td>\n      <td>California</td>\n      <td>90</td>\n    </tr>\n    <tr>\n      <th>1</th>\n      <td>Cabernet Sauvignon</td>\n      <td>Buyer</td>\n      <td>Oregon</td>\n      <td>170</td>\n    </tr>\n    <tr>\n      <th>2</th>\n      <td>Cabernet Sauvignon</td>\n      <td>Buyer</td>\n      <td>Washington</td>\n      <td>240</td>\n    </tr>\n    <tr>\n      <th>3</th>\n      <td>Chardonnay</td>\n      <td>Buyer</td>\n      <td>California</td>\n      <td>285</td>\n    </tr>\n    <tr>\n      <th>4</th>\n      <td>Chardonnay</td>\n      <td>Buyer</td>\n      <td>Oregon</td>\n      <td>185</td>\n    </tr>\n  </tbody>\n</table>\n</div>"
     },
     "execution_count": 27,
     "metadata": {},
     "output_type": "execute_result"
    }
   ],
   "source": [
    "total = concat([grape_buyers, grape_sellers])\n",
    "total.head()"
   ]
  },
  {
   "cell_type": "code",
   "execution_count": 28,
   "id": "726bedae",
   "metadata": {
    "pycharm": {
     "name": "#%%\n"
    }
   },
   "outputs": [],
   "source": [
    "def title_fix(string: str) -> str:\n",
    "    return string.title().replace(\"_\", \" \")"
   ]
  },
  {
   "cell_type": "code",
   "execution_count": 29,
   "id": "7527837c",
   "metadata": {
    "pycharm": {
     "name": "#%%\n"
    }
   },
   "outputs": [],
   "source": [
    "def grouped_bar_chart(df: DataFrame, column_1: str, column_2: str, column_3: str, column_4: str) -> Chart:\n",
    "    return Chart(\n",
    "        df,\n",
    "        title=f\"{title_fix(column_1)} per {title_fix(column_3)} by {title_fix(column_2)} by {title_fix(column_4)}\",\n",
    "    ).mark_bar().encode(\n",
    "        column=Column(column_4),\n",
    "        x=X(column_3, title=title_fix(column_3), sort=\"-y\"),\n",
    "        y=Y(column_1),\n",
    "        color=Color(column_2, title=title_fix(column_2)),\n",
    "        tooltip=Tooltip([column_2, column_3, column_1])\n",
    "    ).properties(\n",
    "        width=480,\n",
    "        height=400,\n",
    "        padding=24,\n",
    "    ).configure(\n",
    "        legend={\"padding\": 24},\n",
    "        title={\"fontSize\": 20, \"offset\": 24},\n",
    "        view={\"stroke\": \"#FFF\"},\n",
    "    )\n"
   ]
  },
  {
   "cell_type": "code",
   "execution_count": 30,
   "id": "f4faf389",
   "metadata": {
    "pycharm": {
     "name": "#%%\n"
    }
   },
   "outputs": [
    {
     "data": {
      "text/html": "\n<div id=\"altair-viz-7c169d3c15644c29b5994f84db4661d0\"></div>\n<script type=\"text/javascript\">\n  var VEGA_DEBUG = (typeof VEGA_DEBUG == \"undefined\") ? {} : VEGA_DEBUG;\n  (function(spec, embedOpt){\n    let outputDiv = document.currentScript.previousElementSibling;\n    if (outputDiv.id !== \"altair-viz-7c169d3c15644c29b5994f84db4661d0\") {\n      outputDiv = document.getElementById(\"altair-viz-7c169d3c15644c29b5994f84db4661d0\");\n    }\n    const paths = {\n      \"vega\": \"https://cdn.jsdelivr.net/npm//vega@5?noext\",\n      \"vega-lib\": \"https://cdn.jsdelivr.net/npm//vega-lib?noext\",\n      \"vega-lite\": \"https://cdn.jsdelivr.net/npm//vega-lite@4.17.0?noext\",\n      \"vega-embed\": \"https://cdn.jsdelivr.net/npm//vega-embed@6?noext\",\n    };\n\n    function maybeLoadScript(lib, version) {\n      var key = `${lib.replace(\"-\", \"\")}_version`;\n      return (VEGA_DEBUG[key] == version) ?\n        Promise.resolve(paths[lib]) :\n        new Promise(function(resolve, reject) {\n          var s = document.createElement('script');\n          document.getElementsByTagName(\"head\")[0].appendChild(s);\n          s.async = true;\n          s.onload = () => {\n            VEGA_DEBUG[key] = version;\n            return resolve(paths[lib]);\n          };\n          s.onerror = () => reject(`Error loading script: ${paths[lib]}`);\n          s.src = paths[lib];\n        });\n    }\n\n    function showError(err) {\n      outputDiv.innerHTML = `<div class=\"error\" style=\"color:red;\">${err}</div>`;\n      throw err;\n    }\n\n    function displayChart(vegaEmbed) {\n      vegaEmbed(outputDiv, spec, embedOpt)\n        .catch(err => showError(`Javascript Error: ${err.message}<br>This usually means there's a typo in your chart specification. See the javascript console for the full traceback.`));\n    }\n\n    if(typeof define === \"function\" && define.amd) {\n      requirejs.config({paths});\n      require([\"vega-embed\"], displayChart, err => showError(`Error loading script: ${err.message}`));\n    } else {\n      maybeLoadScript(\"vega\", \"5\")\n        .then(() => maybeLoadScript(\"vega-lite\", \"4.17.0\"))\n        .then(() => maybeLoadScript(\"vega-embed\", \"6\"))\n        .catch(showError)\n        .then(() => displayChart(vegaEmbed));\n    }\n  })({\"config\": {\"view\": {\"continuousWidth\": 400, \"continuousHeight\": 300, \"stroke\": \"#FFF\"}, \"legend\": {\"padding\": 24}, \"title\": {\"fontSize\": 20, \"offset\": 24}}, \"data\": {\"name\": \"data-2a7bdd573226d9da8a24cc96a7fb8e28\"}, \"mark\": \"bar\", \"encoding\": {\"color\": {\"field\": \"side\", \"title\": \"Side\", \"type\": \"nominal\"}, \"column\": {\"field\": \"state\", \"type\": \"nominal\"}, \"tooltip\": [{\"field\": \"side\", \"type\": \"nominal\"}, {\"field\": \"variety\", \"type\": \"nominal\"}, {\"field\": \"tons\", \"type\": \"quantitative\"}], \"x\": {\"field\": \"variety\", \"sort\": \"-y\", \"title\": \"Variety\", \"type\": \"nominal\"}, \"y\": {\"field\": \"tons\", \"type\": \"quantitative\"}}, \"height\": 400, \"padding\": 24, \"title\": \"Tons per Variety by Side by State\", \"width\": 480, \"$schema\": \"https://vega.github.io/schema/vega-lite/v4.17.0.json\", \"datasets\": {\"data-2a7bdd573226d9da8a24cc96a7fb8e28\": [{\"variety\": \"Cabernet Sauvignon\", \"side\": \"Buyer\", \"state\": \"California\", \"tons\": 90}, {\"variety\": \"Cabernet Sauvignon\", \"side\": \"Buyer\", \"state\": \"Oregon\", \"tons\": 170}, {\"variety\": \"Cabernet Sauvignon\", \"side\": \"Buyer\", \"state\": \"Washington\", \"tons\": 240}, {\"variety\": \"Chardonnay\", \"side\": \"Buyer\", \"state\": \"California\", \"tons\": 285}, {\"variety\": \"Chardonnay\", \"side\": \"Buyer\", \"state\": \"Oregon\", \"tons\": 185}, {\"variety\": \"Chardonnay\", \"side\": \"Buyer\", \"state\": \"Washington\", \"tons\": 115}, {\"variety\": \"Granache\", \"side\": \"Buyer\", \"state\": \"California\", \"tons\": 145}, {\"variety\": \"Granache\", \"side\": \"Buyer\", \"state\": \"Oregon\", \"tons\": 205}, {\"variety\": \"Granache\", \"side\": \"Buyer\", \"state\": \"Washington\", \"tons\": 185}, {\"variety\": \"Marsanne\", \"side\": \"Buyer\", \"state\": \"California\", \"tons\": 35}, {\"variety\": \"Marsanne\", \"side\": \"Buyer\", \"state\": \"Oregon\", \"tons\": 120}, {\"variety\": \"Marsanne\", \"side\": \"Buyer\", \"state\": \"Washington\", \"tons\": 110}, {\"variety\": \"Merlot\", \"side\": \"Buyer\", \"state\": \"California\", \"tons\": 60}, {\"variety\": \"Merlot\", \"side\": \"Buyer\", \"state\": \"Oregon\", \"tons\": 95}, {\"variety\": \"Merlot\", \"side\": \"Buyer\", \"state\": \"Washington\", \"tons\": 155}, {\"variety\": \"Mourvedre\", \"side\": \"Buyer\", \"state\": \"California\", \"tons\": 50}, {\"variety\": \"Mourvedre\", \"side\": \"Buyer\", \"state\": \"Oregon\", \"tons\": 205}, {\"variety\": \"Mourvedre\", \"side\": \"Buyer\", \"state\": \"Washington\", \"tons\": 95}, {\"variety\": \"Nebbiolo\", \"side\": \"Buyer\", \"state\": \"California\", \"tons\": 90}, {\"variety\": \"Nebbiolo\", \"side\": \"Buyer\", \"state\": \"Oregon\", \"tons\": 85}, {\"variety\": \"Nebbiolo\", \"side\": \"Buyer\", \"state\": \"Washington\", \"tons\": 130}, {\"variety\": \"Petit Verdot\", \"side\": \"Buyer\", \"state\": \"California\", \"tons\": 155}, {\"variety\": \"Petit Verdot\", \"side\": \"Buyer\", \"state\": \"Oregon\", \"tons\": 30}, {\"variety\": \"Petit Verdot\", \"side\": \"Buyer\", \"state\": \"Washington\", \"tons\": 190}, {\"variety\": \"Pinot blanc\", \"side\": \"Buyer\", \"state\": \"California\", \"tons\": 115}, {\"variety\": \"Pinot blanc\", \"side\": \"Buyer\", \"state\": \"Oregon\", \"tons\": 165}, {\"variety\": \"Pinot blanc\", \"side\": \"Buyer\", \"state\": \"Washington\", \"tons\": 230}, {\"variety\": \"Pinot gris\", \"side\": \"Buyer\", \"state\": \"California\", \"tons\": 105}, {\"variety\": \"Pinot gris\", \"side\": \"Buyer\", \"state\": \"Oregon\", \"tons\": 45}, {\"variety\": \"Pinot gris\", \"side\": \"Buyer\", \"state\": \"Washington\", \"tons\": 65}, {\"variety\": \"Pinot noir\", \"side\": \"Buyer\", \"state\": \"California\", \"tons\": 65}, {\"variety\": \"Pinot noir\", \"side\": \"Buyer\", \"state\": \"Oregon\", \"tons\": 25}, {\"variety\": \"Pinot noir\", \"side\": \"Buyer\", \"state\": \"Washington\", \"tons\": 130}, {\"variety\": \"Riesling\", \"side\": \"Buyer\", \"state\": \"California\", \"tons\": 125}, {\"variety\": \"Riesling\", \"side\": \"Buyer\", \"state\": \"Oregon\", \"tons\": 205}, {\"variety\": \"Riesling\", \"side\": \"Buyer\", \"state\": \"Washington\", \"tons\": 90}, {\"variety\": \"Roussanne\", \"side\": \"Buyer\", \"state\": \"California\", \"tons\": 80}, {\"variety\": \"Roussanne\", \"side\": \"Buyer\", \"state\": \"Oregon\", \"tons\": 210}, {\"variety\": \"Roussanne\", \"side\": \"Buyer\", \"state\": \"Washington\", \"tons\": 80}, {\"variety\": \"Sangiovese\", \"side\": \"Buyer\", \"state\": \"California\", \"tons\": 85}, {\"variety\": \"Sangiovese\", \"side\": \"Buyer\", \"state\": \"Oregon\", \"tons\": 165}, {\"variety\": \"Sangiovese\", \"side\": \"Buyer\", \"state\": \"Washington\", \"tons\": 110}, {\"variety\": \"Sauvignon blanc\", \"side\": \"Buyer\", \"state\": \"California\", \"tons\": 45}, {\"variety\": \"Sauvignon blanc\", \"side\": \"Buyer\", \"state\": \"Oregon\", \"tons\": 120}, {\"variety\": \"Sauvignon blanc\", \"side\": \"Buyer\", \"state\": \"Washington\", \"tons\": 125}, {\"variety\": \"Semillon\", \"side\": \"Buyer\", \"state\": \"California\", \"tons\": 115}, {\"variety\": \"Semillon\", \"side\": \"Buyer\", \"state\": \"Oregon\", \"tons\": 240}, {\"variety\": \"Semillon\", \"side\": \"Buyer\", \"state\": \"Washington\", \"tons\": 150}, {\"variety\": \"Syrah\", \"side\": \"Buyer\", \"state\": \"California\", \"tons\": 80}, {\"variety\": \"Syrah\", \"side\": \"Buyer\", \"state\": \"Oregon\", \"tons\": 295}, {\"variety\": \"Syrah\", \"side\": \"Buyer\", \"state\": \"Washington\", \"tons\": 215}, {\"variety\": \"Viognier\", \"side\": \"Buyer\", \"state\": \"California\", \"tons\": 40}, {\"variety\": \"Viognier\", \"side\": \"Buyer\", \"state\": \"Oregon\", \"tons\": 50}, {\"variety\": \"Viognier\", \"side\": \"Buyer\", \"state\": \"Washington\", \"tons\": 200}, {\"variety\": \"Cabernet Sauvignon\", \"side\": \"Seller\", \"state\": \"California\", \"tons\": 45}, {\"variety\": \"Cabernet Sauvignon\", \"side\": \"Seller\", \"state\": \"Oregon\", \"tons\": 55}, {\"variety\": \"Cabernet Sauvignon\", \"side\": \"Seller\", \"state\": \"Washington\", \"tons\": 10}, {\"variety\": \"Chardonnay\", \"side\": \"Seller\", \"state\": \"California\", \"tons\": 45}, {\"variety\": \"Chardonnay\", \"side\": \"Seller\", \"state\": \"Oregon\", \"tons\": 80}, {\"variety\": \"Chardonnay\", \"side\": \"Seller\", \"state\": \"Washington\", \"tons\": 15}, {\"variety\": \"Granache\", \"side\": \"Seller\", \"state\": \"Oregon\", \"tons\": 45}, {\"variety\": \"Granache\", \"side\": \"Seller\", \"state\": \"Washington\", \"tons\": 15}, {\"variety\": \"Marsanne\", \"side\": \"Seller\", \"state\": \"California\", \"tons\": 95}, {\"variety\": \"Marsanne\", \"side\": \"Seller\", \"state\": \"Oregon\", \"tons\": 10}, {\"variety\": \"Marsanne\", \"side\": \"Seller\", \"state\": \"Washington\", \"tons\": 40}, {\"variety\": \"Merlot\", \"side\": \"Seller\", \"state\": \"California\", \"tons\": 25}, {\"variety\": \"Merlot\", \"side\": \"Seller\", \"state\": \"Oregon\", \"tons\": 80}, {\"variety\": \"Merlot\", \"side\": \"Seller\", \"state\": \"Washington\", \"tons\": 70}, {\"variety\": \"Mourvedre\", \"side\": \"Seller\", \"state\": \"California\", \"tons\": 80}, {\"variety\": \"Mourvedre\", \"side\": \"Seller\", \"state\": \"Oregon\", \"tons\": 125}, {\"variety\": \"Mourvedre\", \"side\": \"Seller\", \"state\": \"Washington\", \"tons\": 30}, {\"variety\": \"Nebbiolo\", \"side\": \"Seller\", \"state\": \"Oregon\", \"tons\": 100}, {\"variety\": \"Petit Verdot\", \"side\": \"Seller\", \"state\": \"California\", \"tons\": 80}, {\"variety\": \"Petit Verdot\", \"side\": \"Seller\", \"state\": \"Oregon\", \"tons\": 110}, {\"variety\": \"Pinot blanc\", \"side\": \"Seller\", \"state\": \"California\", \"tons\": 85}, {\"variety\": \"Pinot blanc\", \"side\": \"Seller\", \"state\": \"Oregon\", \"tons\": 100}, {\"variety\": \"Pinot blanc\", \"side\": \"Seller\", \"state\": \"Washington\", \"tons\": 10}, {\"variety\": \"Pinot gris\", \"side\": \"Seller\", \"state\": \"California\", \"tons\": 135}, {\"variety\": \"Pinot gris\", \"side\": \"Seller\", \"state\": \"Oregon\", \"tons\": 25}, {\"variety\": \"Pinot gris\", \"side\": \"Seller\", \"state\": \"Washington\", \"tons\": 65}, {\"variety\": \"Pinot noir\", \"side\": \"Seller\", \"state\": \"California\", \"tons\": 145}, {\"variety\": \"Pinot noir\", \"side\": \"Seller\", \"state\": \"Oregon\", \"tons\": 50}, {\"variety\": \"Riesling\", \"side\": \"Seller\", \"state\": \"California\", \"tons\": 150}, {\"variety\": \"Riesling\", \"side\": \"Seller\", \"state\": \"Oregon\", \"tons\": 50}, {\"variety\": \"Riesling\", \"side\": \"Seller\", \"state\": \"Washington\", \"tons\": 20}, {\"variety\": \"Roussanne\", \"side\": \"Seller\", \"state\": \"California\", \"tons\": 110}, {\"variety\": \"Roussanne\", \"side\": \"Seller\", \"state\": \"Oregon\", \"tons\": 5}, {\"variety\": \"Roussanne\", \"side\": \"Seller\", \"state\": \"Washington\", \"tons\": 115}, {\"variety\": \"Sangiovese\", \"side\": \"Seller\", \"state\": \"California\", \"tons\": 95}, {\"variety\": \"Sangiovese\", \"side\": \"Seller\", \"state\": \"Oregon\", \"tons\": 45}, {\"variety\": \"Sangiovese\", \"side\": \"Seller\", \"state\": \"Washington\", \"tons\": 45}, {\"variety\": \"Sauvignon blanc\", \"side\": \"Seller\", \"state\": \"California\", \"tons\": 170}, {\"variety\": \"Semillon\", \"side\": \"Seller\", \"state\": \"California\", \"tons\": 110}, {\"variety\": \"Semillon\", \"side\": \"Seller\", \"state\": \"Oregon\", \"tons\": 35}, {\"variety\": \"Semillon\", \"side\": \"Seller\", \"state\": \"Washington\", \"tons\": 35}, {\"variety\": \"Syrah\", \"side\": \"Seller\", \"state\": \"California\", \"tons\": 45}, {\"variety\": \"Syrah\", \"side\": \"Seller\", \"state\": \"Oregon\", \"tons\": 50}, {\"variety\": \"Syrah\", \"side\": \"Seller\", \"state\": \"Washington\", \"tons\": 35}, {\"variety\": \"Viognier\", \"side\": \"Seller\", \"state\": \"California\", \"tons\": 10}, {\"variety\": \"Viognier\", \"side\": \"Seller\", \"state\": \"Oregon\", \"tons\": 70}, {\"variety\": \"Viognier\", \"side\": \"Seller\", \"state\": \"Washington\", \"tons\": 15}]}}, {\"mode\": \"vega-lite\"});\n</script>",
      "text/plain": "alt.Chart(...)"
     },
     "execution_count": 30,
     "metadata": {},
     "output_type": "execute_result"
    }
   ],
   "source": [
    "grouped_bar_chart(total, 'tons', 'side', 'variety', 'state')"
   ]
  },
  {
   "cell_type": "code",
   "execution_count": 31,
   "id": "7689cfa2",
   "metadata": {
    "pycharm": {
     "name": "#%%\n"
    }
   },
   "outputs": [
    {
     "data": {
      "text/html": "\n<div id=\"altair-viz-4511d7fbe73f4944a831182f11f2e3bf\"></div>\n<script type=\"text/javascript\">\n  var VEGA_DEBUG = (typeof VEGA_DEBUG == \"undefined\") ? {} : VEGA_DEBUG;\n  (function(spec, embedOpt){\n    let outputDiv = document.currentScript.previousElementSibling;\n    if (outputDiv.id !== \"altair-viz-4511d7fbe73f4944a831182f11f2e3bf\") {\n      outputDiv = document.getElementById(\"altair-viz-4511d7fbe73f4944a831182f11f2e3bf\");\n    }\n    const paths = {\n      \"vega\": \"https://cdn.jsdelivr.net/npm//vega@5?noext\",\n      \"vega-lib\": \"https://cdn.jsdelivr.net/npm//vega-lib?noext\",\n      \"vega-lite\": \"https://cdn.jsdelivr.net/npm//vega-lite@4.17.0?noext\",\n      \"vega-embed\": \"https://cdn.jsdelivr.net/npm//vega-embed@6?noext\",\n    };\n\n    function maybeLoadScript(lib, version) {\n      var key = `${lib.replace(\"-\", \"\")}_version`;\n      return (VEGA_DEBUG[key] == version) ?\n        Promise.resolve(paths[lib]) :\n        new Promise(function(resolve, reject) {\n          var s = document.createElement('script');\n          document.getElementsByTagName(\"head\")[0].appendChild(s);\n          s.async = true;\n          s.onload = () => {\n            VEGA_DEBUG[key] = version;\n            return resolve(paths[lib]);\n          };\n          s.onerror = () => reject(`Error loading script: ${paths[lib]}`);\n          s.src = paths[lib];\n        });\n    }\n\n    function showError(err) {\n      outputDiv.innerHTML = `<div class=\"error\" style=\"color:red;\">${err}</div>`;\n      throw err;\n    }\n\n    function displayChart(vegaEmbed) {\n      vegaEmbed(outputDiv, spec, embedOpt)\n        .catch(err => showError(`Javascript Error: ${err.message}<br>This usually means there's a typo in your chart specification. See the javascript console for the full traceback.`));\n    }\n\n    if(typeof define === \"function\" && define.amd) {\n      requirejs.config({paths});\n      require([\"vega-embed\"], displayChart, err => showError(`Error loading script: ${err.message}`));\n    } else {\n      maybeLoadScript(\"vega\", \"5\")\n        .then(() => maybeLoadScript(\"vega-lite\", \"4.17.0\"))\n        .then(() => maybeLoadScript(\"vega-embed\", \"6\"))\n        .catch(showError)\n        .then(() => displayChart(vegaEmbed));\n    }\n  })({\"config\": {\"view\": {\"continuousWidth\": 400, \"continuousHeight\": 300, \"stroke\": \"#FFF\"}, \"legend\": {\"padding\": 24}, \"title\": {\"fontSize\": 20, \"offset\": 24}}, \"data\": {\"name\": \"data-2a7bdd573226d9da8a24cc96a7fb8e28\"}, \"mark\": \"bar\", \"datasets\": {\"data-2a7bdd573226d9da8a24cc96a7fb8e28\": [{\"variety\": \"Cabernet Sauvignon\", \"side\": \"Buyer\", \"state\": \"California\", \"tons\": 90}, {\"variety\": \"Cabernet Sauvignon\", \"side\": \"Buyer\", \"state\": \"Oregon\", \"tons\": 170}, {\"variety\": \"Cabernet Sauvignon\", \"side\": \"Buyer\", \"state\": \"Washington\", \"tons\": 240}, {\"variety\": \"Chardonnay\", \"side\": \"Buyer\", \"state\": \"California\", \"tons\": 285}, {\"variety\": \"Chardonnay\", \"side\": \"Buyer\", \"state\": \"Oregon\", \"tons\": 185}, {\"variety\": \"Chardonnay\", \"side\": \"Buyer\", \"state\": \"Washington\", \"tons\": 115}, {\"variety\": \"Granache\", \"side\": \"Buyer\", \"state\": \"California\", \"tons\": 145}, {\"variety\": \"Granache\", \"side\": \"Buyer\", \"state\": \"Oregon\", \"tons\": 205}, {\"variety\": \"Granache\", \"side\": \"Buyer\", \"state\": \"Washington\", \"tons\": 185}, {\"variety\": \"Marsanne\", \"side\": \"Buyer\", \"state\": \"California\", \"tons\": 35}, {\"variety\": \"Marsanne\", \"side\": \"Buyer\", \"state\": \"Oregon\", \"tons\": 120}, {\"variety\": \"Marsanne\", \"side\": \"Buyer\", \"state\": \"Washington\", \"tons\": 110}, {\"variety\": \"Merlot\", \"side\": \"Buyer\", \"state\": \"California\", \"tons\": 60}, {\"variety\": \"Merlot\", \"side\": \"Buyer\", \"state\": \"Oregon\", \"tons\": 95}, {\"variety\": \"Merlot\", \"side\": \"Buyer\", \"state\": \"Washington\", \"tons\": 155}, {\"variety\": \"Mourvedre\", \"side\": \"Buyer\", \"state\": \"California\", \"tons\": 50}, {\"variety\": \"Mourvedre\", \"side\": \"Buyer\", \"state\": \"Oregon\", \"tons\": 205}, {\"variety\": \"Mourvedre\", \"side\": \"Buyer\", \"state\": \"Washington\", \"tons\": 95}, {\"variety\": \"Nebbiolo\", \"side\": \"Buyer\", \"state\": \"California\", \"tons\": 90}, {\"variety\": \"Nebbiolo\", \"side\": \"Buyer\", \"state\": \"Oregon\", \"tons\": 85}, {\"variety\": \"Nebbiolo\", \"side\": \"Buyer\", \"state\": \"Washington\", \"tons\": 130}, {\"variety\": \"Petit Verdot\", \"side\": \"Buyer\", \"state\": \"California\", \"tons\": 155}, {\"variety\": \"Petit Verdot\", \"side\": \"Buyer\", \"state\": \"Oregon\", \"tons\": 30}, {\"variety\": \"Petit Verdot\", \"side\": \"Buyer\", \"state\": \"Washington\", \"tons\": 190}, {\"variety\": \"Pinot blanc\", \"side\": \"Buyer\", \"state\": \"California\", \"tons\": 115}, {\"variety\": \"Pinot blanc\", \"side\": \"Buyer\", \"state\": \"Oregon\", \"tons\": 165}, {\"variety\": \"Pinot blanc\", \"side\": \"Buyer\", \"state\": \"Washington\", \"tons\": 230}, {\"variety\": \"Pinot gris\", \"side\": \"Buyer\", \"state\": \"California\", \"tons\": 105}, {\"variety\": \"Pinot gris\", \"side\": \"Buyer\", \"state\": \"Oregon\", \"tons\": 45}, {\"variety\": \"Pinot gris\", \"side\": \"Buyer\", \"state\": \"Washington\", \"tons\": 65}, {\"variety\": \"Pinot noir\", \"side\": \"Buyer\", \"state\": \"California\", \"tons\": 65}, {\"variety\": \"Pinot noir\", \"side\": \"Buyer\", \"state\": \"Oregon\", \"tons\": 25}, {\"variety\": \"Pinot noir\", \"side\": \"Buyer\", \"state\": \"Washington\", \"tons\": 130}, {\"variety\": \"Riesling\", \"side\": \"Buyer\", \"state\": \"California\", \"tons\": 125}, {\"variety\": \"Riesling\", \"side\": \"Buyer\", \"state\": \"Oregon\", \"tons\": 205}, {\"variety\": \"Riesling\", \"side\": \"Buyer\", \"state\": \"Washington\", \"tons\": 90}, {\"variety\": \"Roussanne\", \"side\": \"Buyer\", \"state\": \"California\", \"tons\": 80}, {\"variety\": \"Roussanne\", \"side\": \"Buyer\", \"state\": \"Oregon\", \"tons\": 210}, {\"variety\": \"Roussanne\", \"side\": \"Buyer\", \"state\": \"Washington\", \"tons\": 80}, {\"variety\": \"Sangiovese\", \"side\": \"Buyer\", \"state\": \"California\", \"tons\": 85}, {\"variety\": \"Sangiovese\", \"side\": \"Buyer\", \"state\": \"Oregon\", \"tons\": 165}, {\"variety\": \"Sangiovese\", \"side\": \"Buyer\", \"state\": \"Washington\", \"tons\": 110}, {\"variety\": \"Sauvignon blanc\", \"side\": \"Buyer\", \"state\": \"California\", \"tons\": 45}, {\"variety\": \"Sauvignon blanc\", \"side\": \"Buyer\", \"state\": \"Oregon\", \"tons\": 120}, {\"variety\": \"Sauvignon blanc\", \"side\": \"Buyer\", \"state\": \"Washington\", \"tons\": 125}, {\"variety\": \"Semillon\", \"side\": \"Buyer\", \"state\": \"California\", \"tons\": 115}, {\"variety\": \"Semillon\", \"side\": \"Buyer\", \"state\": \"Oregon\", \"tons\": 240}, {\"variety\": \"Semillon\", \"side\": \"Buyer\", \"state\": \"Washington\", \"tons\": 150}, {\"variety\": \"Syrah\", \"side\": \"Buyer\", \"state\": \"California\", \"tons\": 80}, {\"variety\": \"Syrah\", \"side\": \"Buyer\", \"state\": \"Oregon\", \"tons\": 295}, {\"variety\": \"Syrah\", \"side\": \"Buyer\", \"state\": \"Washington\", \"tons\": 215}, {\"variety\": \"Viognier\", \"side\": \"Buyer\", \"state\": \"California\", \"tons\": 40}, {\"variety\": \"Viognier\", \"side\": \"Buyer\", \"state\": \"Oregon\", \"tons\": 50}, {\"variety\": \"Viognier\", \"side\": \"Buyer\", \"state\": \"Washington\", \"tons\": 200}, {\"variety\": \"Cabernet Sauvignon\", \"side\": \"Seller\", \"state\": \"California\", \"tons\": 45}, {\"variety\": \"Cabernet Sauvignon\", \"side\": \"Seller\", \"state\": \"Oregon\", \"tons\": 55}, {\"variety\": \"Cabernet Sauvignon\", \"side\": \"Seller\", \"state\": \"Washington\", \"tons\": 10}, {\"variety\": \"Chardonnay\", \"side\": \"Seller\", \"state\": \"California\", \"tons\": 45}, {\"variety\": \"Chardonnay\", \"side\": \"Seller\", \"state\": \"Oregon\", \"tons\": 80}, {\"variety\": \"Chardonnay\", \"side\": \"Seller\", \"state\": \"Washington\", \"tons\": 15}, {\"variety\": \"Granache\", \"side\": \"Seller\", \"state\": \"Oregon\", \"tons\": 45}, {\"variety\": \"Granache\", \"side\": \"Seller\", \"state\": \"Washington\", \"tons\": 15}, {\"variety\": \"Marsanne\", \"side\": \"Seller\", \"state\": \"California\", \"tons\": 95}, {\"variety\": \"Marsanne\", \"side\": \"Seller\", \"state\": \"Oregon\", \"tons\": 10}, {\"variety\": \"Marsanne\", \"side\": \"Seller\", \"state\": \"Washington\", \"tons\": 40}, {\"variety\": \"Merlot\", \"side\": \"Seller\", \"state\": \"California\", \"tons\": 25}, {\"variety\": \"Merlot\", \"side\": \"Seller\", \"state\": \"Oregon\", \"tons\": 80}, {\"variety\": \"Merlot\", \"side\": \"Seller\", \"state\": \"Washington\", \"tons\": 70}, {\"variety\": \"Mourvedre\", \"side\": \"Seller\", \"state\": \"California\", \"tons\": 80}, {\"variety\": \"Mourvedre\", \"side\": \"Seller\", \"state\": \"Oregon\", \"tons\": 125}, {\"variety\": \"Mourvedre\", \"side\": \"Seller\", \"state\": \"Washington\", \"tons\": 30}, {\"variety\": \"Nebbiolo\", \"side\": \"Seller\", \"state\": \"Oregon\", \"tons\": 100}, {\"variety\": \"Petit Verdot\", \"side\": \"Seller\", \"state\": \"California\", \"tons\": 80}, {\"variety\": \"Petit Verdot\", \"side\": \"Seller\", \"state\": \"Oregon\", \"tons\": 110}, {\"variety\": \"Pinot blanc\", \"side\": \"Seller\", \"state\": \"California\", \"tons\": 85}, {\"variety\": \"Pinot blanc\", \"side\": \"Seller\", \"state\": \"Oregon\", \"tons\": 100}, {\"variety\": \"Pinot blanc\", \"side\": \"Seller\", \"state\": \"Washington\", \"tons\": 10}, {\"variety\": \"Pinot gris\", \"side\": \"Seller\", \"state\": \"California\", \"tons\": 135}, {\"variety\": \"Pinot gris\", \"side\": \"Seller\", \"state\": \"Oregon\", \"tons\": 25}, {\"variety\": \"Pinot gris\", \"side\": \"Seller\", \"state\": \"Washington\", \"tons\": 65}, {\"variety\": \"Pinot noir\", \"side\": \"Seller\", \"state\": \"California\", \"tons\": 145}, {\"variety\": \"Pinot noir\", \"side\": \"Seller\", \"state\": \"Oregon\", \"tons\": 50}, {\"variety\": \"Riesling\", \"side\": \"Seller\", \"state\": \"California\", \"tons\": 150}, {\"variety\": \"Riesling\", \"side\": \"Seller\", \"state\": \"Oregon\", \"tons\": 50}, {\"variety\": \"Riesling\", \"side\": \"Seller\", \"state\": \"Washington\", \"tons\": 20}, {\"variety\": \"Roussanne\", \"side\": \"Seller\", \"state\": \"California\", \"tons\": 110}, {\"variety\": \"Roussanne\", \"side\": \"Seller\", \"state\": \"Oregon\", \"tons\": 5}, {\"variety\": \"Roussanne\", \"side\": \"Seller\", \"state\": \"Washington\", \"tons\": 115}, {\"variety\": \"Sangiovese\", \"side\": \"Seller\", \"state\": \"California\", \"tons\": 95}, {\"variety\": \"Sangiovese\", \"side\": \"Seller\", \"state\": \"Oregon\", \"tons\": 45}, {\"variety\": \"Sangiovese\", \"side\": \"Seller\", \"state\": \"Washington\", \"tons\": 45}, {\"variety\": \"Sauvignon blanc\", \"side\": \"Seller\", \"state\": \"California\", \"tons\": 170}, {\"variety\": \"Semillon\", \"side\": \"Seller\", \"state\": \"California\", \"tons\": 110}, {\"variety\": \"Semillon\", \"side\": \"Seller\", \"state\": \"Oregon\", \"tons\": 35}, {\"variety\": \"Semillon\", \"side\": \"Seller\", \"state\": \"Washington\", \"tons\": 35}, {\"variety\": \"Syrah\", \"side\": \"Seller\", \"state\": \"California\", \"tons\": 45}, {\"variety\": \"Syrah\", \"side\": \"Seller\", \"state\": \"Oregon\", \"tons\": 50}, {\"variety\": \"Syrah\", \"side\": \"Seller\", \"state\": \"Washington\", \"tons\": 35}, {\"variety\": \"Viognier\", \"side\": \"Seller\", \"state\": \"California\", \"tons\": 10}, {\"variety\": \"Viognier\", \"side\": \"Seller\", \"state\": \"Oregon\", \"tons\": 70}, {\"variety\": \"Viognier\", \"side\": \"Seller\", \"state\": \"Washington\", \"tons\": 15}]}, \"encoding\": {\"color\": {\"field\": \"side\", \"title\": \"Side\", \"type\": \"nominal\"}, \"column\": {\"field\": \"state\", \"type\": \"nominal\"}, \"tooltip\": [{\"field\": \"side\", \"type\": \"nominal\"}, {\"field\": \"variety\", \"type\": \"nominal\"}, {\"field\": \"tons\", \"type\": \"quantitative\"}], \"x\": {\"field\": \"variety\", \"sort\": \"-y\", \"title\": \"Variety\", \"type\": \"nominal\"}, \"y\": {\"field\": \"tons\", \"type\": \"quantitative\"}}, \"height\": 400, \"padding\": 24, \"title\": \"Tons per Variety by Side by State\", \"width\": 480, \"$schema\": \"https://vega.github.io/schema/vega-lite/v4.17.0.json\"}, {\"mode\": \"vega-lite\"});\n</script>",
      "text/plain": "alt.Chart(...)"
     },
     "execution_count": 31,
     "metadata": {},
     "output_type": "execute_result"
    }
   ],
   "source": [
    "chart = requests.get('http://127.0.0.1:8000/graph/df-grapes-by-state-combined').json()\n",
    "Chart.from_dict(chart)"
   ]
  },
  {
   "cell_type": "code",
   "execution_count": 32,
   "outputs": [],
   "source": [
    "def donut_chart(df: DataFrame, column_1: str, column_2: str):\n",
    "    return Chart(\n",
    "        df,\n",
    "        title=f\"{title_fix(column_2)} per {title_fix(column_1)}\",\n",
    "    ).mark_arc(innerRadius=50).encode(\n",
    "        theta=Theta(field=column_2, type=\"quantitative\"),\n",
    "        color=Color(field=column_1, type=\"nominal\"),\n",
    "        tooltip=Tooltip([column_2, column_1]),\n",
    "    ).properties(\n",
    "        width=480,\n",
    "        height=400,\n",
    "        padding=24,\n",
    "    ).configure(\n",
    "        legend={\"padding\": 24},\n",
    "        title={\"fontSize\": 20, \"offset\": 24},\n",
    "        view={\"stroke\": \"#FFF\"},\n",
    "    )"
   ],
   "metadata": {
    "collapsed": false,
    "pycharm": {
     "name": "#%%\n"
    }
   }
  },
  {
   "cell_type": "code",
   "execution_count": 14,
   "outputs": [],
   "source": [
    "grape_buyers_tons_per_variety = grape_buyers.groupby(\"variety\").agg({\"tons\": \"sum\"}).reset_index()"
   ],
   "metadata": {
    "collapsed": false,
    "pycharm": {
     "name": "#%%\n"
    }
   }
  },
  {
   "cell_type": "code",
   "execution_count": 18,
   "outputs": [
    {
     "data": {
      "text/html": "\n<div id=\"altair-viz-724f4c7f937d4230841c983e5c461638\"></div>\n<script type=\"text/javascript\">\n  var VEGA_DEBUG = (typeof VEGA_DEBUG == \"undefined\") ? {} : VEGA_DEBUG;\n  (function(spec, embedOpt){\n    let outputDiv = document.currentScript.previousElementSibling;\n    if (outputDiv.id !== \"altair-viz-724f4c7f937d4230841c983e5c461638\") {\n      outputDiv = document.getElementById(\"altair-viz-724f4c7f937d4230841c983e5c461638\");\n    }\n    const paths = {\n      \"vega\": \"https://cdn.jsdelivr.net/npm//vega@5?noext\",\n      \"vega-lib\": \"https://cdn.jsdelivr.net/npm//vega-lib?noext\",\n      \"vega-lite\": \"https://cdn.jsdelivr.net/npm//vega-lite@4.17.0?noext\",\n      \"vega-embed\": \"https://cdn.jsdelivr.net/npm//vega-embed@6?noext\",\n    };\n\n    function maybeLoadScript(lib, version) {\n      var key = `${lib.replace(\"-\", \"\")}_version`;\n      return (VEGA_DEBUG[key] == version) ?\n        Promise.resolve(paths[lib]) :\n        new Promise(function(resolve, reject) {\n          var s = document.createElement('script');\n          document.getElementsByTagName(\"head\")[0].appendChild(s);\n          s.async = true;\n          s.onload = () => {\n            VEGA_DEBUG[key] = version;\n            return resolve(paths[lib]);\n          };\n          s.onerror = () => reject(`Error loading script: ${paths[lib]}`);\n          s.src = paths[lib];\n        });\n    }\n\n    function showError(err) {\n      outputDiv.innerHTML = `<div class=\"error\" style=\"color:red;\">${err}</div>`;\n      throw err;\n    }\n\n    function displayChart(vegaEmbed) {\n      vegaEmbed(outputDiv, spec, embedOpt)\n        .catch(err => showError(`Javascript Error: ${err.message}<br>This usually means there's a typo in your chart specification. See the javascript console for the full traceback.`));\n    }\n\n    if(typeof define === \"function\" && define.amd) {\n      requirejs.config({paths});\n      require([\"vega-embed\"], displayChart, err => showError(`Error loading script: ${err.message}`));\n    } else {\n      maybeLoadScript(\"vega\", \"5\")\n        .then(() => maybeLoadScript(\"vega-lite\", \"4.17.0\"))\n        .then(() => maybeLoadScript(\"vega-embed\", \"6\"))\n        .catch(showError)\n        .then(() => displayChart(vegaEmbed));\n    }\n  })({\"config\": {\"view\": {\"continuousWidth\": 400, \"continuousHeight\": 300, \"stroke\": \"#FFF\"}, \"legend\": {\"padding\": 24}, \"title\": {\"fontSize\": 20, \"offset\": 24}}, \"data\": {\"name\": \"data-877f2c3e8d82e619846a7fb049b126c4\"}, \"mark\": {\"type\": \"arc\", \"innerRadius\": 50}, \"encoding\": {\"color\": {\"field\": \"variety\", \"type\": \"nominal\"}, \"theta\": {\"field\": \"tons\", \"type\": \"quantitative\"}, \"tooltip\": [{\"field\": \"tons\", \"type\": \"quantitative\"}, {\"field\": \"variety\", \"type\": \"nominal\"}]}, \"height\": 400, \"padding\": 24, \"title\": \"Tons per Variety\", \"width\": 480, \"$schema\": \"https://vega.github.io/schema/vega-lite/v4.17.0.json\", \"datasets\": {\"data-877f2c3e8d82e619846a7fb049b126c4\": [{\"variety\": \"Cabernet Sauvignon\", \"tons\": 325}, {\"variety\": \"Chardonnay\", \"tons\": 580}, {\"variety\": \"Granache\", \"tons\": 135}, {\"variety\": \"Marsanne\", \"tons\": 500}, {\"variety\": \"Merlot\", \"tons\": 445}, {\"variety\": \"Mourvedre\", \"tons\": 580}, {\"variety\": \"Nebbiolo\", \"tons\": 435}, {\"variety\": \"Petit Verdot\", \"tons\": 500}, {\"variety\": \"Pinot blanc\", \"tons\": 460}, {\"variety\": \"Pinot gris\", \"tons\": 550}, {\"variety\": \"Pinot noir\", \"tons\": 565}, {\"variety\": \"Riesling\", \"tons\": 420}, {\"variety\": \"Roussanne\", \"tons\": 195}, {\"variety\": \"Sangiovese\", \"tons\": 365}, {\"variety\": \"Sauvignon blanc\", \"tons\": 430}, {\"variety\": \"Semillon\", \"tons\": 385}, {\"variety\": \"Syrah\", \"tons\": 525}, {\"variety\": \"Viognier\", \"tons\": 330}]}}, {\"mode\": \"vega-lite\"});\n</script>",
      "text/plain": "alt.Chart(...)"
     },
     "execution_count": 18,
     "metadata": {},
     "output_type": "execute_result"
    }
   ],
   "source": [
    "donut_chart(grape_buyers_tons_per_variety, \"variety\", \"tons\")"
   ],
   "metadata": {
    "collapsed": false,
    "pycharm": {
     "name": "#%%\n"
    }
   }
  },
  {
   "cell_type": "code",
   "execution_count": 19,
   "outputs": [
    {
     "data": {
      "text/html": "\n<div id=\"altair-viz-2cf26141252a428cb9ea825578902432\"></div>\n<script type=\"text/javascript\">\n  var VEGA_DEBUG = (typeof VEGA_DEBUG == \"undefined\") ? {} : VEGA_DEBUG;\n  (function(spec, embedOpt){\n    let outputDiv = document.currentScript.previousElementSibling;\n    if (outputDiv.id !== \"altair-viz-2cf26141252a428cb9ea825578902432\") {\n      outputDiv = document.getElementById(\"altair-viz-2cf26141252a428cb9ea825578902432\");\n    }\n    const paths = {\n      \"vega\": \"https://cdn.jsdelivr.net/npm//vega@5?noext\",\n      \"vega-lib\": \"https://cdn.jsdelivr.net/npm//vega-lib?noext\",\n      \"vega-lite\": \"https://cdn.jsdelivr.net/npm//vega-lite@4.17.0?noext\",\n      \"vega-embed\": \"https://cdn.jsdelivr.net/npm//vega-embed@6?noext\",\n    };\n\n    function maybeLoadScript(lib, version) {\n      var key = `${lib.replace(\"-\", \"\")}_version`;\n      return (VEGA_DEBUG[key] == version) ?\n        Promise.resolve(paths[lib]) :\n        new Promise(function(resolve, reject) {\n          var s = document.createElement('script');\n          document.getElementsByTagName(\"head\")[0].appendChild(s);\n          s.async = true;\n          s.onload = () => {\n            VEGA_DEBUG[key] = version;\n            return resolve(paths[lib]);\n          };\n          s.onerror = () => reject(`Error loading script: ${paths[lib]}`);\n          s.src = paths[lib];\n        });\n    }\n\n    function showError(err) {\n      outputDiv.innerHTML = `<div class=\"error\" style=\"color:red;\">${err}</div>`;\n      throw err;\n    }\n\n    function displayChart(vegaEmbed) {\n      vegaEmbed(outputDiv, spec, embedOpt)\n        .catch(err => showError(`Javascript Error: ${err.message}<br>This usually means there's a typo in your chart specification. See the javascript console for the full traceback.`));\n    }\n\n    if(typeof define === \"function\" && define.amd) {\n      requirejs.config({paths});\n      require([\"vega-embed\"], displayChart, err => showError(`Error loading script: ${err.message}`));\n    } else {\n      maybeLoadScript(\"vega\", \"5\")\n        .then(() => maybeLoadScript(\"vega-lite\", \"4.17.0\"))\n        .then(() => maybeLoadScript(\"vega-embed\", \"6\"))\n        .catch(showError)\n        .then(() => displayChart(vegaEmbed));\n    }\n  })({\"config\": {\"view\": {\"continuousWidth\": 400, \"continuousHeight\": 300, \"stroke\": \"#FFF\"}, \"legend\": {\"padding\": 24}, \"title\": {\"fontSize\": 20, \"offset\": 24}}, \"data\": {\"name\": \"data-877f2c3e8d82e619846a7fb049b126c4\"}, \"mark\": {\"type\": \"arc\", \"innerRadius\": 50}, \"datasets\": {\"data-877f2c3e8d82e619846a7fb049b126c4\": [{\"variety\": \"Cabernet Sauvignon\", \"tons\": 325}, {\"variety\": \"Chardonnay\", \"tons\": 580}, {\"variety\": \"Granache\", \"tons\": 135}, {\"variety\": \"Marsanne\", \"tons\": 500}, {\"variety\": \"Merlot\", \"tons\": 445}, {\"variety\": \"Mourvedre\", \"tons\": 580}, {\"variety\": \"Nebbiolo\", \"tons\": 435}, {\"variety\": \"Petit Verdot\", \"tons\": 500}, {\"variety\": \"Pinot blanc\", \"tons\": 460}, {\"variety\": \"Pinot gris\", \"tons\": 550}, {\"variety\": \"Pinot noir\", \"tons\": 565}, {\"variety\": \"Riesling\", \"tons\": 420}, {\"variety\": \"Roussanne\", \"tons\": 195}, {\"variety\": \"Sangiovese\", \"tons\": 365}, {\"variety\": \"Sauvignon blanc\", \"tons\": 430}, {\"variety\": \"Semillon\", \"tons\": 385}, {\"variety\": \"Syrah\", \"tons\": 525}, {\"variety\": \"Viognier\", \"tons\": 330}]}, \"encoding\": {\"color\": {\"field\": \"variety\", \"type\": \"nominal\"}, \"theta\": {\"field\": \"tons\", \"type\": \"quantitative\"}, \"tooltip\": [{\"field\": \"tons\", \"type\": \"quantitative\"}, {\"field\": \"variety\", \"type\": \"nominal\"}]}, \"height\": 400, \"padding\": 24, \"title\": \"Tons per Variety\", \"width\": 480, \"$schema\": \"https://vega.github.io/schema/vega-lite/v4.17.0.json\"}, {\"mode\": \"vega-lite\"});\n</script>",
      "text/plain": "alt.Chart(...)"
     },
     "execution_count": 19,
     "metadata": {},
     "output_type": "execute_result"
    }
   ],
   "source": [
    "chart = requests.get('http://127.0.0.1:8000/graph/df-tons-by-variety-buyer').json()\n",
    "Chart.from_dict(chart)"
   ],
   "metadata": {
    "collapsed": false,
    "pycharm": {
     "name": "#%%\n"
    }
   }
  },
  {
   "cell_type": "code",
   "execution_count": 20,
   "outputs": [
    {
     "data": {
      "text/html": "\n<div id=\"altair-viz-940b5854fe85464caa5263ee6e13dc4f\"></div>\n<script type=\"text/javascript\">\n  var VEGA_DEBUG = (typeof VEGA_DEBUG == \"undefined\") ? {} : VEGA_DEBUG;\n  (function(spec, embedOpt){\n    let outputDiv = document.currentScript.previousElementSibling;\n    if (outputDiv.id !== \"altair-viz-940b5854fe85464caa5263ee6e13dc4f\") {\n      outputDiv = document.getElementById(\"altair-viz-940b5854fe85464caa5263ee6e13dc4f\");\n    }\n    const paths = {\n      \"vega\": \"https://cdn.jsdelivr.net/npm//vega@5?noext\",\n      \"vega-lib\": \"https://cdn.jsdelivr.net/npm//vega-lib?noext\",\n      \"vega-lite\": \"https://cdn.jsdelivr.net/npm//vega-lite@4.17.0?noext\",\n      \"vega-embed\": \"https://cdn.jsdelivr.net/npm//vega-embed@6?noext\",\n    };\n\n    function maybeLoadScript(lib, version) {\n      var key = `${lib.replace(\"-\", \"\")}_version`;\n      return (VEGA_DEBUG[key] == version) ?\n        Promise.resolve(paths[lib]) :\n        new Promise(function(resolve, reject) {\n          var s = document.createElement('script');\n          document.getElementsByTagName(\"head\")[0].appendChild(s);\n          s.async = true;\n          s.onload = () => {\n            VEGA_DEBUG[key] = version;\n            return resolve(paths[lib]);\n          };\n          s.onerror = () => reject(`Error loading script: ${paths[lib]}`);\n          s.src = paths[lib];\n        });\n    }\n\n    function showError(err) {\n      outputDiv.innerHTML = `<div class=\"error\" style=\"color:red;\">${err}</div>`;\n      throw err;\n    }\n\n    function displayChart(vegaEmbed) {\n      vegaEmbed(outputDiv, spec, embedOpt)\n        .catch(err => showError(`Javascript Error: ${err.message}<br>This usually means there's a typo in your chart specification. See the javascript console for the full traceback.`));\n    }\n\n    if(typeof define === \"function\" && define.amd) {\n      requirejs.config({paths});\n      require([\"vega-embed\"], displayChart, err => showError(`Error loading script: ${err.message}`));\n    } else {\n      maybeLoadScript(\"vega\", \"5\")\n        .then(() => maybeLoadScript(\"vega-lite\", \"4.17.0\"))\n        .then(() => maybeLoadScript(\"vega-embed\", \"6\"))\n        .catch(showError)\n        .then(() => displayChart(vegaEmbed));\n    }\n  })({\"config\": {\"view\": {\"continuousWidth\": 400, \"continuousHeight\": 300, \"stroke\": \"#FFF\"}, \"legend\": {\"padding\": 24}, \"title\": {\"fontSize\": 20, \"offset\": 24}}, \"data\": {\"name\": \"data-d844c994e58e3206af67aeb0471dc37e\"}, \"mark\": {\"type\": \"arc\", \"innerRadius\": 50}, \"datasets\": {\"data-d844c994e58e3206af67aeb0471dc37e\": [{\"variety\": \"Cabernet Sauvignon\", \"tons\": 70}, {\"variety\": \"Chardonnay\", \"tons\": 230}, {\"variety\": \"Granache\", \"tons\": 210}, {\"variety\": \"Marsanne\", \"tons\": 45}, {\"variety\": \"Merlot\", \"tons\": 230}, {\"variety\": \"Mourvedre\", \"tons\": 65}, {\"variety\": \"Nebbiolo\", \"tons\": 160}, {\"variety\": \"Petit Verdot\", \"tons\": 185}, {\"variety\": \"Pinot blanc\", \"tons\": 320}, {\"variety\": \"Pinot gris\", \"tons\": 150}, {\"variety\": \"Pinot noir\", \"tons\": 270}, {\"variety\": \"Riesling\", \"tons\": 235}, {\"variety\": \"Roussanne\", \"tons\": 175}, {\"variety\": \"Sangiovese\", \"tons\": 175}, {\"variety\": \"Sauvignon blanc\", \"tons\": 135}, {\"variety\": \"Semillon\", \"tons\": 150}, {\"variety\": \"Syrah\", \"tons\": 180}, {\"variety\": \"Viognier\", \"tons\": 270}]}, \"encoding\": {\"color\": {\"field\": \"variety\", \"type\": \"nominal\"}, \"theta\": {\"field\": \"tons\", \"type\": \"quantitative\"}, \"tooltip\": [{\"field\": \"tons\", \"type\": \"quantitative\"}, {\"field\": \"variety\", \"type\": \"nominal\"}]}, \"height\": 400, \"padding\": 24, \"title\": \"Tons per Variety\", \"width\": 480, \"$schema\": \"https://vega.github.io/schema/vega-lite/v4.17.0.json\"}, {\"mode\": \"vega-lite\"});\n</script>",
      "text/plain": "alt.Chart(...)"
     },
     "execution_count": 20,
     "metadata": {},
     "output_type": "execute_result"
    }
   ],
   "source": [
    "chart = requests.get('http://127.0.0.1:8000/graph/df-tons-by-variety-seller').json()\n",
    "Chart.from_dict(chart)"
   ],
   "metadata": {
    "collapsed": false,
    "pycharm": {
     "name": "#%%\n"
    }
   }
  },
  {
   "cell_type": "code",
   "execution_count": null,
   "outputs": [],
   "source": [],
   "metadata": {
    "collapsed": false,
    "pycharm": {
     "name": "#%%\n"
    }
   }
  }
 ],
 "metadata": {
  "kernelspec": {
   "display_name": "Python 3 (ipykernel)",
   "language": "python",
   "name": "python3"
  },
  "language_info": {
   "codemirror_mode": {
    "name": "ipython",
    "version": 3
   },
   "file_extension": ".py",
   "mimetype": "text/x-python",
   "name": "python",
   "nbconvert_exporter": "python",
   "pygments_lexer": "ipython3",
   "version": "3.9.7"
  }
 },
 "nbformat": 4,
 "nbformat_minor": 5
}