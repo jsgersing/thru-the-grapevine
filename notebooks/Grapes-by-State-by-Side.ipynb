{
 "cells": [
  {
   "cell_type": "code",
   "execution_count": 1,
   "id": "05102d11",
   "metadata": {
    "pycharm": {
     "name": "#%%\n"
    }
   },
   "outputs": [],
   "source": [
    "import requests\n",
    "from os import getenv\n",
    "from pymongo import MongoClient\n",
    "from pandas import DataFrame, Series, concat\n",
    "from dotenv import load_dotenv\n",
    "from altair import Chart, Color, Y, X, Tooltip, Column"
   ]
  },
  {
   "cell_type": "code",
   "execution_count": 2,
   "id": "cfb262ac",
   "metadata": {
    "pycharm": {
     "name": "#%%\n"
    }
   },
   "outputs": [],
   "source": [
    "filepath = '/Users/jasongersing/PycharmProjects/fastApiProject/.env'\n",
    "load_dotenv(filepath)\n",
    "url = getenv('MONGO_URL')\n",
    "database = \"thruTheGrapevine\"\n",
    "collection_GB = \"GrapeBuyers\"\n",
    "collection_GS = \"GrapeSellers\""
   ]
  },
  {
   "cell_type": "code",
   "execution_count": 3,
   "id": "bb5f2308",
   "metadata": {
    "pycharm": {
     "name": "#%%\n"
    }
   },
   "outputs": [],
   "source": [
    "db_GB = MongoClient(url)[database][collection_GB]\n",
    "db_GS = MongoClient(url)[database][collection_GS]"
   ]
  },
  {
   "cell_type": "code",
   "execution_count": 4,
   "id": "64df5046",
   "metadata": {
    "pycharm": {
     "name": "#%%\n"
    }
   },
   "outputs": [
    {
     "data": {
      "text/plain": "              variety   side       state  tons\n0  Cabernet Sauvignon  Buyer  California    70\n1  Cabernet Sauvignon  Buyer      Oregon   150\n2  Cabernet Sauvignon  Buyer  Washington   105\n3          Chardonnay  Buyer  California    80\n4          Chardonnay  Buyer      Oregon   155",
      "text/html": "<div>\n<style scoped>\n    .dataframe tbody tr th:only-of-type {\n        vertical-align: middle;\n    }\n\n    .dataframe tbody tr th {\n        vertical-align: top;\n    }\n\n    .dataframe thead th {\n        text-align: right;\n    }\n</style>\n<table border=\"1\" class=\"dataframe\">\n  <thead>\n    <tr style=\"text-align: right;\">\n      <th></th>\n      <th>variety</th>\n      <th>side</th>\n      <th>state</th>\n      <th>tons</th>\n    </tr>\n  </thead>\n  <tbody>\n    <tr>\n      <th>0</th>\n      <td>Cabernet Sauvignon</td>\n      <td>Buyer</td>\n      <td>California</td>\n      <td>70</td>\n    </tr>\n    <tr>\n      <th>1</th>\n      <td>Cabernet Sauvignon</td>\n      <td>Buyer</td>\n      <td>Oregon</td>\n      <td>150</td>\n    </tr>\n    <tr>\n      <th>2</th>\n      <td>Cabernet Sauvignon</td>\n      <td>Buyer</td>\n      <td>Washington</td>\n      <td>105</td>\n    </tr>\n    <tr>\n      <th>3</th>\n      <td>Chardonnay</td>\n      <td>Buyer</td>\n      <td>California</td>\n      <td>80</td>\n    </tr>\n    <tr>\n      <th>4</th>\n      <td>Chardonnay</td>\n      <td>Buyer</td>\n      <td>Oregon</td>\n      <td>155</td>\n    </tr>\n  </tbody>\n</table>\n</div>"
     },
     "execution_count": 4,
     "metadata": {},
     "output_type": "execute_result"
    }
   ],
   "source": [
    "grape_buyers = DataFrame(db_GB.find(projection={\"_id\": False, \"grapes_seeking\": True, \"volume_seeking\": True, \"state\": True}))\n",
    "grape_buyers = grape_buyers.explode(column=[\"grapes_seeking\", \"volume_seeking\"])\n",
    "grape_buyers.rename(columns={\"grapes_seeking\": \"variety\", \"volume_seeking\": \"tons\"}, inplace=True)\n",
    "grape_buyers[\"side\"] = \"Buyer\"\n",
    "grape_buyers[\"tons\"] = Series([int(num) for num in grape_buyers[\"tons\"]])\n",
    "grape_buyers = grape_buyers.groupby([\"variety\", \"side\", \"state\"]).agg({\"tons\": \"sum\"}).reset_index()\n",
    "grape_buyers.head()"
   ]
  },
  {
   "cell_type": "code",
   "execution_count": 5,
   "id": "288ba375",
   "metadata": {
    "pycharm": {
     "name": "#%%\n"
    }
   },
   "outputs": [
    {
     "data": {
      "text/plain": "              variety    side       state  tons\n0  Cabernet Sauvignon  Seller  California    35\n1  Cabernet Sauvignon  Seller      Oregon    15\n2  Cabernet Sauvignon  Seller  Washington    20\n3          Chardonnay  Seller      Oregon   155\n4          Chardonnay  Seller  Washington    75",
      "text/html": "<div>\n<style scoped>\n    .dataframe tbody tr th:only-of-type {\n        vertical-align: middle;\n    }\n\n    .dataframe tbody tr th {\n        vertical-align: top;\n    }\n\n    .dataframe thead th {\n        text-align: right;\n    }\n</style>\n<table border=\"1\" class=\"dataframe\">\n  <thead>\n    <tr style=\"text-align: right;\">\n      <th></th>\n      <th>variety</th>\n      <th>side</th>\n      <th>state</th>\n      <th>tons</th>\n    </tr>\n  </thead>\n  <tbody>\n    <tr>\n      <th>0</th>\n      <td>Cabernet Sauvignon</td>\n      <td>Seller</td>\n      <td>California</td>\n      <td>35</td>\n    </tr>\n    <tr>\n      <th>1</th>\n      <td>Cabernet Sauvignon</td>\n      <td>Seller</td>\n      <td>Oregon</td>\n      <td>15</td>\n    </tr>\n    <tr>\n      <th>2</th>\n      <td>Cabernet Sauvignon</td>\n      <td>Seller</td>\n      <td>Washington</td>\n      <td>20</td>\n    </tr>\n    <tr>\n      <th>3</th>\n      <td>Chardonnay</td>\n      <td>Seller</td>\n      <td>Oregon</td>\n      <td>155</td>\n    </tr>\n    <tr>\n      <th>4</th>\n      <td>Chardonnay</td>\n      <td>Seller</td>\n      <td>Washington</td>\n      <td>75</td>\n    </tr>\n  </tbody>\n</table>\n</div>"
     },
     "execution_count": 5,
     "metadata": {},
     "output_type": "execute_result"
    }
   ],
   "source": [
    "grape_sellers = DataFrame(db_GS.find(projection={\"_id\": False, \"grapes_selling\": True, \"volume_selling\": True, \"state\": True}))\n",
    "grape_sellers = grape_sellers.explode(column=[\"grapes_selling\", \"volume_selling\"])\n",
    "grape_sellers.rename(columns={\"grapes_selling\": \"variety\", \"volume_selling\": \"tons\"}, inplace=True)\n",
    "grape_sellers[\"side\"] = \"Seller\"\n",
    "grape_sellers[\"tons\"] = Series([int(num) for num in grape_sellers[\"tons\"]])\n",
    "grape_sellers = grape_sellers.groupby([\"variety\", \"side\", \"state\"]).agg({\"tons\": \"sum\"}).reset_index()\n",
    "grape_sellers.head()"
   ]
  },
  {
   "cell_type": "code",
   "execution_count": 6,
   "id": "22c6bcb5",
   "metadata": {
    "pycharm": {
     "name": "#%%\n"
    }
   },
   "outputs": [
    {
     "data": {
      "text/html": "\n<div id=\"altair-viz-18721d2f7d96434588d0e45789f21b7d\"></div>\n<script type=\"text/javascript\">\n  var VEGA_DEBUG = (typeof VEGA_DEBUG == \"undefined\") ? {} : VEGA_DEBUG;\n  (function(spec, embedOpt){\n    let outputDiv = document.currentScript.previousElementSibling;\n    if (outputDiv.id !== \"altair-viz-18721d2f7d96434588d0e45789f21b7d\") {\n      outputDiv = document.getElementById(\"altair-viz-18721d2f7d96434588d0e45789f21b7d\");\n    }\n    const paths = {\n      \"vega\": \"https://cdn.jsdelivr.net/npm//vega@5?noext\",\n      \"vega-lib\": \"https://cdn.jsdelivr.net/npm//vega-lib?noext\",\n      \"vega-lite\": \"https://cdn.jsdelivr.net/npm//vega-lite@4.17.0?noext\",\n      \"vega-embed\": \"https://cdn.jsdelivr.net/npm//vega-embed@6?noext\",\n    };\n\n    function maybeLoadScript(lib, version) {\n      var key = `${lib.replace(\"-\", \"\")}_version`;\n      return (VEGA_DEBUG[key] == version) ?\n        Promise.resolve(paths[lib]) :\n        new Promise(function(resolve, reject) {\n          var s = document.createElement('script');\n          document.getElementsByTagName(\"head\")[0].appendChild(s);\n          s.async = true;\n          s.onload = () => {\n            VEGA_DEBUG[key] = version;\n            return resolve(paths[lib]);\n          };\n          s.onerror = () => reject(`Error loading script: ${paths[lib]}`);\n          s.src = paths[lib];\n        });\n    }\n\n    function showError(err) {\n      outputDiv.innerHTML = `<div class=\"error\" style=\"color:red;\">${err}</div>`;\n      throw err;\n    }\n\n    function displayChart(vegaEmbed) {\n      vegaEmbed(outputDiv, spec, embedOpt)\n        .catch(err => showError(`Javascript Error: ${err.message}<br>This usually means there's a typo in your chart specification. See the javascript console for the full traceback.`));\n    }\n\n    if(typeof define === \"function\" && define.amd) {\n      requirejs.config({paths});\n      require([\"vega-embed\"], displayChart, err => showError(`Error loading script: ${err.message}`));\n    } else {\n      maybeLoadScript(\"vega\", \"5\")\n        .then(() => maybeLoadScript(\"vega-lite\", \"4.17.0\"))\n        .then(() => maybeLoadScript(\"vega-embed\", \"6\"))\n        .catch(showError)\n        .then(() => displayChart(vegaEmbed));\n    }\n  })({\"config\": {\"view\": {\"continuousWidth\": 400, \"continuousHeight\": 300, \"stroke\": \"#FFF\"}, \"legend\": {\"padding\": 24}, \"title\": {\"fontSize\": 20, \"offset\": 24}}, \"data\": {\"name\": \"data-130aadadbf22f5af356faa37504950c6\"}, \"mark\": \"bar\", \"datasets\": {\"data-130aadadbf22f5af356faa37504950c6\": [{\"variety\": \"Cabernet Sauvignon\", \"side\": \"Buyer\", \"state\": \"California\", \"tons\": 70}, {\"variety\": \"Cabernet Sauvignon\", \"side\": \"Buyer\", \"state\": \"Oregon\", \"tons\": 150}, {\"variety\": \"Cabernet Sauvignon\", \"side\": \"Buyer\", \"state\": \"Washington\", \"tons\": 105}, {\"variety\": \"Chardonnay\", \"side\": \"Buyer\", \"state\": \"California\", \"tons\": 80}, {\"variety\": \"Chardonnay\", \"side\": \"Buyer\", \"state\": \"Oregon\", \"tons\": 155}, {\"variety\": \"Chardonnay\", \"side\": \"Buyer\", \"state\": \"Washington\", \"tons\": 345}, {\"variety\": \"Granache\", \"side\": \"Buyer\", \"state\": \"California\", \"tons\": 40}, {\"variety\": \"Granache\", \"side\": \"Buyer\", \"state\": \"Oregon\", \"tons\": 80}, {\"variety\": \"Granache\", \"side\": \"Buyer\", \"state\": \"Washington\", \"tons\": 15}, {\"variety\": \"Marsanne\", \"side\": \"Buyer\", \"state\": \"California\", \"tons\": 60}, {\"variety\": \"Marsanne\", \"side\": \"Buyer\", \"state\": \"Oregon\", \"tons\": 355}, {\"variety\": \"Marsanne\", \"side\": \"Buyer\", \"state\": \"Washington\", \"tons\": 85}, {\"variety\": \"Merlot\", \"side\": \"Buyer\", \"state\": \"California\", \"tons\": 180}, {\"variety\": \"Merlot\", \"side\": \"Buyer\", \"state\": \"Oregon\", \"tons\": 130}, {\"variety\": \"Merlot\", \"side\": \"Buyer\", \"state\": \"Washington\", \"tons\": 135}, {\"variety\": \"Mourvedre\", \"side\": \"Buyer\", \"state\": \"California\", \"tons\": 135}, {\"variety\": \"Mourvedre\", \"side\": \"Buyer\", \"state\": \"Oregon\", \"tons\": 165}, {\"variety\": \"Mourvedre\", \"side\": \"Buyer\", \"state\": \"Washington\", \"tons\": 280}, {\"variety\": \"Nebbiolo\", \"side\": \"Buyer\", \"state\": \"California\", \"tons\": 130}, {\"variety\": \"Nebbiolo\", \"side\": \"Buyer\", \"state\": \"Oregon\", \"tons\": 55}, {\"variety\": \"Nebbiolo\", \"side\": \"Buyer\", \"state\": \"Washington\", \"tons\": 250}, {\"variety\": \"Petit Verdot\", \"side\": \"Buyer\", \"state\": \"California\", \"tons\": 145}, {\"variety\": \"Petit Verdot\", \"side\": \"Buyer\", \"state\": \"Oregon\", \"tons\": 245}, {\"variety\": \"Petit Verdot\", \"side\": \"Buyer\", \"state\": \"Washington\", \"tons\": 110}, {\"variety\": \"Pinot blanc\", \"side\": \"Buyer\", \"state\": \"California\", \"tons\": 160}, {\"variety\": \"Pinot blanc\", \"side\": \"Buyer\", \"state\": \"Oregon\", \"tons\": 55}, {\"variety\": \"Pinot blanc\", \"side\": \"Buyer\", \"state\": \"Washington\", \"tons\": 245}, {\"variety\": \"Pinot gris\", \"side\": \"Buyer\", \"state\": \"California\", \"tons\": 115}, {\"variety\": \"Pinot gris\", \"side\": \"Buyer\", \"state\": \"Oregon\", \"tons\": 195}, {\"variety\": \"Pinot gris\", \"side\": \"Buyer\", \"state\": \"Washington\", \"tons\": 240}, {\"variety\": \"Pinot noir\", \"side\": \"Buyer\", \"state\": \"California\", \"tons\": 110}, {\"variety\": \"Pinot noir\", \"side\": \"Buyer\", \"state\": \"Oregon\", \"tons\": 300}, {\"variety\": \"Pinot noir\", \"side\": \"Buyer\", \"state\": \"Washington\", \"tons\": 155}, {\"variety\": \"Riesling\", \"side\": \"Buyer\", \"state\": \"California\", \"tons\": 125}, {\"variety\": \"Riesling\", \"side\": \"Buyer\", \"state\": \"Oregon\", \"tons\": 145}, {\"variety\": \"Riesling\", \"side\": \"Buyer\", \"state\": \"Washington\", \"tons\": 150}, {\"variety\": \"Roussanne\", \"side\": \"Buyer\", \"state\": \"California\", \"tons\": 60}, {\"variety\": \"Roussanne\", \"side\": \"Buyer\", \"state\": \"Oregon\", \"tons\": 50}, {\"variety\": \"Roussanne\", \"side\": \"Buyer\", \"state\": \"Washington\", \"tons\": 85}, {\"variety\": \"Sangiovese\", \"side\": \"Buyer\", \"state\": \"California\", \"tons\": 55}, {\"variety\": \"Sangiovese\", \"side\": \"Buyer\", \"state\": \"Oregon\", \"tons\": 70}, {\"variety\": \"Sangiovese\", \"side\": \"Buyer\", \"state\": \"Washington\", \"tons\": 240}, {\"variety\": \"Sauvignon blanc\", \"side\": \"Buyer\", \"state\": \"California\", \"tons\": 195}, {\"variety\": \"Sauvignon blanc\", \"side\": \"Buyer\", \"state\": \"Oregon\", \"tons\": 170}, {\"variety\": \"Sauvignon blanc\", \"side\": \"Buyer\", \"state\": \"Washington\", \"tons\": 65}, {\"variety\": \"Semillon\", \"side\": \"Buyer\", \"state\": \"California\", \"tons\": 180}, {\"variety\": \"Semillon\", \"side\": \"Buyer\", \"state\": \"Oregon\", \"tons\": 155}, {\"variety\": \"Semillon\", \"side\": \"Buyer\", \"state\": \"Washington\", \"tons\": 50}, {\"variety\": \"Syrah\", \"side\": \"Buyer\", \"state\": \"California\", \"tons\": 240}, {\"variety\": \"Syrah\", \"side\": \"Buyer\", \"state\": \"Oregon\", \"tons\": 95}, {\"variety\": \"Syrah\", \"side\": \"Buyer\", \"state\": \"Washington\", \"tons\": 190}, {\"variety\": \"Viognier\", \"side\": \"Buyer\", \"state\": \"California\", \"tons\": 70}, {\"variety\": \"Viognier\", \"side\": \"Buyer\", \"state\": \"Oregon\", \"tons\": 120}, {\"variety\": \"Viognier\", \"side\": \"Buyer\", \"state\": \"Washington\", \"tons\": 140}]}, \"encoding\": {\"color\": {\"field\": \"state\", \"title\": \"State\", \"type\": \"nominal\"}, \"tooltip\": [{\"field\": \"state\", \"type\": \"nominal\"}, {\"field\": \"variety\", \"type\": \"nominal\"}, {\"field\": \"tons\", \"type\": \"quantitative\"}], \"x\": {\"field\": \"variety\", \"sort\": \"-y\", \"title\": \"Variety\", \"type\": \"nominal\"}, \"y\": {\"field\": \"tons\", \"type\": \"quantitative\"}}, \"height\": 400, \"padding\": 24, \"title\": \"Tons by State by Variety\", \"width\": 480, \"$schema\": \"https://vega.github.io/schema/vega-lite/v4.17.0.json\"}, {\"mode\": \"vega-lite\"});\n</script>",
      "text/plain": "alt.Chart(...)"
     },
     "execution_count": 6,
     "metadata": {},
     "output_type": "execute_result"
    }
   ],
   "source": [
    "chart_buyer = requests.get('http://127.0.0.1:8000/graph/df-grapes-by-state-buyer').json()\n",
    "Chart.from_dict(chart_buyer)"
   ]
  },
  {
   "cell_type": "code",
   "execution_count": 7,
   "id": "34eba267",
   "metadata": {
    "pycharm": {
     "name": "#%%\n"
    }
   },
   "outputs": [
    {
     "data": {
      "text/html": "\n<div id=\"altair-viz-19bfb224c73a495e8c4f6f968fa2f3f9\"></div>\n<script type=\"text/javascript\">\n  var VEGA_DEBUG = (typeof VEGA_DEBUG == \"undefined\") ? {} : VEGA_DEBUG;\n  (function(spec, embedOpt){\n    let outputDiv = document.currentScript.previousElementSibling;\n    if (outputDiv.id !== \"altair-viz-19bfb224c73a495e8c4f6f968fa2f3f9\") {\n      outputDiv = document.getElementById(\"altair-viz-19bfb224c73a495e8c4f6f968fa2f3f9\");\n    }\n    const paths = {\n      \"vega\": \"https://cdn.jsdelivr.net/npm//vega@5?noext\",\n      \"vega-lib\": \"https://cdn.jsdelivr.net/npm//vega-lib?noext\",\n      \"vega-lite\": \"https://cdn.jsdelivr.net/npm//vega-lite@4.17.0?noext\",\n      \"vega-embed\": \"https://cdn.jsdelivr.net/npm//vega-embed@6?noext\",\n    };\n\n    function maybeLoadScript(lib, version) {\n      var key = `${lib.replace(\"-\", \"\")}_version`;\n      return (VEGA_DEBUG[key] == version) ?\n        Promise.resolve(paths[lib]) :\n        new Promise(function(resolve, reject) {\n          var s = document.createElement('script');\n          document.getElementsByTagName(\"head\")[0].appendChild(s);\n          s.async = true;\n          s.onload = () => {\n            VEGA_DEBUG[key] = version;\n            return resolve(paths[lib]);\n          };\n          s.onerror = () => reject(`Error loading script: ${paths[lib]}`);\n          s.src = paths[lib];\n        });\n    }\n\n    function showError(err) {\n      outputDiv.innerHTML = `<div class=\"error\" style=\"color:red;\">${err}</div>`;\n      throw err;\n    }\n\n    function displayChart(vegaEmbed) {\n      vegaEmbed(outputDiv, spec, embedOpt)\n        .catch(err => showError(`Javascript Error: ${err.message}<br>This usually means there's a typo in your chart specification. See the javascript console for the full traceback.`));\n    }\n\n    if(typeof define === \"function\" && define.amd) {\n      requirejs.config({paths});\n      require([\"vega-embed\"], displayChart, err => showError(`Error loading script: ${err.message}`));\n    } else {\n      maybeLoadScript(\"vega\", \"5\")\n        .then(() => maybeLoadScript(\"vega-lite\", \"4.17.0\"))\n        .then(() => maybeLoadScript(\"vega-embed\", \"6\"))\n        .catch(showError)\n        .then(() => displayChart(vegaEmbed));\n    }\n  })({\"config\": {\"view\": {\"continuousWidth\": 400, \"continuousHeight\": 300, \"stroke\": \"#FFF\"}, \"legend\": {\"padding\": 24}, \"title\": {\"fontSize\": 20, \"offset\": 24}}, \"data\": {\"name\": \"data-422194bc53db900bf1589102444bcb5e\"}, \"mark\": \"bar\", \"datasets\": {\"data-422194bc53db900bf1589102444bcb5e\": [{\"variety\": \"Cabernet Sauvignon\", \"side\": \"Seller\", \"state\": \"California\", \"tons\": 35}, {\"variety\": \"Cabernet Sauvignon\", \"side\": \"Seller\", \"state\": \"Oregon\", \"tons\": 15}, {\"variety\": \"Cabernet Sauvignon\", \"side\": \"Seller\", \"state\": \"Washington\", \"tons\": 20}, {\"variety\": \"Chardonnay\", \"side\": \"Seller\", \"state\": \"Oregon\", \"tons\": 155}, {\"variety\": \"Chardonnay\", \"side\": \"Seller\", \"state\": \"Washington\", \"tons\": 75}, {\"variety\": \"Granache\", \"side\": \"Seller\", \"state\": \"California\", \"tons\": 130}, {\"variety\": \"Granache\", \"side\": \"Seller\", \"state\": \"Oregon\", \"tons\": 40}, {\"variety\": \"Granache\", \"side\": \"Seller\", \"state\": \"Washington\", \"tons\": 40}, {\"variety\": \"Marsanne\", \"side\": \"Seller\", \"state\": \"California\", \"tons\": 5}, {\"variety\": \"Marsanne\", \"side\": \"Seller\", \"state\": \"Oregon\", \"tons\": 20}, {\"variety\": \"Marsanne\", \"side\": \"Seller\", \"state\": \"Washington\", \"tons\": 20}, {\"variety\": \"Merlot\", \"side\": \"Seller\", \"state\": \"California\", \"tons\": 85}, {\"variety\": \"Merlot\", \"side\": \"Seller\", \"state\": \"Oregon\", \"tons\": 60}, {\"variety\": \"Merlot\", \"side\": \"Seller\", \"state\": \"Washington\", \"tons\": 85}, {\"variety\": \"Mourvedre\", \"side\": \"Seller\", \"state\": \"California\", \"tons\": 35}, {\"variety\": \"Mourvedre\", \"side\": \"Seller\", \"state\": \"Oregon\", \"tons\": 30}, {\"variety\": \"Nebbiolo\", \"side\": \"Seller\", \"state\": \"California\", \"tons\": 80}, {\"variety\": \"Nebbiolo\", \"side\": \"Seller\", \"state\": \"Oregon\", \"tons\": 80}, {\"variety\": \"Petit Verdot\", \"side\": \"Seller\", \"state\": \"California\", \"tons\": 50}, {\"variety\": \"Petit Verdot\", \"side\": \"Seller\", \"state\": \"Oregon\", \"tons\": 100}, {\"variety\": \"Petit Verdot\", \"side\": \"Seller\", \"state\": \"Washington\", \"tons\": 35}, {\"variety\": \"Pinot blanc\", \"side\": \"Seller\", \"state\": \"California\", \"tons\": 80}, {\"variety\": \"Pinot blanc\", \"side\": \"Seller\", \"state\": \"Oregon\", \"tons\": 180}, {\"variety\": \"Pinot blanc\", \"side\": \"Seller\", \"state\": \"Washington\", \"tons\": 60}, {\"variety\": \"Pinot gris\", \"side\": \"Seller\", \"state\": \"California\", \"tons\": 15}, {\"variety\": \"Pinot gris\", \"side\": \"Seller\", \"state\": \"Oregon\", \"tons\": 95}, {\"variety\": \"Pinot gris\", \"side\": \"Seller\", \"state\": \"Washington\", \"tons\": 40}, {\"variety\": \"Pinot noir\", \"side\": \"Seller\", \"state\": \"California\", \"tons\": 115}, {\"variety\": \"Pinot noir\", \"side\": \"Seller\", \"state\": \"Oregon\", \"tons\": 95}, {\"variety\": \"Pinot noir\", \"side\": \"Seller\", \"state\": \"Washington\", \"tons\": 60}, {\"variety\": \"Riesling\", \"side\": \"Seller\", \"state\": \"California\", \"tons\": 75}, {\"variety\": \"Riesling\", \"side\": \"Seller\", \"state\": \"Oregon\", \"tons\": 120}, {\"variety\": \"Riesling\", \"side\": \"Seller\", \"state\": \"Washington\", \"tons\": 40}, {\"variety\": \"Roussanne\", \"side\": \"Seller\", \"state\": \"California\", \"tons\": 80}, {\"variety\": \"Roussanne\", \"side\": \"Seller\", \"state\": \"Oregon\", \"tons\": 55}, {\"variety\": \"Roussanne\", \"side\": \"Seller\", \"state\": \"Washington\", \"tons\": 40}, {\"variety\": \"Sangiovese\", \"side\": \"Seller\", \"state\": \"Oregon\", \"tons\": 80}, {\"variety\": \"Sangiovese\", \"side\": \"Seller\", \"state\": \"Washington\", \"tons\": 95}, {\"variety\": \"Sauvignon blanc\", \"side\": \"Seller\", \"state\": \"California\", \"tons\": 5}, {\"variety\": \"Sauvignon blanc\", \"side\": \"Seller\", \"state\": \"Oregon\", \"tons\": 90}, {\"variety\": \"Sauvignon blanc\", \"side\": \"Seller\", \"state\": \"Washington\", \"tons\": 40}, {\"variety\": \"Semillon\", \"side\": \"Seller\", \"state\": \"California\", \"tons\": 30}, {\"variety\": \"Semillon\", \"side\": \"Seller\", \"state\": \"Oregon\", \"tons\": 70}, {\"variety\": \"Semillon\", \"side\": \"Seller\", \"state\": \"Washington\", \"tons\": 50}, {\"variety\": \"Syrah\", \"side\": \"Seller\", \"state\": \"California\", \"tons\": 45}, {\"variety\": \"Syrah\", \"side\": \"Seller\", \"state\": \"Oregon\", \"tons\": 80}, {\"variety\": \"Syrah\", \"side\": \"Seller\", \"state\": \"Washington\", \"tons\": 55}, {\"variety\": \"Viognier\", \"side\": \"Seller\", \"state\": \"California\", \"tons\": 60}, {\"variety\": \"Viognier\", \"side\": \"Seller\", \"state\": \"Oregon\", \"tons\": 140}, {\"variety\": \"Viognier\", \"side\": \"Seller\", \"state\": \"Washington\", \"tons\": 70}]}, \"encoding\": {\"color\": {\"field\": \"state\", \"title\": \"State\", \"type\": \"nominal\"}, \"tooltip\": [{\"field\": \"state\", \"type\": \"nominal\"}, {\"field\": \"variety\", \"type\": \"nominal\"}, {\"field\": \"tons\", \"type\": \"quantitative\"}], \"x\": {\"field\": \"variety\", \"sort\": \"-y\", \"title\": \"Variety\", \"type\": \"nominal\"}, \"y\": {\"field\": \"tons\", \"type\": \"quantitative\"}}, \"height\": 400, \"padding\": 24, \"title\": \"Tons by State by Variety\", \"width\": 480, \"$schema\": \"https://vega.github.io/schema/vega-lite/v4.17.0.json\"}, {\"mode\": \"vega-lite\"});\n</script>",
      "text/plain": "alt.Chart(...)"
     },
     "execution_count": 7,
     "metadata": {},
     "output_type": "execute_result"
    }
   ],
   "source": [
    "chart_seller = requests.get('http://127.0.0.1:8000/graph/df-grapes-by-state-seller').json()\n",
    "Chart.from_dict(chart_seller)"
   ]
  },
  {
   "cell_type": "code",
   "execution_count": 8,
   "id": "f9ad11f4",
   "metadata": {
    "pycharm": {
     "name": "#%%\n"
    }
   },
   "outputs": [
    {
     "data": {
      "text/plain": "              variety   side       state  tons\n0  Cabernet Sauvignon  Buyer  California    70\n1  Cabernet Sauvignon  Buyer      Oregon   150\n2  Cabernet Sauvignon  Buyer  Washington   105\n3          Chardonnay  Buyer  California    80\n4          Chardonnay  Buyer      Oregon   155",
      "text/html": "<div>\n<style scoped>\n    .dataframe tbody tr th:only-of-type {\n        vertical-align: middle;\n    }\n\n    .dataframe tbody tr th {\n        vertical-align: top;\n    }\n\n    .dataframe thead th {\n        text-align: right;\n    }\n</style>\n<table border=\"1\" class=\"dataframe\">\n  <thead>\n    <tr style=\"text-align: right;\">\n      <th></th>\n      <th>variety</th>\n      <th>side</th>\n      <th>state</th>\n      <th>tons</th>\n    </tr>\n  </thead>\n  <tbody>\n    <tr>\n      <th>0</th>\n      <td>Cabernet Sauvignon</td>\n      <td>Buyer</td>\n      <td>California</td>\n      <td>70</td>\n    </tr>\n    <tr>\n      <th>1</th>\n      <td>Cabernet Sauvignon</td>\n      <td>Buyer</td>\n      <td>Oregon</td>\n      <td>150</td>\n    </tr>\n    <tr>\n      <th>2</th>\n      <td>Cabernet Sauvignon</td>\n      <td>Buyer</td>\n      <td>Washington</td>\n      <td>105</td>\n    </tr>\n    <tr>\n      <th>3</th>\n      <td>Chardonnay</td>\n      <td>Buyer</td>\n      <td>California</td>\n      <td>80</td>\n    </tr>\n    <tr>\n      <th>4</th>\n      <td>Chardonnay</td>\n      <td>Buyer</td>\n      <td>Oregon</td>\n      <td>155</td>\n    </tr>\n  </tbody>\n</table>\n</div>"
     },
     "execution_count": 8,
     "metadata": {},
     "output_type": "execute_result"
    }
   ],
   "source": [
    "total = concat([grape_buyers, grape_sellers])\n",
    "total.head()"
   ]
  },
  {
   "cell_type": "code",
   "execution_count": 9,
   "id": "726bedae",
   "metadata": {
    "pycharm": {
     "name": "#%%\n"
    }
   },
   "outputs": [],
   "source": [
    "def title_fix(string: str) -> str:\n",
    "    return string.title().replace(\"_\", \" \")"
   ]
  },
  {
   "cell_type": "code",
   "execution_count": 10,
   "id": "7527837c",
   "metadata": {
    "pycharm": {
     "name": "#%%\n"
    }
   },
   "outputs": [],
   "source": [
    "def grouped_bar_chart(df: DataFrame, column_1: str, column_2: str, column_3: str, column_4: str) -> Chart:\n",
    "    return Chart(\n",
    "        df,\n",
    "        title=f\"{title_fix(column_1)} per {title_fix(column_3)} by {title_fix(column_2)} by {title_fix(column_4)}\",\n",
    "    ).mark_bar().encode(\n",
    "        column=Column(column_4),\n",
    "        x=X(column_3, title=title_fix(column_3), sort=\"-y\"),\n",
    "        y=Y(column_1),\n",
    "        color=Color(column_2, title=title_fix(column_2)),\n",
    "        tooltip=Tooltip([column_2, column_3, column_1])\n",
    "    ).properties(\n",
    "        width=480,\n",
    "        height=400,\n",
    "        padding=24,\n",
    "    ).configure(\n",
    "        legend={\"padding\": 24},\n",
    "        title={\"fontSize\": 20, \"offset\": 24},\n",
    "        view={\"stroke\": \"#FFF\"},\n",
    "    )\n"
   ]
  },
  {
   "cell_type": "code",
   "execution_count": 11,
   "id": "f4faf389",
   "metadata": {
    "pycharm": {
     "name": "#%%\n"
    }
   },
   "outputs": [
    {
     "data": {
      "text/html": "\n<div id=\"altair-viz-47231b1642564003b762ca18bdb7399c\"></div>\n<script type=\"text/javascript\">\n  var VEGA_DEBUG = (typeof VEGA_DEBUG == \"undefined\") ? {} : VEGA_DEBUG;\n  (function(spec, embedOpt){\n    let outputDiv = document.currentScript.previousElementSibling;\n    if (outputDiv.id !== \"altair-viz-47231b1642564003b762ca18bdb7399c\") {\n      outputDiv = document.getElementById(\"altair-viz-47231b1642564003b762ca18bdb7399c\");\n    }\n    const paths = {\n      \"vega\": \"https://cdn.jsdelivr.net/npm//vega@5?noext\",\n      \"vega-lib\": \"https://cdn.jsdelivr.net/npm//vega-lib?noext\",\n      \"vega-lite\": \"https://cdn.jsdelivr.net/npm//vega-lite@4.17.0?noext\",\n      \"vega-embed\": \"https://cdn.jsdelivr.net/npm//vega-embed@6?noext\",\n    };\n\n    function maybeLoadScript(lib, version) {\n      var key = `${lib.replace(\"-\", \"\")}_version`;\n      return (VEGA_DEBUG[key] == version) ?\n        Promise.resolve(paths[lib]) :\n        new Promise(function(resolve, reject) {\n          var s = document.createElement('script');\n          document.getElementsByTagName(\"head\")[0].appendChild(s);\n          s.async = true;\n          s.onload = () => {\n            VEGA_DEBUG[key] = version;\n            return resolve(paths[lib]);\n          };\n          s.onerror = () => reject(`Error loading script: ${paths[lib]}`);\n          s.src = paths[lib];\n        });\n    }\n\n    function showError(err) {\n      outputDiv.innerHTML = `<div class=\"error\" style=\"color:red;\">${err}</div>`;\n      throw err;\n    }\n\n    function displayChart(vegaEmbed) {\n      vegaEmbed(outputDiv, spec, embedOpt)\n        .catch(err => showError(`Javascript Error: ${err.message}<br>This usually means there's a typo in your chart specification. See the javascript console for the full traceback.`));\n    }\n\n    if(typeof define === \"function\" && define.amd) {\n      requirejs.config({paths});\n      require([\"vega-embed\"], displayChart, err => showError(`Error loading script: ${err.message}`));\n    } else {\n      maybeLoadScript(\"vega\", \"5\")\n        .then(() => maybeLoadScript(\"vega-lite\", \"4.17.0\"))\n        .then(() => maybeLoadScript(\"vega-embed\", \"6\"))\n        .catch(showError)\n        .then(() => displayChart(vegaEmbed));\n    }\n  })({\"config\": {\"view\": {\"continuousWidth\": 400, \"continuousHeight\": 300, \"stroke\": \"#FFF\"}, \"legend\": {\"padding\": 24}, \"title\": {\"fontSize\": 20, \"offset\": 24}}, \"data\": {\"name\": \"data-1e946212a5baa638b9c5fcd0f79c3c2c\"}, \"mark\": \"bar\", \"encoding\": {\"color\": {\"field\": \"side\", \"title\": \"Side\", \"type\": \"nominal\"}, \"column\": {\"field\": \"state\", \"type\": \"nominal\"}, \"tooltip\": [{\"field\": \"side\", \"type\": \"nominal\"}, {\"field\": \"variety\", \"type\": \"nominal\"}, {\"field\": \"tons\", \"type\": \"quantitative\"}], \"x\": {\"field\": \"variety\", \"sort\": \"-y\", \"title\": \"Variety\", \"type\": \"nominal\"}, \"y\": {\"field\": \"tons\", \"type\": \"quantitative\"}}, \"height\": 400, \"padding\": 24, \"title\": \"Tons per Variety by Side by State\", \"width\": 480, \"$schema\": \"https://vega.github.io/schema/vega-lite/v4.17.0.json\", \"datasets\": {\"data-1e946212a5baa638b9c5fcd0f79c3c2c\": [{\"variety\": \"Cabernet Sauvignon\", \"side\": \"Buyer\", \"state\": \"California\", \"tons\": 70}, {\"variety\": \"Cabernet Sauvignon\", \"side\": \"Buyer\", \"state\": \"Oregon\", \"tons\": 150}, {\"variety\": \"Cabernet Sauvignon\", \"side\": \"Buyer\", \"state\": \"Washington\", \"tons\": 105}, {\"variety\": \"Chardonnay\", \"side\": \"Buyer\", \"state\": \"California\", \"tons\": 80}, {\"variety\": \"Chardonnay\", \"side\": \"Buyer\", \"state\": \"Oregon\", \"tons\": 155}, {\"variety\": \"Chardonnay\", \"side\": \"Buyer\", \"state\": \"Washington\", \"tons\": 345}, {\"variety\": \"Granache\", \"side\": \"Buyer\", \"state\": \"California\", \"tons\": 40}, {\"variety\": \"Granache\", \"side\": \"Buyer\", \"state\": \"Oregon\", \"tons\": 80}, {\"variety\": \"Granache\", \"side\": \"Buyer\", \"state\": \"Washington\", \"tons\": 15}, {\"variety\": \"Marsanne\", \"side\": \"Buyer\", \"state\": \"California\", \"tons\": 60}, {\"variety\": \"Marsanne\", \"side\": \"Buyer\", \"state\": \"Oregon\", \"tons\": 355}, {\"variety\": \"Marsanne\", \"side\": \"Buyer\", \"state\": \"Washington\", \"tons\": 85}, {\"variety\": \"Merlot\", \"side\": \"Buyer\", \"state\": \"California\", \"tons\": 180}, {\"variety\": \"Merlot\", \"side\": \"Buyer\", \"state\": \"Oregon\", \"tons\": 130}, {\"variety\": \"Merlot\", \"side\": \"Buyer\", \"state\": \"Washington\", \"tons\": 135}, {\"variety\": \"Mourvedre\", \"side\": \"Buyer\", \"state\": \"California\", \"tons\": 135}, {\"variety\": \"Mourvedre\", \"side\": \"Buyer\", \"state\": \"Oregon\", \"tons\": 165}, {\"variety\": \"Mourvedre\", \"side\": \"Buyer\", \"state\": \"Washington\", \"tons\": 280}, {\"variety\": \"Nebbiolo\", \"side\": \"Buyer\", \"state\": \"California\", \"tons\": 130}, {\"variety\": \"Nebbiolo\", \"side\": \"Buyer\", \"state\": \"Oregon\", \"tons\": 55}, {\"variety\": \"Nebbiolo\", \"side\": \"Buyer\", \"state\": \"Washington\", \"tons\": 250}, {\"variety\": \"Petit Verdot\", \"side\": \"Buyer\", \"state\": \"California\", \"tons\": 145}, {\"variety\": \"Petit Verdot\", \"side\": \"Buyer\", \"state\": \"Oregon\", \"tons\": 245}, {\"variety\": \"Petit Verdot\", \"side\": \"Buyer\", \"state\": \"Washington\", \"tons\": 110}, {\"variety\": \"Pinot blanc\", \"side\": \"Buyer\", \"state\": \"California\", \"tons\": 160}, {\"variety\": \"Pinot blanc\", \"side\": \"Buyer\", \"state\": \"Oregon\", \"tons\": 55}, {\"variety\": \"Pinot blanc\", \"side\": \"Buyer\", \"state\": \"Washington\", \"tons\": 245}, {\"variety\": \"Pinot gris\", \"side\": \"Buyer\", \"state\": \"California\", \"tons\": 115}, {\"variety\": \"Pinot gris\", \"side\": \"Buyer\", \"state\": \"Oregon\", \"tons\": 195}, {\"variety\": \"Pinot gris\", \"side\": \"Buyer\", \"state\": \"Washington\", \"tons\": 240}, {\"variety\": \"Pinot noir\", \"side\": \"Buyer\", \"state\": \"California\", \"tons\": 110}, {\"variety\": \"Pinot noir\", \"side\": \"Buyer\", \"state\": \"Oregon\", \"tons\": 300}, {\"variety\": \"Pinot noir\", \"side\": \"Buyer\", \"state\": \"Washington\", \"tons\": 155}, {\"variety\": \"Riesling\", \"side\": \"Buyer\", \"state\": \"California\", \"tons\": 125}, {\"variety\": \"Riesling\", \"side\": \"Buyer\", \"state\": \"Oregon\", \"tons\": 145}, {\"variety\": \"Riesling\", \"side\": \"Buyer\", \"state\": \"Washington\", \"tons\": 150}, {\"variety\": \"Roussanne\", \"side\": \"Buyer\", \"state\": \"California\", \"tons\": 60}, {\"variety\": \"Roussanne\", \"side\": \"Buyer\", \"state\": \"Oregon\", \"tons\": 50}, {\"variety\": \"Roussanne\", \"side\": \"Buyer\", \"state\": \"Washington\", \"tons\": 85}, {\"variety\": \"Sangiovese\", \"side\": \"Buyer\", \"state\": \"California\", \"tons\": 55}, {\"variety\": \"Sangiovese\", \"side\": \"Buyer\", \"state\": \"Oregon\", \"tons\": 70}, {\"variety\": \"Sangiovese\", \"side\": \"Buyer\", \"state\": \"Washington\", \"tons\": 240}, {\"variety\": \"Sauvignon blanc\", \"side\": \"Buyer\", \"state\": \"California\", \"tons\": 195}, {\"variety\": \"Sauvignon blanc\", \"side\": \"Buyer\", \"state\": \"Oregon\", \"tons\": 170}, {\"variety\": \"Sauvignon blanc\", \"side\": \"Buyer\", \"state\": \"Washington\", \"tons\": 65}, {\"variety\": \"Semillon\", \"side\": \"Buyer\", \"state\": \"California\", \"tons\": 180}, {\"variety\": \"Semillon\", \"side\": \"Buyer\", \"state\": \"Oregon\", \"tons\": 155}, {\"variety\": \"Semillon\", \"side\": \"Buyer\", \"state\": \"Washington\", \"tons\": 50}, {\"variety\": \"Syrah\", \"side\": \"Buyer\", \"state\": \"California\", \"tons\": 240}, {\"variety\": \"Syrah\", \"side\": \"Buyer\", \"state\": \"Oregon\", \"tons\": 95}, {\"variety\": \"Syrah\", \"side\": \"Buyer\", \"state\": \"Washington\", \"tons\": 190}, {\"variety\": \"Viognier\", \"side\": \"Buyer\", \"state\": \"California\", \"tons\": 70}, {\"variety\": \"Viognier\", \"side\": \"Buyer\", \"state\": \"Oregon\", \"tons\": 120}, {\"variety\": \"Viognier\", \"side\": \"Buyer\", \"state\": \"Washington\", \"tons\": 140}, {\"variety\": \"Cabernet Sauvignon\", \"side\": \"Seller\", \"state\": \"California\", \"tons\": 35}, {\"variety\": \"Cabernet Sauvignon\", \"side\": \"Seller\", \"state\": \"Oregon\", \"tons\": 15}, {\"variety\": \"Cabernet Sauvignon\", \"side\": \"Seller\", \"state\": \"Washington\", \"tons\": 20}, {\"variety\": \"Chardonnay\", \"side\": \"Seller\", \"state\": \"Oregon\", \"tons\": 155}, {\"variety\": \"Chardonnay\", \"side\": \"Seller\", \"state\": \"Washington\", \"tons\": 75}, {\"variety\": \"Granache\", \"side\": \"Seller\", \"state\": \"California\", \"tons\": 130}, {\"variety\": \"Granache\", \"side\": \"Seller\", \"state\": \"Oregon\", \"tons\": 40}, {\"variety\": \"Granache\", \"side\": \"Seller\", \"state\": \"Washington\", \"tons\": 40}, {\"variety\": \"Marsanne\", \"side\": \"Seller\", \"state\": \"California\", \"tons\": 5}, {\"variety\": \"Marsanne\", \"side\": \"Seller\", \"state\": \"Oregon\", \"tons\": 20}, {\"variety\": \"Marsanne\", \"side\": \"Seller\", \"state\": \"Washington\", \"tons\": 20}, {\"variety\": \"Merlot\", \"side\": \"Seller\", \"state\": \"California\", \"tons\": 85}, {\"variety\": \"Merlot\", \"side\": \"Seller\", \"state\": \"Oregon\", \"tons\": 60}, {\"variety\": \"Merlot\", \"side\": \"Seller\", \"state\": \"Washington\", \"tons\": 85}, {\"variety\": \"Mourvedre\", \"side\": \"Seller\", \"state\": \"California\", \"tons\": 35}, {\"variety\": \"Mourvedre\", \"side\": \"Seller\", \"state\": \"Oregon\", \"tons\": 30}, {\"variety\": \"Nebbiolo\", \"side\": \"Seller\", \"state\": \"California\", \"tons\": 80}, {\"variety\": \"Nebbiolo\", \"side\": \"Seller\", \"state\": \"Oregon\", \"tons\": 80}, {\"variety\": \"Petit Verdot\", \"side\": \"Seller\", \"state\": \"California\", \"tons\": 50}, {\"variety\": \"Petit Verdot\", \"side\": \"Seller\", \"state\": \"Oregon\", \"tons\": 100}, {\"variety\": \"Petit Verdot\", \"side\": \"Seller\", \"state\": \"Washington\", \"tons\": 35}, {\"variety\": \"Pinot blanc\", \"side\": \"Seller\", \"state\": \"California\", \"tons\": 80}, {\"variety\": \"Pinot blanc\", \"side\": \"Seller\", \"state\": \"Oregon\", \"tons\": 180}, {\"variety\": \"Pinot blanc\", \"side\": \"Seller\", \"state\": \"Washington\", \"tons\": 60}, {\"variety\": \"Pinot gris\", \"side\": \"Seller\", \"state\": \"California\", \"tons\": 15}, {\"variety\": \"Pinot gris\", \"side\": \"Seller\", \"state\": \"Oregon\", \"tons\": 95}, {\"variety\": \"Pinot gris\", \"side\": \"Seller\", \"state\": \"Washington\", \"tons\": 40}, {\"variety\": \"Pinot noir\", \"side\": \"Seller\", \"state\": \"California\", \"tons\": 115}, {\"variety\": \"Pinot noir\", \"side\": \"Seller\", \"state\": \"Oregon\", \"tons\": 95}, {\"variety\": \"Pinot noir\", \"side\": \"Seller\", \"state\": \"Washington\", \"tons\": 60}, {\"variety\": \"Riesling\", \"side\": \"Seller\", \"state\": \"California\", \"tons\": 75}, {\"variety\": \"Riesling\", \"side\": \"Seller\", \"state\": \"Oregon\", \"tons\": 120}, {\"variety\": \"Riesling\", \"side\": \"Seller\", \"state\": \"Washington\", \"tons\": 40}, {\"variety\": \"Roussanne\", \"side\": \"Seller\", \"state\": \"California\", \"tons\": 80}, {\"variety\": \"Roussanne\", \"side\": \"Seller\", \"state\": \"Oregon\", \"tons\": 55}, {\"variety\": \"Roussanne\", \"side\": \"Seller\", \"state\": \"Washington\", \"tons\": 40}, {\"variety\": \"Sangiovese\", \"side\": \"Seller\", \"state\": \"Oregon\", \"tons\": 80}, {\"variety\": \"Sangiovese\", \"side\": \"Seller\", \"state\": \"Washington\", \"tons\": 95}, {\"variety\": \"Sauvignon blanc\", \"side\": \"Seller\", \"state\": \"California\", \"tons\": 5}, {\"variety\": \"Sauvignon blanc\", \"side\": \"Seller\", \"state\": \"Oregon\", \"tons\": 90}, {\"variety\": \"Sauvignon blanc\", \"side\": \"Seller\", \"state\": \"Washington\", \"tons\": 40}, {\"variety\": \"Semillon\", \"side\": \"Seller\", \"state\": \"California\", \"tons\": 30}, {\"variety\": \"Semillon\", \"side\": \"Seller\", \"state\": \"Oregon\", \"tons\": 70}, {\"variety\": \"Semillon\", \"side\": \"Seller\", \"state\": \"Washington\", \"tons\": 50}, {\"variety\": \"Syrah\", \"side\": \"Seller\", \"state\": \"California\", \"tons\": 45}, {\"variety\": \"Syrah\", \"side\": \"Seller\", \"state\": \"Oregon\", \"tons\": 80}, {\"variety\": \"Syrah\", \"side\": \"Seller\", \"state\": \"Washington\", \"tons\": 55}, {\"variety\": \"Viognier\", \"side\": \"Seller\", \"state\": \"California\", \"tons\": 60}, {\"variety\": \"Viognier\", \"side\": \"Seller\", \"state\": \"Oregon\", \"tons\": 140}, {\"variety\": \"Viognier\", \"side\": \"Seller\", \"state\": \"Washington\", \"tons\": 70}]}}, {\"mode\": \"vega-lite\"});\n</script>",
      "text/plain": "alt.Chart(...)"
     },
     "execution_count": 11,
     "metadata": {},
     "output_type": "execute_result"
    }
   ],
   "source": [
    "grouped_bar_chart(total, 'tons', 'side', 'variety', 'state')"
   ]
  },
  {
   "cell_type": "code",
   "execution_count": 12,
   "id": "7689cfa2",
   "metadata": {
    "pycharm": {
     "name": "#%%\n"
    }
   },
   "outputs": [
    {
     "data": {
      "text/html": "\n<div id=\"altair-viz-d0220b91c60e4573933ffbe8c34aabca\"></div>\n<script type=\"text/javascript\">\n  var VEGA_DEBUG = (typeof VEGA_DEBUG == \"undefined\") ? {} : VEGA_DEBUG;\n  (function(spec, embedOpt){\n    let outputDiv = document.currentScript.previousElementSibling;\n    if (outputDiv.id !== \"altair-viz-d0220b91c60e4573933ffbe8c34aabca\") {\n      outputDiv = document.getElementById(\"altair-viz-d0220b91c60e4573933ffbe8c34aabca\");\n    }\n    const paths = {\n      \"vega\": \"https://cdn.jsdelivr.net/npm//vega@5?noext\",\n      \"vega-lib\": \"https://cdn.jsdelivr.net/npm//vega-lib?noext\",\n      \"vega-lite\": \"https://cdn.jsdelivr.net/npm//vega-lite@4.17.0?noext\",\n      \"vega-embed\": \"https://cdn.jsdelivr.net/npm//vega-embed@6?noext\",\n    };\n\n    function maybeLoadScript(lib, version) {\n      var key = `${lib.replace(\"-\", \"\")}_version`;\n      return (VEGA_DEBUG[key] == version) ?\n        Promise.resolve(paths[lib]) :\n        new Promise(function(resolve, reject) {\n          var s = document.createElement('script');\n          document.getElementsByTagName(\"head\")[0].appendChild(s);\n          s.async = true;\n          s.onload = () => {\n            VEGA_DEBUG[key] = version;\n            return resolve(paths[lib]);\n          };\n          s.onerror = () => reject(`Error loading script: ${paths[lib]}`);\n          s.src = paths[lib];\n        });\n    }\n\n    function showError(err) {\n      outputDiv.innerHTML = `<div class=\"error\" style=\"color:red;\">${err}</div>`;\n      throw err;\n    }\n\n    function displayChart(vegaEmbed) {\n      vegaEmbed(outputDiv, spec, embedOpt)\n        .catch(err => showError(`Javascript Error: ${err.message}<br>This usually means there's a typo in your chart specification. See the javascript console for the full traceback.`));\n    }\n\n    if(typeof define === \"function\" && define.amd) {\n      requirejs.config({paths});\n      require([\"vega-embed\"], displayChart, err => showError(`Error loading script: ${err.message}`));\n    } else {\n      maybeLoadScript(\"vega\", \"5\")\n        .then(() => maybeLoadScript(\"vega-lite\", \"4.17.0\"))\n        .then(() => maybeLoadScript(\"vega-embed\", \"6\"))\n        .catch(showError)\n        .then(() => displayChart(vegaEmbed));\n    }\n  })({\"config\": {\"view\": {\"continuousWidth\": 400, \"continuousHeight\": 300, \"stroke\": \"#FFF\"}, \"legend\": {\"padding\": 24}, \"title\": {\"fontSize\": 20, \"offset\": 24}}, \"data\": {\"name\": \"data-1e946212a5baa638b9c5fcd0f79c3c2c\"}, \"mark\": \"bar\", \"datasets\": {\"data-1e946212a5baa638b9c5fcd0f79c3c2c\": [{\"variety\": \"Cabernet Sauvignon\", \"side\": \"Buyer\", \"state\": \"California\", \"tons\": 70}, {\"variety\": \"Cabernet Sauvignon\", \"side\": \"Buyer\", \"state\": \"Oregon\", \"tons\": 150}, {\"variety\": \"Cabernet Sauvignon\", \"side\": \"Buyer\", \"state\": \"Washington\", \"tons\": 105}, {\"variety\": \"Chardonnay\", \"side\": \"Buyer\", \"state\": \"California\", \"tons\": 80}, {\"variety\": \"Chardonnay\", \"side\": \"Buyer\", \"state\": \"Oregon\", \"tons\": 155}, {\"variety\": \"Chardonnay\", \"side\": \"Buyer\", \"state\": \"Washington\", \"tons\": 345}, {\"variety\": \"Granache\", \"side\": \"Buyer\", \"state\": \"California\", \"tons\": 40}, {\"variety\": \"Granache\", \"side\": \"Buyer\", \"state\": \"Oregon\", \"tons\": 80}, {\"variety\": \"Granache\", \"side\": \"Buyer\", \"state\": \"Washington\", \"tons\": 15}, {\"variety\": \"Marsanne\", \"side\": \"Buyer\", \"state\": \"California\", \"tons\": 60}, {\"variety\": \"Marsanne\", \"side\": \"Buyer\", \"state\": \"Oregon\", \"tons\": 355}, {\"variety\": \"Marsanne\", \"side\": \"Buyer\", \"state\": \"Washington\", \"tons\": 85}, {\"variety\": \"Merlot\", \"side\": \"Buyer\", \"state\": \"California\", \"tons\": 180}, {\"variety\": \"Merlot\", \"side\": \"Buyer\", \"state\": \"Oregon\", \"tons\": 130}, {\"variety\": \"Merlot\", \"side\": \"Buyer\", \"state\": \"Washington\", \"tons\": 135}, {\"variety\": \"Mourvedre\", \"side\": \"Buyer\", \"state\": \"California\", \"tons\": 135}, {\"variety\": \"Mourvedre\", \"side\": \"Buyer\", \"state\": \"Oregon\", \"tons\": 165}, {\"variety\": \"Mourvedre\", \"side\": \"Buyer\", \"state\": \"Washington\", \"tons\": 280}, {\"variety\": \"Nebbiolo\", \"side\": \"Buyer\", \"state\": \"California\", \"tons\": 130}, {\"variety\": \"Nebbiolo\", \"side\": \"Buyer\", \"state\": \"Oregon\", \"tons\": 55}, {\"variety\": \"Nebbiolo\", \"side\": \"Buyer\", \"state\": \"Washington\", \"tons\": 250}, {\"variety\": \"Petit Verdot\", \"side\": \"Buyer\", \"state\": \"California\", \"tons\": 145}, {\"variety\": \"Petit Verdot\", \"side\": \"Buyer\", \"state\": \"Oregon\", \"tons\": 245}, {\"variety\": \"Petit Verdot\", \"side\": \"Buyer\", \"state\": \"Washington\", \"tons\": 110}, {\"variety\": \"Pinot blanc\", \"side\": \"Buyer\", \"state\": \"California\", \"tons\": 160}, {\"variety\": \"Pinot blanc\", \"side\": \"Buyer\", \"state\": \"Oregon\", \"tons\": 55}, {\"variety\": \"Pinot blanc\", \"side\": \"Buyer\", \"state\": \"Washington\", \"tons\": 245}, {\"variety\": \"Pinot gris\", \"side\": \"Buyer\", \"state\": \"California\", \"tons\": 115}, {\"variety\": \"Pinot gris\", \"side\": \"Buyer\", \"state\": \"Oregon\", \"tons\": 195}, {\"variety\": \"Pinot gris\", \"side\": \"Buyer\", \"state\": \"Washington\", \"tons\": 240}, {\"variety\": \"Pinot noir\", \"side\": \"Buyer\", \"state\": \"California\", \"tons\": 110}, {\"variety\": \"Pinot noir\", \"side\": \"Buyer\", \"state\": \"Oregon\", \"tons\": 300}, {\"variety\": \"Pinot noir\", \"side\": \"Buyer\", \"state\": \"Washington\", \"tons\": 155}, {\"variety\": \"Riesling\", \"side\": \"Buyer\", \"state\": \"California\", \"tons\": 125}, {\"variety\": \"Riesling\", \"side\": \"Buyer\", \"state\": \"Oregon\", \"tons\": 145}, {\"variety\": \"Riesling\", \"side\": \"Buyer\", \"state\": \"Washington\", \"tons\": 150}, {\"variety\": \"Roussanne\", \"side\": \"Buyer\", \"state\": \"California\", \"tons\": 60}, {\"variety\": \"Roussanne\", \"side\": \"Buyer\", \"state\": \"Oregon\", \"tons\": 50}, {\"variety\": \"Roussanne\", \"side\": \"Buyer\", \"state\": \"Washington\", \"tons\": 85}, {\"variety\": \"Sangiovese\", \"side\": \"Buyer\", \"state\": \"California\", \"tons\": 55}, {\"variety\": \"Sangiovese\", \"side\": \"Buyer\", \"state\": \"Oregon\", \"tons\": 70}, {\"variety\": \"Sangiovese\", \"side\": \"Buyer\", \"state\": \"Washington\", \"tons\": 240}, {\"variety\": \"Sauvignon blanc\", \"side\": \"Buyer\", \"state\": \"California\", \"tons\": 195}, {\"variety\": \"Sauvignon blanc\", \"side\": \"Buyer\", \"state\": \"Oregon\", \"tons\": 170}, {\"variety\": \"Sauvignon blanc\", \"side\": \"Buyer\", \"state\": \"Washington\", \"tons\": 65}, {\"variety\": \"Semillon\", \"side\": \"Buyer\", \"state\": \"California\", \"tons\": 180}, {\"variety\": \"Semillon\", \"side\": \"Buyer\", \"state\": \"Oregon\", \"tons\": 155}, {\"variety\": \"Semillon\", \"side\": \"Buyer\", \"state\": \"Washington\", \"tons\": 50}, {\"variety\": \"Syrah\", \"side\": \"Buyer\", \"state\": \"California\", \"tons\": 240}, {\"variety\": \"Syrah\", \"side\": \"Buyer\", \"state\": \"Oregon\", \"tons\": 95}, {\"variety\": \"Syrah\", \"side\": \"Buyer\", \"state\": \"Washington\", \"tons\": 190}, {\"variety\": \"Viognier\", \"side\": \"Buyer\", \"state\": \"California\", \"tons\": 70}, {\"variety\": \"Viognier\", \"side\": \"Buyer\", \"state\": \"Oregon\", \"tons\": 120}, {\"variety\": \"Viognier\", \"side\": \"Buyer\", \"state\": \"Washington\", \"tons\": 140}, {\"variety\": \"Cabernet Sauvignon\", \"side\": \"Seller\", \"state\": \"California\", \"tons\": 35}, {\"variety\": \"Cabernet Sauvignon\", \"side\": \"Seller\", \"state\": \"Oregon\", \"tons\": 15}, {\"variety\": \"Cabernet Sauvignon\", \"side\": \"Seller\", \"state\": \"Washington\", \"tons\": 20}, {\"variety\": \"Chardonnay\", \"side\": \"Seller\", \"state\": \"Oregon\", \"tons\": 155}, {\"variety\": \"Chardonnay\", \"side\": \"Seller\", \"state\": \"Washington\", \"tons\": 75}, {\"variety\": \"Granache\", \"side\": \"Seller\", \"state\": \"California\", \"tons\": 130}, {\"variety\": \"Granache\", \"side\": \"Seller\", \"state\": \"Oregon\", \"tons\": 40}, {\"variety\": \"Granache\", \"side\": \"Seller\", \"state\": \"Washington\", \"tons\": 40}, {\"variety\": \"Marsanne\", \"side\": \"Seller\", \"state\": \"California\", \"tons\": 5}, {\"variety\": \"Marsanne\", \"side\": \"Seller\", \"state\": \"Oregon\", \"tons\": 20}, {\"variety\": \"Marsanne\", \"side\": \"Seller\", \"state\": \"Washington\", \"tons\": 20}, {\"variety\": \"Merlot\", \"side\": \"Seller\", \"state\": \"California\", \"tons\": 85}, {\"variety\": \"Merlot\", \"side\": \"Seller\", \"state\": \"Oregon\", \"tons\": 60}, {\"variety\": \"Merlot\", \"side\": \"Seller\", \"state\": \"Washington\", \"tons\": 85}, {\"variety\": \"Mourvedre\", \"side\": \"Seller\", \"state\": \"California\", \"tons\": 35}, {\"variety\": \"Mourvedre\", \"side\": \"Seller\", \"state\": \"Oregon\", \"tons\": 30}, {\"variety\": \"Nebbiolo\", \"side\": \"Seller\", \"state\": \"California\", \"tons\": 80}, {\"variety\": \"Nebbiolo\", \"side\": \"Seller\", \"state\": \"Oregon\", \"tons\": 80}, {\"variety\": \"Petit Verdot\", \"side\": \"Seller\", \"state\": \"California\", \"tons\": 50}, {\"variety\": \"Petit Verdot\", \"side\": \"Seller\", \"state\": \"Oregon\", \"tons\": 100}, {\"variety\": \"Petit Verdot\", \"side\": \"Seller\", \"state\": \"Washington\", \"tons\": 35}, {\"variety\": \"Pinot blanc\", \"side\": \"Seller\", \"state\": \"California\", \"tons\": 80}, {\"variety\": \"Pinot blanc\", \"side\": \"Seller\", \"state\": \"Oregon\", \"tons\": 180}, {\"variety\": \"Pinot blanc\", \"side\": \"Seller\", \"state\": \"Washington\", \"tons\": 60}, {\"variety\": \"Pinot gris\", \"side\": \"Seller\", \"state\": \"California\", \"tons\": 15}, {\"variety\": \"Pinot gris\", \"side\": \"Seller\", \"state\": \"Oregon\", \"tons\": 95}, {\"variety\": \"Pinot gris\", \"side\": \"Seller\", \"state\": \"Washington\", \"tons\": 40}, {\"variety\": \"Pinot noir\", \"side\": \"Seller\", \"state\": \"California\", \"tons\": 115}, {\"variety\": \"Pinot noir\", \"side\": \"Seller\", \"state\": \"Oregon\", \"tons\": 95}, {\"variety\": \"Pinot noir\", \"side\": \"Seller\", \"state\": \"Washington\", \"tons\": 60}, {\"variety\": \"Riesling\", \"side\": \"Seller\", \"state\": \"California\", \"tons\": 75}, {\"variety\": \"Riesling\", \"side\": \"Seller\", \"state\": \"Oregon\", \"tons\": 120}, {\"variety\": \"Riesling\", \"side\": \"Seller\", \"state\": \"Washington\", \"tons\": 40}, {\"variety\": \"Roussanne\", \"side\": \"Seller\", \"state\": \"California\", \"tons\": 80}, {\"variety\": \"Roussanne\", \"side\": \"Seller\", \"state\": \"Oregon\", \"tons\": 55}, {\"variety\": \"Roussanne\", \"side\": \"Seller\", \"state\": \"Washington\", \"tons\": 40}, {\"variety\": \"Sangiovese\", \"side\": \"Seller\", \"state\": \"Oregon\", \"tons\": 80}, {\"variety\": \"Sangiovese\", \"side\": \"Seller\", \"state\": \"Washington\", \"tons\": 95}, {\"variety\": \"Sauvignon blanc\", \"side\": \"Seller\", \"state\": \"California\", \"tons\": 5}, {\"variety\": \"Sauvignon blanc\", \"side\": \"Seller\", \"state\": \"Oregon\", \"tons\": 90}, {\"variety\": \"Sauvignon blanc\", \"side\": \"Seller\", \"state\": \"Washington\", \"tons\": 40}, {\"variety\": \"Semillon\", \"side\": \"Seller\", \"state\": \"California\", \"tons\": 30}, {\"variety\": \"Semillon\", \"side\": \"Seller\", \"state\": \"Oregon\", \"tons\": 70}, {\"variety\": \"Semillon\", \"side\": \"Seller\", \"state\": \"Washington\", \"tons\": 50}, {\"variety\": \"Syrah\", \"side\": \"Seller\", \"state\": \"California\", \"tons\": 45}, {\"variety\": \"Syrah\", \"side\": \"Seller\", \"state\": \"Oregon\", \"tons\": 80}, {\"variety\": \"Syrah\", \"side\": \"Seller\", \"state\": \"Washington\", \"tons\": 55}, {\"variety\": \"Viognier\", \"side\": \"Seller\", \"state\": \"California\", \"tons\": 60}, {\"variety\": \"Viognier\", \"side\": \"Seller\", \"state\": \"Oregon\", \"tons\": 140}, {\"variety\": \"Viognier\", \"side\": \"Seller\", \"state\": \"Washington\", \"tons\": 70}]}, \"encoding\": {\"color\": {\"field\": \"side\", \"title\": \"Side\", \"type\": \"nominal\"}, \"column\": {\"field\": \"state\", \"type\": \"nominal\"}, \"tooltip\": [{\"field\": \"side\", \"type\": \"nominal\"}, {\"field\": \"variety\", \"type\": \"nominal\"}, {\"field\": \"tons\", \"type\": \"quantitative\"}], \"x\": {\"field\": \"variety\", \"sort\": \"-y\", \"title\": \"Variety\", \"type\": \"nominal\"}, \"y\": {\"field\": \"tons\", \"type\": \"quantitative\"}}, \"height\": 400, \"padding\": 24, \"title\": \"Tons per Variety by Side by State\", \"width\": 480, \"$schema\": \"https://vega.github.io/schema/vega-lite/v4.17.0.json\"}, {\"mode\": \"vega-lite\"});\n</script>",
      "text/plain": "alt.Chart(...)"
     },
     "execution_count": 12,
     "metadata": {},
     "output_type": "execute_result"
    }
   ],
   "source": [
    "chart = requests.get('http://127.0.0.1:8000/graph/df-grapes-by-state-combined').json()\n",
    "Chart.from_dict(chart)"
   ]
  },
  {
   "cell_type": "code",
   "execution_count": null,
   "id": "544c0a58",
   "metadata": {
    "pycharm": {
     "name": "#%%\n"
    }
   },
   "outputs": [],
   "source": []
  }
 ],
 "metadata": {
  "kernelspec": {
   "display_name": "Python 3 (ipykernel)",
   "language": "python",
   "name": "python3"
  },
  "language_info": {
   "codemirror_mode": {
    "name": "ipython",
    "version": 3
   },
   "file_extension": ".py",
   "mimetype": "text/x-python",
   "name": "python",
   "nbconvert_exporter": "python",
   "pygments_lexer": "ipython3",
   "version": "3.9.7"
  }
 },
 "nbformat": 4,
 "nbformat_minor": 5
}