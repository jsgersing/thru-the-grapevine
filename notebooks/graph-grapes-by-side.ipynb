{
 "cells": [
  {
   "cell_type": "code",
   "execution_count": 80,
   "id": "fa83f9da",
   "metadata": {
    "pycharm": {
     "name": "#%%\n"
    }
   },
   "outputs": [],
   "source": [
    "from os import getenv\n",
    "from pymongo import MongoClient\n",
    "from pandas import DataFrame, Series, concat\n",
    "from dotenv import load_dotenv\n",
    "from altair import Chart, X, Y, Color, Tooltip\n",
    "import requests"
   ]
  },
  {
   "cell_type": "code",
   "execution_count": 100,
   "id": "7ce885c0",
   "metadata": {
    "pycharm": {
     "name": "#%%\n"
    }
   },
   "outputs": [],
   "source": [
    "filepath = '/Users/jasongersing/PycharmProjects/fastApiProject/.env'\n",
    "load_dotenv(filepath)\n",
    "url = getenv('MONGO_URL')\n",
    "database = \"thruTheGrapevine\"\n",
    "collection_GB = \"GrapeBuyers\"\n",
    "collection_GS = \"GrapeSellers\""
   ]
  },
  {
   "cell_type": "code",
   "execution_count": 101,
   "id": "de1e818a",
   "metadata": {
    "pycharm": {
     "name": "#%%\n"
    }
   },
   "outputs": [
    {
     "data": {
      "text/plain": "100"
     },
     "execution_count": 101,
     "metadata": {},
     "output_type": "execute_result"
    }
   ],
   "source": [
    "db_GB = MongoClient(url)[database][collection_GB]\n",
    "db_GB.count_documents({})"
   ]
  },
  {
   "cell_type": "code",
   "execution_count": 102,
   "id": "a1b67188",
   "metadata": {
    "pycharm": {
     "name": "#%%\n"
    }
   },
   "outputs": [
    {
     "data": {
      "text/plain": "50"
     },
     "execution_count": 102,
     "metadata": {},
     "output_type": "execute_result"
    }
   ],
   "source": [
    "db_GS = MongoClient(url)[database][collection_GS]\n",
    "db_GS.count_documents({})"
   ]
  },
  {
   "cell_type": "code",
   "execution_count": 103,
   "id": "86e73c25",
   "metadata": {
    "pycharm": {
     "name": "#%%\n"
    }
   },
   "outputs": [
    {
     "data": {
      "text/plain": "               variety   side  tons\n0   Cabernet Sauvignon  Buyer   325\n1           Chardonnay  Buyer   580\n2             Granache  Buyer   135\n3             Marsanne  Buyer   500\n4               Merlot  Buyer   445\n5            Mourvedre  Buyer   580\n6             Nebbiolo  Buyer   435\n7         Petit Verdot  Buyer   500\n8          Pinot blanc  Buyer   460\n9           Pinot gris  Buyer   550\n10          Pinot noir  Buyer   565\n11            Riesling  Buyer   420\n12           Roussanne  Buyer   195\n13          Sangiovese  Buyer   365\n14     Sauvignon blanc  Buyer   430\n15            Semillon  Buyer   385\n16               Syrah  Buyer   525\n17            Viognier  Buyer   330",
      "text/html": "<div>\n<style scoped>\n    .dataframe tbody tr th:only-of-type {\n        vertical-align: middle;\n    }\n\n    .dataframe tbody tr th {\n        vertical-align: top;\n    }\n\n    .dataframe thead th {\n        text-align: right;\n    }\n</style>\n<table border=\"1\" class=\"dataframe\">\n  <thead>\n    <tr style=\"text-align: right;\">\n      <th></th>\n      <th>variety</th>\n      <th>side</th>\n      <th>tons</th>\n    </tr>\n  </thead>\n  <tbody>\n    <tr>\n      <th>0</th>\n      <td>Cabernet Sauvignon</td>\n      <td>Buyer</td>\n      <td>325</td>\n    </tr>\n    <tr>\n      <th>1</th>\n      <td>Chardonnay</td>\n      <td>Buyer</td>\n      <td>580</td>\n    </tr>\n    <tr>\n      <th>2</th>\n      <td>Granache</td>\n      <td>Buyer</td>\n      <td>135</td>\n    </tr>\n    <tr>\n      <th>3</th>\n      <td>Marsanne</td>\n      <td>Buyer</td>\n      <td>500</td>\n    </tr>\n    <tr>\n      <th>4</th>\n      <td>Merlot</td>\n      <td>Buyer</td>\n      <td>445</td>\n    </tr>\n    <tr>\n      <th>5</th>\n      <td>Mourvedre</td>\n      <td>Buyer</td>\n      <td>580</td>\n    </tr>\n    <tr>\n      <th>6</th>\n      <td>Nebbiolo</td>\n      <td>Buyer</td>\n      <td>435</td>\n    </tr>\n    <tr>\n      <th>7</th>\n      <td>Petit Verdot</td>\n      <td>Buyer</td>\n      <td>500</td>\n    </tr>\n    <tr>\n      <th>8</th>\n      <td>Pinot blanc</td>\n      <td>Buyer</td>\n      <td>460</td>\n    </tr>\n    <tr>\n      <th>9</th>\n      <td>Pinot gris</td>\n      <td>Buyer</td>\n      <td>550</td>\n    </tr>\n    <tr>\n      <th>10</th>\n      <td>Pinot noir</td>\n      <td>Buyer</td>\n      <td>565</td>\n    </tr>\n    <tr>\n      <th>11</th>\n      <td>Riesling</td>\n      <td>Buyer</td>\n      <td>420</td>\n    </tr>\n    <tr>\n      <th>12</th>\n      <td>Roussanne</td>\n      <td>Buyer</td>\n      <td>195</td>\n    </tr>\n    <tr>\n      <th>13</th>\n      <td>Sangiovese</td>\n      <td>Buyer</td>\n      <td>365</td>\n    </tr>\n    <tr>\n      <th>14</th>\n      <td>Sauvignon blanc</td>\n      <td>Buyer</td>\n      <td>430</td>\n    </tr>\n    <tr>\n      <th>15</th>\n      <td>Semillon</td>\n      <td>Buyer</td>\n      <td>385</td>\n    </tr>\n    <tr>\n      <th>16</th>\n      <td>Syrah</td>\n      <td>Buyer</td>\n      <td>525</td>\n    </tr>\n    <tr>\n      <th>17</th>\n      <td>Viognier</td>\n      <td>Buyer</td>\n      <td>330</td>\n    </tr>\n  </tbody>\n</table>\n</div>"
     },
     "execution_count": 103,
     "metadata": {},
     "output_type": "execute_result"
    }
   ],
   "source": [
    "grape_buyers = DataFrame(db_GB.find(projection={\"_id\": False, \"grapes_seeking\": True, \"volume_seeking\": True}))\n",
    "grape_buyers = grape_buyers.explode(column=[\"grapes_seeking\", \"volume_seeking\"])\n",
    "grape_buyers.rename(columns={\"grapes_seeking\": \"variety\", \"volume_seeking\": \"tons\"}, inplace=True)\n",
    "grape_buyers[\"side\"] = \"Buyer\"\n",
    "grape_buyers[\"tons\"] = Series([int(num) for num in grape_buyers[\"tons\"]])\n",
    "grape_buyers = grape_buyers.groupby([\"variety\", \"side\"]).agg({\"tons\": \"sum\"}).reset_index()\n",
    "grape_buyers"
   ]
  },
  {
   "cell_type": "code",
   "execution_count": 104,
   "id": "87ea2614",
   "metadata": {
    "pycharm": {
     "name": "#%%\n"
    }
   },
   "outputs": [
    {
     "data": {
      "text/plain": "               variety    side  tons\n0   Cabernet Sauvignon  Seller    70\n1           Chardonnay  Seller   230\n2             Granache  Seller   210\n3             Marsanne  Seller    45\n4               Merlot  Seller   230\n5            Mourvedre  Seller    65\n6             Nebbiolo  Seller   160\n7         Petit Verdot  Seller   185\n8          Pinot blanc  Seller   320\n9           Pinot gris  Seller   150\n10          Pinot noir  Seller   270\n11            Riesling  Seller   235\n12           Roussanne  Seller   175\n13          Sangiovese  Seller   175\n14     Sauvignon blanc  Seller   135\n15            Semillon  Seller   150\n16               Syrah  Seller   180\n17            Viognier  Seller   270",
      "text/html": "<div>\n<style scoped>\n    .dataframe tbody tr th:only-of-type {\n        vertical-align: middle;\n    }\n\n    .dataframe tbody tr th {\n        vertical-align: top;\n    }\n\n    .dataframe thead th {\n        text-align: right;\n    }\n</style>\n<table border=\"1\" class=\"dataframe\">\n  <thead>\n    <tr style=\"text-align: right;\">\n      <th></th>\n      <th>variety</th>\n      <th>side</th>\n      <th>tons</th>\n    </tr>\n  </thead>\n  <tbody>\n    <tr>\n      <th>0</th>\n      <td>Cabernet Sauvignon</td>\n      <td>Seller</td>\n      <td>70</td>\n    </tr>\n    <tr>\n      <th>1</th>\n      <td>Chardonnay</td>\n      <td>Seller</td>\n      <td>230</td>\n    </tr>\n    <tr>\n      <th>2</th>\n      <td>Granache</td>\n      <td>Seller</td>\n      <td>210</td>\n    </tr>\n    <tr>\n      <th>3</th>\n      <td>Marsanne</td>\n      <td>Seller</td>\n      <td>45</td>\n    </tr>\n    <tr>\n      <th>4</th>\n      <td>Merlot</td>\n      <td>Seller</td>\n      <td>230</td>\n    </tr>\n    <tr>\n      <th>5</th>\n      <td>Mourvedre</td>\n      <td>Seller</td>\n      <td>65</td>\n    </tr>\n    <tr>\n      <th>6</th>\n      <td>Nebbiolo</td>\n      <td>Seller</td>\n      <td>160</td>\n    </tr>\n    <tr>\n      <th>7</th>\n      <td>Petit Verdot</td>\n      <td>Seller</td>\n      <td>185</td>\n    </tr>\n    <tr>\n      <th>8</th>\n      <td>Pinot blanc</td>\n      <td>Seller</td>\n      <td>320</td>\n    </tr>\n    <tr>\n      <th>9</th>\n      <td>Pinot gris</td>\n      <td>Seller</td>\n      <td>150</td>\n    </tr>\n    <tr>\n      <th>10</th>\n      <td>Pinot noir</td>\n      <td>Seller</td>\n      <td>270</td>\n    </tr>\n    <tr>\n      <th>11</th>\n      <td>Riesling</td>\n      <td>Seller</td>\n      <td>235</td>\n    </tr>\n    <tr>\n      <th>12</th>\n      <td>Roussanne</td>\n      <td>Seller</td>\n      <td>175</td>\n    </tr>\n    <tr>\n      <th>13</th>\n      <td>Sangiovese</td>\n      <td>Seller</td>\n      <td>175</td>\n    </tr>\n    <tr>\n      <th>14</th>\n      <td>Sauvignon blanc</td>\n      <td>Seller</td>\n      <td>135</td>\n    </tr>\n    <tr>\n      <th>15</th>\n      <td>Semillon</td>\n      <td>Seller</td>\n      <td>150</td>\n    </tr>\n    <tr>\n      <th>16</th>\n      <td>Syrah</td>\n      <td>Seller</td>\n      <td>180</td>\n    </tr>\n    <tr>\n      <th>17</th>\n      <td>Viognier</td>\n      <td>Seller</td>\n      <td>270</td>\n    </tr>\n  </tbody>\n</table>\n</div>"
     },
     "execution_count": 104,
     "metadata": {},
     "output_type": "execute_result"
    }
   ],
   "source": [
    "grape_sellers = DataFrame(db_GS.find(projection={\"_id\": False, \"grapes_selling\": True, \"volume_selling\": True}))\n",
    "grape_sellers = grape_sellers.explode(column=[\"grapes_selling\", \"volume_selling\"])\n",
    "grape_sellers.rename(columns={\"grapes_selling\": \"variety\", \"volume_selling\": \"tons\"}, inplace=True)\n",
    "grape_sellers[\"side\"] = \"Seller\"\n",
    "grape_sellers[\"tons\"] = Series([int(num) for num in grape_sellers[\"tons\"]])\n",
    "grape_sellers = grape_sellers.groupby([\"variety\", \"side\"]).agg({\"tons\": \"sum\"}).reset_index()\n",
    "grape_sellers"
   ]
  },
  {
   "cell_type": "code",
   "execution_count": 105,
   "id": "9fd40433",
   "metadata": {
    "pycharm": {
     "name": "#%%\n"
    }
   },
   "outputs": [
    {
     "data": {
      "text/plain": "               variety    side  tons\n0   Cabernet Sauvignon   Buyer   325\n1           Chardonnay   Buyer   580\n2             Granache   Buyer   135\n3             Marsanne   Buyer   500\n4               Merlot   Buyer   445\n5            Mourvedre   Buyer   580\n6             Nebbiolo   Buyer   435\n7         Petit Verdot   Buyer   500\n8          Pinot blanc   Buyer   460\n9           Pinot gris   Buyer   550\n10          Pinot noir   Buyer   565\n11            Riesling   Buyer   420\n12           Roussanne   Buyer   195\n13          Sangiovese   Buyer   365\n14     Sauvignon blanc   Buyer   430\n15            Semillon   Buyer   385\n16               Syrah   Buyer   525\n17            Viognier   Buyer   330\n0   Cabernet Sauvignon  Seller    70\n1           Chardonnay  Seller   230\n2             Granache  Seller   210\n3             Marsanne  Seller    45\n4               Merlot  Seller   230\n5            Mourvedre  Seller    65\n6             Nebbiolo  Seller   160\n7         Petit Verdot  Seller   185\n8          Pinot blanc  Seller   320\n9           Pinot gris  Seller   150\n10          Pinot noir  Seller   270\n11            Riesling  Seller   235\n12           Roussanne  Seller   175\n13          Sangiovese  Seller   175\n14     Sauvignon blanc  Seller   135\n15            Semillon  Seller   150\n16               Syrah  Seller   180\n17            Viognier  Seller   270",
      "text/html": "<div>\n<style scoped>\n    .dataframe tbody tr th:only-of-type {\n        vertical-align: middle;\n    }\n\n    .dataframe tbody tr th {\n        vertical-align: top;\n    }\n\n    .dataframe thead th {\n        text-align: right;\n    }\n</style>\n<table border=\"1\" class=\"dataframe\">\n  <thead>\n    <tr style=\"text-align: right;\">\n      <th></th>\n      <th>variety</th>\n      <th>side</th>\n      <th>tons</th>\n    </tr>\n  </thead>\n  <tbody>\n    <tr>\n      <th>0</th>\n      <td>Cabernet Sauvignon</td>\n      <td>Buyer</td>\n      <td>325</td>\n    </tr>\n    <tr>\n      <th>1</th>\n      <td>Chardonnay</td>\n      <td>Buyer</td>\n      <td>580</td>\n    </tr>\n    <tr>\n      <th>2</th>\n      <td>Granache</td>\n      <td>Buyer</td>\n      <td>135</td>\n    </tr>\n    <tr>\n      <th>3</th>\n      <td>Marsanne</td>\n      <td>Buyer</td>\n      <td>500</td>\n    </tr>\n    <tr>\n      <th>4</th>\n      <td>Merlot</td>\n      <td>Buyer</td>\n      <td>445</td>\n    </tr>\n    <tr>\n      <th>5</th>\n      <td>Mourvedre</td>\n      <td>Buyer</td>\n      <td>580</td>\n    </tr>\n    <tr>\n      <th>6</th>\n      <td>Nebbiolo</td>\n      <td>Buyer</td>\n      <td>435</td>\n    </tr>\n    <tr>\n      <th>7</th>\n      <td>Petit Verdot</td>\n      <td>Buyer</td>\n      <td>500</td>\n    </tr>\n    <tr>\n      <th>8</th>\n      <td>Pinot blanc</td>\n      <td>Buyer</td>\n      <td>460</td>\n    </tr>\n    <tr>\n      <th>9</th>\n      <td>Pinot gris</td>\n      <td>Buyer</td>\n      <td>550</td>\n    </tr>\n    <tr>\n      <th>10</th>\n      <td>Pinot noir</td>\n      <td>Buyer</td>\n      <td>565</td>\n    </tr>\n    <tr>\n      <th>11</th>\n      <td>Riesling</td>\n      <td>Buyer</td>\n      <td>420</td>\n    </tr>\n    <tr>\n      <th>12</th>\n      <td>Roussanne</td>\n      <td>Buyer</td>\n      <td>195</td>\n    </tr>\n    <tr>\n      <th>13</th>\n      <td>Sangiovese</td>\n      <td>Buyer</td>\n      <td>365</td>\n    </tr>\n    <tr>\n      <th>14</th>\n      <td>Sauvignon blanc</td>\n      <td>Buyer</td>\n      <td>430</td>\n    </tr>\n    <tr>\n      <th>15</th>\n      <td>Semillon</td>\n      <td>Buyer</td>\n      <td>385</td>\n    </tr>\n    <tr>\n      <th>16</th>\n      <td>Syrah</td>\n      <td>Buyer</td>\n      <td>525</td>\n    </tr>\n    <tr>\n      <th>17</th>\n      <td>Viognier</td>\n      <td>Buyer</td>\n      <td>330</td>\n    </tr>\n    <tr>\n      <th>0</th>\n      <td>Cabernet Sauvignon</td>\n      <td>Seller</td>\n      <td>70</td>\n    </tr>\n    <tr>\n      <th>1</th>\n      <td>Chardonnay</td>\n      <td>Seller</td>\n      <td>230</td>\n    </tr>\n    <tr>\n      <th>2</th>\n      <td>Granache</td>\n      <td>Seller</td>\n      <td>210</td>\n    </tr>\n    <tr>\n      <th>3</th>\n      <td>Marsanne</td>\n      <td>Seller</td>\n      <td>45</td>\n    </tr>\n    <tr>\n      <th>4</th>\n      <td>Merlot</td>\n      <td>Seller</td>\n      <td>230</td>\n    </tr>\n    <tr>\n      <th>5</th>\n      <td>Mourvedre</td>\n      <td>Seller</td>\n      <td>65</td>\n    </tr>\n    <tr>\n      <th>6</th>\n      <td>Nebbiolo</td>\n      <td>Seller</td>\n      <td>160</td>\n    </tr>\n    <tr>\n      <th>7</th>\n      <td>Petit Verdot</td>\n      <td>Seller</td>\n      <td>185</td>\n    </tr>\n    <tr>\n      <th>8</th>\n      <td>Pinot blanc</td>\n      <td>Seller</td>\n      <td>320</td>\n    </tr>\n    <tr>\n      <th>9</th>\n      <td>Pinot gris</td>\n      <td>Seller</td>\n      <td>150</td>\n    </tr>\n    <tr>\n      <th>10</th>\n      <td>Pinot noir</td>\n      <td>Seller</td>\n      <td>270</td>\n    </tr>\n    <tr>\n      <th>11</th>\n      <td>Riesling</td>\n      <td>Seller</td>\n      <td>235</td>\n    </tr>\n    <tr>\n      <th>12</th>\n      <td>Roussanne</td>\n      <td>Seller</td>\n      <td>175</td>\n    </tr>\n    <tr>\n      <th>13</th>\n      <td>Sangiovese</td>\n      <td>Seller</td>\n      <td>175</td>\n    </tr>\n    <tr>\n      <th>14</th>\n      <td>Sauvignon blanc</td>\n      <td>Seller</td>\n      <td>135</td>\n    </tr>\n    <tr>\n      <th>15</th>\n      <td>Semillon</td>\n      <td>Seller</td>\n      <td>150</td>\n    </tr>\n    <tr>\n      <th>16</th>\n      <td>Syrah</td>\n      <td>Seller</td>\n      <td>180</td>\n    </tr>\n    <tr>\n      <th>17</th>\n      <td>Viognier</td>\n      <td>Seller</td>\n      <td>270</td>\n    </tr>\n  </tbody>\n</table>\n</div>"
     },
     "execution_count": 105,
     "metadata": {},
     "output_type": "execute_result"
    }
   ],
   "source": [
    "total = concat([grape_buyers, grape_sellers])\n",
    "total"
   ]
  },
  {
   "cell_type": "code",
   "execution_count": 106,
   "outputs": [],
   "source": [
    "def title_fix(string: str) -> str:\n",
    "    return string.title().replace(\"_\", \" \")\n",
    "\n",
    "\n",
    "def stacked_bar_chart(df: DataFrame, column_1: str, column_2: str, column_3: str) -> Chart:\n",
    "    return Chart(\n",
    "        df,\n",
    "        title=f\"{title_fix(column_1)} by {title_fix(column_2)} by {title_fix(column_3)}\",\n",
    "    ).mark_bar().encode(\n",
    "        x=X(column_3, title=title_fix(column_3), sort=\"-y\"),\n",
    "        y=Y(column_1),\n",
    "        color=Color(column_2, title=title_fix(column_2)),\n",
    "        tooltip=Tooltip([column_2, column_3, column_1])\n",
    "    ).properties(\n",
    "        width=480,\n",
    "        height=400,\n",
    "        padding=24,\n",
    "    ).configure(\n",
    "        legend={\"padding\": 24},\n",
    "        title={\"fontSize\": 20, \"offset\": 24},\n",
    "        view={\"stroke\": \"#FFF\"},\n",
    "    )"
   ],
   "metadata": {
    "collapsed": false,
    "pycharm": {
     "name": "#%%\n"
    }
   }
  },
  {
   "cell_type": "code",
   "execution_count": 107,
   "outputs": [
    {
     "data": {
      "text/html": "\n<div id=\"altair-viz-ae4a84fa25a1419a94b1c06cc5aedd9f\"></div>\n<script type=\"text/javascript\">\n  var VEGA_DEBUG = (typeof VEGA_DEBUG == \"undefined\") ? {} : VEGA_DEBUG;\n  (function(spec, embedOpt){\n    let outputDiv = document.currentScript.previousElementSibling;\n    if (outputDiv.id !== \"altair-viz-ae4a84fa25a1419a94b1c06cc5aedd9f\") {\n      outputDiv = document.getElementById(\"altair-viz-ae4a84fa25a1419a94b1c06cc5aedd9f\");\n    }\n    const paths = {\n      \"vega\": \"https://cdn.jsdelivr.net/npm//vega@5?noext\",\n      \"vega-lib\": \"https://cdn.jsdelivr.net/npm//vega-lib?noext\",\n      \"vega-lite\": \"https://cdn.jsdelivr.net/npm//vega-lite@4.17.0?noext\",\n      \"vega-embed\": \"https://cdn.jsdelivr.net/npm//vega-embed@6?noext\",\n    };\n\n    function maybeLoadScript(lib, version) {\n      var key = `${lib.replace(\"-\", \"\")}_version`;\n      return (VEGA_DEBUG[key] == version) ?\n        Promise.resolve(paths[lib]) :\n        new Promise(function(resolve, reject) {\n          var s = document.createElement('script');\n          document.getElementsByTagName(\"head\")[0].appendChild(s);\n          s.async = true;\n          s.onload = () => {\n            VEGA_DEBUG[key] = version;\n            return resolve(paths[lib]);\n          };\n          s.onerror = () => reject(`Error loading script: ${paths[lib]}`);\n          s.src = paths[lib];\n        });\n    }\n\n    function showError(err) {\n      outputDiv.innerHTML = `<div class=\"error\" style=\"color:red;\">${err}</div>`;\n      throw err;\n    }\n\n    function displayChart(vegaEmbed) {\n      vegaEmbed(outputDiv, spec, embedOpt)\n        .catch(err => showError(`Javascript Error: ${err.message}<br>This usually means there's a typo in your chart specification. See the javascript console for the full traceback.`));\n    }\n\n    if(typeof define === \"function\" && define.amd) {\n      requirejs.config({paths});\n      require([\"vega-embed\"], displayChart, err => showError(`Error loading script: ${err.message}`));\n    } else {\n      maybeLoadScript(\"vega\", \"5\")\n        .then(() => maybeLoadScript(\"vega-lite\", \"4.17.0\"))\n        .then(() => maybeLoadScript(\"vega-embed\", \"6\"))\n        .catch(showError)\n        .then(() => displayChart(vegaEmbed));\n    }\n  })({\"config\": {\"view\": {\"continuousWidth\": 400, \"continuousHeight\": 300, \"stroke\": \"#FFF\"}, \"legend\": {\"padding\": 24}, \"title\": {\"fontSize\": 20, \"offset\": 24}}, \"data\": {\"name\": \"data-55070c90dacc0b81a1410d7268d7ee76\"}, \"mark\": \"bar\", \"encoding\": {\"color\": {\"field\": \"side\", \"title\": \"Side\", \"type\": \"nominal\"}, \"tooltip\": [{\"field\": \"side\", \"type\": \"nominal\"}, {\"field\": \"variety\", \"type\": \"nominal\"}, {\"field\": \"tons\", \"type\": \"quantitative\"}], \"x\": {\"field\": \"variety\", \"sort\": \"-y\", \"title\": \"Variety\", \"type\": \"nominal\"}, \"y\": {\"field\": \"tons\", \"type\": \"quantitative\"}}, \"height\": 400, \"padding\": 24, \"title\": \"Tons by Side by Variety\", \"width\": 480, \"$schema\": \"https://vega.github.io/schema/vega-lite/v4.17.0.json\", \"datasets\": {\"data-55070c90dacc0b81a1410d7268d7ee76\": [{\"variety\": \"Cabernet Sauvignon\", \"side\": \"Buyer\", \"tons\": 325}, {\"variety\": \"Chardonnay\", \"side\": \"Buyer\", \"tons\": 580}, {\"variety\": \"Granache\", \"side\": \"Buyer\", \"tons\": 135}, {\"variety\": \"Marsanne\", \"side\": \"Buyer\", \"tons\": 500}, {\"variety\": \"Merlot\", \"side\": \"Buyer\", \"tons\": 445}, {\"variety\": \"Mourvedre\", \"side\": \"Buyer\", \"tons\": 580}, {\"variety\": \"Nebbiolo\", \"side\": \"Buyer\", \"tons\": 435}, {\"variety\": \"Petit Verdot\", \"side\": \"Buyer\", \"tons\": 500}, {\"variety\": \"Pinot blanc\", \"side\": \"Buyer\", \"tons\": 460}, {\"variety\": \"Pinot gris\", \"side\": \"Buyer\", \"tons\": 550}, {\"variety\": \"Pinot noir\", \"side\": \"Buyer\", \"tons\": 565}, {\"variety\": \"Riesling\", \"side\": \"Buyer\", \"tons\": 420}, {\"variety\": \"Roussanne\", \"side\": \"Buyer\", \"tons\": 195}, {\"variety\": \"Sangiovese\", \"side\": \"Buyer\", \"tons\": 365}, {\"variety\": \"Sauvignon blanc\", \"side\": \"Buyer\", \"tons\": 430}, {\"variety\": \"Semillon\", \"side\": \"Buyer\", \"tons\": 385}, {\"variety\": \"Syrah\", \"side\": \"Buyer\", \"tons\": 525}, {\"variety\": \"Viognier\", \"side\": \"Buyer\", \"tons\": 330}, {\"variety\": \"Cabernet Sauvignon\", \"side\": \"Seller\", \"tons\": 70}, {\"variety\": \"Chardonnay\", \"side\": \"Seller\", \"tons\": 230}, {\"variety\": \"Granache\", \"side\": \"Seller\", \"tons\": 210}, {\"variety\": \"Marsanne\", \"side\": \"Seller\", \"tons\": 45}, {\"variety\": \"Merlot\", \"side\": \"Seller\", \"tons\": 230}, {\"variety\": \"Mourvedre\", \"side\": \"Seller\", \"tons\": 65}, {\"variety\": \"Nebbiolo\", \"side\": \"Seller\", \"tons\": 160}, {\"variety\": \"Petit Verdot\", \"side\": \"Seller\", \"tons\": 185}, {\"variety\": \"Pinot blanc\", \"side\": \"Seller\", \"tons\": 320}, {\"variety\": \"Pinot gris\", \"side\": \"Seller\", \"tons\": 150}, {\"variety\": \"Pinot noir\", \"side\": \"Seller\", \"tons\": 270}, {\"variety\": \"Riesling\", \"side\": \"Seller\", \"tons\": 235}, {\"variety\": \"Roussanne\", \"side\": \"Seller\", \"tons\": 175}, {\"variety\": \"Sangiovese\", \"side\": \"Seller\", \"tons\": 175}, {\"variety\": \"Sauvignon blanc\", \"side\": \"Seller\", \"tons\": 135}, {\"variety\": \"Semillon\", \"side\": \"Seller\", \"tons\": 150}, {\"variety\": \"Syrah\", \"side\": \"Seller\", \"tons\": 180}, {\"variety\": \"Viognier\", \"side\": \"Seller\", \"tons\": 270}]}}, {\"mode\": \"vega-lite\"});\n</script>",
      "text/plain": "alt.Chart(...)"
     },
     "execution_count": 107,
     "metadata": {},
     "output_type": "execute_result"
    }
   ],
   "source": [
    "stacked_bar_chart(total, \"tons\", \"side\", \"variety\" )"
   ],
   "metadata": {
    "collapsed": false,
    "pycharm": {
     "name": "#%%\n"
    }
   }
  },
  {
   "cell_type": "code",
   "execution_count": 108,
   "outputs": [
    {
     "data": {
      "text/html": "\n<div id=\"altair-viz-ed14a7ce9e994ff5a974cca2de27a4c3\"></div>\n<script type=\"text/javascript\">\n  var VEGA_DEBUG = (typeof VEGA_DEBUG == \"undefined\") ? {} : VEGA_DEBUG;\n  (function(spec, embedOpt){\n    let outputDiv = document.currentScript.previousElementSibling;\n    if (outputDiv.id !== \"altair-viz-ed14a7ce9e994ff5a974cca2de27a4c3\") {\n      outputDiv = document.getElementById(\"altair-viz-ed14a7ce9e994ff5a974cca2de27a4c3\");\n    }\n    const paths = {\n      \"vega\": \"https://cdn.jsdelivr.net/npm//vega@5?noext\",\n      \"vega-lib\": \"https://cdn.jsdelivr.net/npm//vega-lib?noext\",\n      \"vega-lite\": \"https://cdn.jsdelivr.net/npm//vega-lite@4.17.0?noext\",\n      \"vega-embed\": \"https://cdn.jsdelivr.net/npm//vega-embed@6?noext\",\n    };\n\n    function maybeLoadScript(lib, version) {\n      var key = `${lib.replace(\"-\", \"\")}_version`;\n      return (VEGA_DEBUG[key] == version) ?\n        Promise.resolve(paths[lib]) :\n        new Promise(function(resolve, reject) {\n          var s = document.createElement('script');\n          document.getElementsByTagName(\"head\")[0].appendChild(s);\n          s.async = true;\n          s.onload = () => {\n            VEGA_DEBUG[key] = version;\n            return resolve(paths[lib]);\n          };\n          s.onerror = () => reject(`Error loading script: ${paths[lib]}`);\n          s.src = paths[lib];\n        });\n    }\n\n    function showError(err) {\n      outputDiv.innerHTML = `<div class=\"error\" style=\"color:red;\">${err}</div>`;\n      throw err;\n    }\n\n    function displayChart(vegaEmbed) {\n      vegaEmbed(outputDiv, spec, embedOpt)\n        .catch(err => showError(`Javascript Error: ${err.message}<br>This usually means there's a typo in your chart specification. See the javascript console for the full traceback.`));\n    }\n\n    if(typeof define === \"function\" && define.amd) {\n      requirejs.config({paths});\n      require([\"vega-embed\"], displayChart, err => showError(`Error loading script: ${err.message}`));\n    } else {\n      maybeLoadScript(\"vega\", \"5\")\n        .then(() => maybeLoadScript(\"vega-lite\", \"4.17.0\"))\n        .then(() => maybeLoadScript(\"vega-embed\", \"6\"))\n        .catch(showError)\n        .then(() => displayChart(vegaEmbed));\n    }\n  })({\"config\": {\"view\": {\"continuousWidth\": 400, \"continuousHeight\": 300, \"stroke\": \"#FFF\"}, \"legend\": {\"padding\": 24}, \"title\": {\"fontSize\": 20, \"offset\": 24}}, \"data\": {\"name\": \"data-55070c90dacc0b81a1410d7268d7ee76\"}, \"mark\": \"bar\", \"datasets\": {\"data-55070c90dacc0b81a1410d7268d7ee76\": [{\"variety\": \"Cabernet Sauvignon\", \"side\": \"Buyer\", \"tons\": 325}, {\"variety\": \"Chardonnay\", \"side\": \"Buyer\", \"tons\": 580}, {\"variety\": \"Granache\", \"side\": \"Buyer\", \"tons\": 135}, {\"variety\": \"Marsanne\", \"side\": \"Buyer\", \"tons\": 500}, {\"variety\": \"Merlot\", \"side\": \"Buyer\", \"tons\": 445}, {\"variety\": \"Mourvedre\", \"side\": \"Buyer\", \"tons\": 580}, {\"variety\": \"Nebbiolo\", \"side\": \"Buyer\", \"tons\": 435}, {\"variety\": \"Petit Verdot\", \"side\": \"Buyer\", \"tons\": 500}, {\"variety\": \"Pinot blanc\", \"side\": \"Buyer\", \"tons\": 460}, {\"variety\": \"Pinot gris\", \"side\": \"Buyer\", \"tons\": 550}, {\"variety\": \"Pinot noir\", \"side\": \"Buyer\", \"tons\": 565}, {\"variety\": \"Riesling\", \"side\": \"Buyer\", \"tons\": 420}, {\"variety\": \"Roussanne\", \"side\": \"Buyer\", \"tons\": 195}, {\"variety\": \"Sangiovese\", \"side\": \"Buyer\", \"tons\": 365}, {\"variety\": \"Sauvignon blanc\", \"side\": \"Buyer\", \"tons\": 430}, {\"variety\": \"Semillon\", \"side\": \"Buyer\", \"tons\": 385}, {\"variety\": \"Syrah\", \"side\": \"Buyer\", \"tons\": 525}, {\"variety\": \"Viognier\", \"side\": \"Buyer\", \"tons\": 330}, {\"variety\": \"Cabernet Sauvignon\", \"side\": \"Seller\", \"tons\": 70}, {\"variety\": \"Chardonnay\", \"side\": \"Seller\", \"tons\": 230}, {\"variety\": \"Granache\", \"side\": \"Seller\", \"tons\": 210}, {\"variety\": \"Marsanne\", \"side\": \"Seller\", \"tons\": 45}, {\"variety\": \"Merlot\", \"side\": \"Seller\", \"tons\": 230}, {\"variety\": \"Mourvedre\", \"side\": \"Seller\", \"tons\": 65}, {\"variety\": \"Nebbiolo\", \"side\": \"Seller\", \"tons\": 160}, {\"variety\": \"Petit Verdot\", \"side\": \"Seller\", \"tons\": 185}, {\"variety\": \"Pinot blanc\", \"side\": \"Seller\", \"tons\": 320}, {\"variety\": \"Pinot gris\", \"side\": \"Seller\", \"tons\": 150}, {\"variety\": \"Pinot noir\", \"side\": \"Seller\", \"tons\": 270}, {\"variety\": \"Riesling\", \"side\": \"Seller\", \"tons\": 235}, {\"variety\": \"Roussanne\", \"side\": \"Seller\", \"tons\": 175}, {\"variety\": \"Sangiovese\", \"side\": \"Seller\", \"tons\": 175}, {\"variety\": \"Sauvignon blanc\", \"side\": \"Seller\", \"tons\": 135}, {\"variety\": \"Semillon\", \"side\": \"Seller\", \"tons\": 150}, {\"variety\": \"Syrah\", \"side\": \"Seller\", \"tons\": 180}, {\"variety\": \"Viognier\", \"side\": \"Seller\", \"tons\": 270}]}, \"encoding\": {\"color\": {\"field\": \"side\", \"title\": \"Side\", \"type\": \"nominal\"}, \"tooltip\": [{\"field\": \"side\", \"type\": \"nominal\"}, {\"field\": \"variety\", \"type\": \"nominal\"}, {\"field\": \"tons\", \"type\": \"quantitative\"}], \"x\": {\"field\": \"variety\", \"sort\": \"-y\", \"title\": \"Variety\", \"type\": \"nominal\"}, \"y\": {\"field\": \"tons\", \"type\": \"quantitative\"}}, \"height\": 400, \"padding\": 24, \"title\": \"Tons by Side by Variety\", \"width\": 480, \"$schema\": \"https://vega.github.io/schema/vega-lite/v4.17.0.json\"}, {\"mode\": \"vega-lite\"});\n</script>",
      "text/plain": "alt.Chart(...)"
     },
     "execution_count": 108,
     "metadata": {},
     "output_type": "execute_result"
    }
   ],
   "source": [
    "chart = requests.get('http://127.0.0.1:8000/graph/df-grapes-by-side').json()\n",
    "Chart.from_dict(chart)"
   ],
   "metadata": {
    "collapsed": false,
    "pycharm": {
     "name": "#%%\n"
    }
   }
  },
  {
   "cell_type": "code",
   "execution_count": null,
   "outputs": [],
   "source": [],
   "metadata": {
    "collapsed": false,
    "pycharm": {
     "name": "#%%\n"
    }
   }
  }
 ],
 "metadata": {
  "kernelspec": {
   "display_name": "Python 3 (ipykernel)",
   "language": "python",
   "name": "python3"
  },
  "language_info": {
   "codemirror_mode": {
    "name": "ipython",
    "version": 3
   },
   "file_extension": ".py",
   "mimetype": "text/x-python",
   "name": "python",
   "nbconvert_exporter": "python",
   "pygments_lexer": "ipython3",
   "version": "3.9.7"
  }
 },
 "nbformat": 4,
 "nbformat_minor": 5
}