{
 "cells": [
  {
   "cell_type": "code",
   "execution_count": 80,
   "id": "fa83f9da",
   "metadata": {
    "pycharm": {
     "name": "#%%\n"
    }
   },
   "outputs": [],
   "source": [
    "from os import getenv\n",
    "from pymongo import MongoClient\n",
    "from pandas import DataFrame, Series, concat\n",
    "from dotenv import load_dotenv\n",
    "from altair import Chart, X, Y, Color, Tooltip\n",
    "import requests"
   ]
  },
  {
   "cell_type": "code",
   "execution_count": 91,
   "id": "7ce885c0",
   "metadata": {
    "pycharm": {
     "name": "#%%\n"
    }
   },
   "outputs": [],
   "source": [
    "filepath = '/Users/jasongersing/PycharmProjects/fastApiProject/.env'\n",
    "load_dotenv(filepath)\n",
    "url = getenv('MONGO_URL')\n",
    "database = \"thruTheGrapevine\"\n",
    "collection_GB = \"GrapeBuyers\"\n",
    "collection_GS = \"GrapeSellers\""
   ]
  },
  {
   "cell_type": "code",
   "execution_count": 92,
   "id": "de1e818a",
   "metadata": {
    "pycharm": {
     "name": "#%%\n"
    }
   },
   "outputs": [
    {
     "data": {
      "text/plain": "1000"
     },
     "execution_count": 92,
     "metadata": {},
     "output_type": "execute_result"
    }
   ],
   "source": [
    "db_GB = MongoClient(url)[database][collection_GB]\n",
    "db_GB.count_documents({})"
   ]
  },
  {
   "cell_type": "code",
   "execution_count": 93,
   "id": "a1b67188",
   "metadata": {
    "pycharm": {
     "name": "#%%\n"
    }
   },
   "outputs": [
    {
     "data": {
      "text/plain": "500"
     },
     "execution_count": 93,
     "metadata": {},
     "output_type": "execute_result"
    }
   ],
   "source": [
    "db_GS = MongoClient(url)[database][collection_GS]\n",
    "db_GS.count_documents({})"
   ]
  },
  {
   "cell_type": "code",
   "execution_count": 94,
   "id": "86e73c25",
   "metadata": {
    "pycharm": {
     "name": "#%%\n"
    }
   },
   "outputs": [
    {
     "data": {
      "text/plain": "               variety   side  tons\n0   Cabernet Sauvignon  Buyer  3980\n1           Chardonnay  Buyer  4290\n2             Granache  Buyer  3810\n3             Marsanne  Buyer  3560\n4               Merlot  Buyer  4230\n5            Mourvedre  Buyer  3875\n6             Nebbiolo  Buyer  4020\n7         Petit Verdot  Buyer  4275\n8          Pinot blanc  Buyer  3595\n9           Pinot gris  Buyer  3625\n10          Pinot noir  Buyer  3350\n11            Riesling  Buyer  3780\n12           Roussanne  Buyer  3645\n13          Sangiovese  Buyer  3395\n14     Sauvignon blanc  Buyer  3960\n15            Semillon  Buyer  3395\n16               Syrah  Buyer  3480\n17            Viognier  Buyer  4280",
      "text/html": "<div>\n<style scoped>\n    .dataframe tbody tr th:only-of-type {\n        vertical-align: middle;\n    }\n\n    .dataframe tbody tr th {\n        vertical-align: top;\n    }\n\n    .dataframe thead th {\n        text-align: right;\n    }\n</style>\n<table border=\"1\" class=\"dataframe\">\n  <thead>\n    <tr style=\"text-align: right;\">\n      <th></th>\n      <th>variety</th>\n      <th>side</th>\n      <th>tons</th>\n    </tr>\n  </thead>\n  <tbody>\n    <tr>\n      <th>0</th>\n      <td>Cabernet Sauvignon</td>\n      <td>Buyer</td>\n      <td>3980</td>\n    </tr>\n    <tr>\n      <th>1</th>\n      <td>Chardonnay</td>\n      <td>Buyer</td>\n      <td>4290</td>\n    </tr>\n    <tr>\n      <th>2</th>\n      <td>Granache</td>\n      <td>Buyer</td>\n      <td>3810</td>\n    </tr>\n    <tr>\n      <th>3</th>\n      <td>Marsanne</td>\n      <td>Buyer</td>\n      <td>3560</td>\n    </tr>\n    <tr>\n      <th>4</th>\n      <td>Merlot</td>\n      <td>Buyer</td>\n      <td>4230</td>\n    </tr>\n    <tr>\n      <th>5</th>\n      <td>Mourvedre</td>\n      <td>Buyer</td>\n      <td>3875</td>\n    </tr>\n    <tr>\n      <th>6</th>\n      <td>Nebbiolo</td>\n      <td>Buyer</td>\n      <td>4020</td>\n    </tr>\n    <tr>\n      <th>7</th>\n      <td>Petit Verdot</td>\n      <td>Buyer</td>\n      <td>4275</td>\n    </tr>\n    <tr>\n      <th>8</th>\n      <td>Pinot blanc</td>\n      <td>Buyer</td>\n      <td>3595</td>\n    </tr>\n    <tr>\n      <th>9</th>\n      <td>Pinot gris</td>\n      <td>Buyer</td>\n      <td>3625</td>\n    </tr>\n    <tr>\n      <th>10</th>\n      <td>Pinot noir</td>\n      <td>Buyer</td>\n      <td>3350</td>\n    </tr>\n    <tr>\n      <th>11</th>\n      <td>Riesling</td>\n      <td>Buyer</td>\n      <td>3780</td>\n    </tr>\n    <tr>\n      <th>12</th>\n      <td>Roussanne</td>\n      <td>Buyer</td>\n      <td>3645</td>\n    </tr>\n    <tr>\n      <th>13</th>\n      <td>Sangiovese</td>\n      <td>Buyer</td>\n      <td>3395</td>\n    </tr>\n    <tr>\n      <th>14</th>\n      <td>Sauvignon blanc</td>\n      <td>Buyer</td>\n      <td>3960</td>\n    </tr>\n    <tr>\n      <th>15</th>\n      <td>Semillon</td>\n      <td>Buyer</td>\n      <td>3395</td>\n    </tr>\n    <tr>\n      <th>16</th>\n      <td>Syrah</td>\n      <td>Buyer</td>\n      <td>3480</td>\n    </tr>\n    <tr>\n      <th>17</th>\n      <td>Viognier</td>\n      <td>Buyer</td>\n      <td>4280</td>\n    </tr>\n  </tbody>\n</table>\n</div>"
     },
     "execution_count": 94,
     "metadata": {},
     "output_type": "execute_result"
    }
   ],
   "source": [
    "grape_buyers = DataFrame(db_GB.find(projection={\"_id\": False, \"grapes_seeking\": True, \"volume_seeking\": True}))\n",
    "grape_buyers = grape_buyers.explode(column=[\"grapes_seeking\", \"volume_seeking\"])\n",
    "grape_buyers.rename(columns={\"grapes_seeking\": \"variety\", \"volume_seeking\": \"tons\"}, inplace=True)\n",
    "grape_buyers[\"side\"] = \"Buyer\"\n",
    "grape_buyers[\"tons\"] = Series([int(num) for num in grape_buyers[\"tons\"]])\n",
    "grape_buyers = grape_buyers.groupby([\"variety\", \"side\"]).agg({\"tons\": \"sum\"}).reset_index()\n",
    "grape_buyers"
   ]
  },
  {
   "cell_type": "code",
   "execution_count": 95,
   "id": "87ea2614",
   "metadata": {
    "pycharm": {
     "name": "#%%\n"
    }
   },
   "outputs": [
    {
     "data": {
      "text/plain": "               variety    side  tons\n0   Cabernet Sauvignon  Seller  1705\n1           Chardonnay  Seller  2145\n2             Granache  Seller  1670\n3             Marsanne  Seller  1510\n4               Merlot  Seller  1770\n5            Mourvedre  Seller  1100\n6             Nebbiolo  Seller  2040\n7         Petit Verdot  Seller  1765\n8          Pinot blanc  Seller  1895\n9           Pinot gris  Seller  2055\n10          Pinot noir  Seller  1975\n11            Riesling  Seller  1615\n12           Roussanne  Seller  2065\n13          Sangiovese  Seller  1765\n14     Sauvignon blanc  Seller  1915\n15            Semillon  Seller  1785\n16               Syrah  Seller  1440\n17            Viognier  Seller  1685",
      "text/html": "<div>\n<style scoped>\n    .dataframe tbody tr th:only-of-type {\n        vertical-align: middle;\n    }\n\n    .dataframe tbody tr th {\n        vertical-align: top;\n    }\n\n    .dataframe thead th {\n        text-align: right;\n    }\n</style>\n<table border=\"1\" class=\"dataframe\">\n  <thead>\n    <tr style=\"text-align: right;\">\n      <th></th>\n      <th>variety</th>\n      <th>side</th>\n      <th>tons</th>\n    </tr>\n  </thead>\n  <tbody>\n    <tr>\n      <th>0</th>\n      <td>Cabernet Sauvignon</td>\n      <td>Seller</td>\n      <td>1705</td>\n    </tr>\n    <tr>\n      <th>1</th>\n      <td>Chardonnay</td>\n      <td>Seller</td>\n      <td>2145</td>\n    </tr>\n    <tr>\n      <th>2</th>\n      <td>Granache</td>\n      <td>Seller</td>\n      <td>1670</td>\n    </tr>\n    <tr>\n      <th>3</th>\n      <td>Marsanne</td>\n      <td>Seller</td>\n      <td>1510</td>\n    </tr>\n    <tr>\n      <th>4</th>\n      <td>Merlot</td>\n      <td>Seller</td>\n      <td>1770</td>\n    </tr>\n    <tr>\n      <th>5</th>\n      <td>Mourvedre</td>\n      <td>Seller</td>\n      <td>1100</td>\n    </tr>\n    <tr>\n      <th>6</th>\n      <td>Nebbiolo</td>\n      <td>Seller</td>\n      <td>2040</td>\n    </tr>\n    <tr>\n      <th>7</th>\n      <td>Petit Verdot</td>\n      <td>Seller</td>\n      <td>1765</td>\n    </tr>\n    <tr>\n      <th>8</th>\n      <td>Pinot blanc</td>\n      <td>Seller</td>\n      <td>1895</td>\n    </tr>\n    <tr>\n      <th>9</th>\n      <td>Pinot gris</td>\n      <td>Seller</td>\n      <td>2055</td>\n    </tr>\n    <tr>\n      <th>10</th>\n      <td>Pinot noir</td>\n      <td>Seller</td>\n      <td>1975</td>\n    </tr>\n    <tr>\n      <th>11</th>\n      <td>Riesling</td>\n      <td>Seller</td>\n      <td>1615</td>\n    </tr>\n    <tr>\n      <th>12</th>\n      <td>Roussanne</td>\n      <td>Seller</td>\n      <td>2065</td>\n    </tr>\n    <tr>\n      <th>13</th>\n      <td>Sangiovese</td>\n      <td>Seller</td>\n      <td>1765</td>\n    </tr>\n    <tr>\n      <th>14</th>\n      <td>Sauvignon blanc</td>\n      <td>Seller</td>\n      <td>1915</td>\n    </tr>\n    <tr>\n      <th>15</th>\n      <td>Semillon</td>\n      <td>Seller</td>\n      <td>1785</td>\n    </tr>\n    <tr>\n      <th>16</th>\n      <td>Syrah</td>\n      <td>Seller</td>\n      <td>1440</td>\n    </tr>\n    <tr>\n      <th>17</th>\n      <td>Viognier</td>\n      <td>Seller</td>\n      <td>1685</td>\n    </tr>\n  </tbody>\n</table>\n</div>"
     },
     "execution_count": 95,
     "metadata": {},
     "output_type": "execute_result"
    }
   ],
   "source": [
    "grape_sellers = DataFrame(db_GS.find(projection={\"_id\": False, \"grapes_selling\": True, \"volume_selling\": True}))\n",
    "grape_sellers = grape_sellers.explode(column=[\"grapes_selling\", \"volume_selling\"])\n",
    "grape_sellers.rename(columns={\"grapes_selling\": \"variety\", \"volume_selling\": \"tons\"}, inplace=True)\n",
    "grape_sellers[\"side\"] = \"Seller\"\n",
    "grape_sellers[\"tons\"] = Series([int(num) for num in grape_sellers[\"tons\"]])\n",
    "grape_sellers = grape_sellers.groupby([\"variety\", \"side\"]).agg({\"tons\": \"sum\"}).reset_index()\n",
    "grape_sellers"
   ]
  },
  {
   "cell_type": "code",
   "execution_count": 96,
   "id": "9fd40433",
   "metadata": {
    "pycharm": {
     "name": "#%%\n"
    }
   },
   "outputs": [
    {
     "data": {
      "text/plain": "               variety    side  tons\n0   Cabernet Sauvignon   Buyer  3980\n1           Chardonnay   Buyer  4290\n2             Granache   Buyer  3810\n3             Marsanne   Buyer  3560\n4               Merlot   Buyer  4230\n5            Mourvedre   Buyer  3875\n6             Nebbiolo   Buyer  4020\n7         Petit Verdot   Buyer  4275\n8          Pinot blanc   Buyer  3595\n9           Pinot gris   Buyer  3625\n10          Pinot noir   Buyer  3350\n11            Riesling   Buyer  3780\n12           Roussanne   Buyer  3645\n13          Sangiovese   Buyer  3395\n14     Sauvignon blanc   Buyer  3960\n15            Semillon   Buyer  3395\n16               Syrah   Buyer  3480\n17            Viognier   Buyer  4280\n0   Cabernet Sauvignon  Seller  1705\n1           Chardonnay  Seller  2145\n2             Granache  Seller  1670\n3             Marsanne  Seller  1510\n4               Merlot  Seller  1770\n5            Mourvedre  Seller  1100\n6             Nebbiolo  Seller  2040\n7         Petit Verdot  Seller  1765\n8          Pinot blanc  Seller  1895\n9           Pinot gris  Seller  2055\n10          Pinot noir  Seller  1975\n11            Riesling  Seller  1615\n12           Roussanne  Seller  2065\n13          Sangiovese  Seller  1765\n14     Sauvignon blanc  Seller  1915\n15            Semillon  Seller  1785\n16               Syrah  Seller  1440\n17            Viognier  Seller  1685",
      "text/html": "<div>\n<style scoped>\n    .dataframe tbody tr th:only-of-type {\n        vertical-align: middle;\n    }\n\n    .dataframe tbody tr th {\n        vertical-align: top;\n    }\n\n    .dataframe thead th {\n        text-align: right;\n    }\n</style>\n<table border=\"1\" class=\"dataframe\">\n  <thead>\n    <tr style=\"text-align: right;\">\n      <th></th>\n      <th>variety</th>\n      <th>side</th>\n      <th>tons</th>\n    </tr>\n  </thead>\n  <tbody>\n    <tr>\n      <th>0</th>\n      <td>Cabernet Sauvignon</td>\n      <td>Buyer</td>\n      <td>3980</td>\n    </tr>\n    <tr>\n      <th>1</th>\n      <td>Chardonnay</td>\n      <td>Buyer</td>\n      <td>4290</td>\n    </tr>\n    <tr>\n      <th>2</th>\n      <td>Granache</td>\n      <td>Buyer</td>\n      <td>3810</td>\n    </tr>\n    <tr>\n      <th>3</th>\n      <td>Marsanne</td>\n      <td>Buyer</td>\n      <td>3560</td>\n    </tr>\n    <tr>\n      <th>4</th>\n      <td>Merlot</td>\n      <td>Buyer</td>\n      <td>4230</td>\n    </tr>\n    <tr>\n      <th>5</th>\n      <td>Mourvedre</td>\n      <td>Buyer</td>\n      <td>3875</td>\n    </tr>\n    <tr>\n      <th>6</th>\n      <td>Nebbiolo</td>\n      <td>Buyer</td>\n      <td>4020</td>\n    </tr>\n    <tr>\n      <th>7</th>\n      <td>Petit Verdot</td>\n      <td>Buyer</td>\n      <td>4275</td>\n    </tr>\n    <tr>\n      <th>8</th>\n      <td>Pinot blanc</td>\n      <td>Buyer</td>\n      <td>3595</td>\n    </tr>\n    <tr>\n      <th>9</th>\n      <td>Pinot gris</td>\n      <td>Buyer</td>\n      <td>3625</td>\n    </tr>\n    <tr>\n      <th>10</th>\n      <td>Pinot noir</td>\n      <td>Buyer</td>\n      <td>3350</td>\n    </tr>\n    <tr>\n      <th>11</th>\n      <td>Riesling</td>\n      <td>Buyer</td>\n      <td>3780</td>\n    </tr>\n    <tr>\n      <th>12</th>\n      <td>Roussanne</td>\n      <td>Buyer</td>\n      <td>3645</td>\n    </tr>\n    <tr>\n      <th>13</th>\n      <td>Sangiovese</td>\n      <td>Buyer</td>\n      <td>3395</td>\n    </tr>\n    <tr>\n      <th>14</th>\n      <td>Sauvignon blanc</td>\n      <td>Buyer</td>\n      <td>3960</td>\n    </tr>\n    <tr>\n      <th>15</th>\n      <td>Semillon</td>\n      <td>Buyer</td>\n      <td>3395</td>\n    </tr>\n    <tr>\n      <th>16</th>\n      <td>Syrah</td>\n      <td>Buyer</td>\n      <td>3480</td>\n    </tr>\n    <tr>\n      <th>17</th>\n      <td>Viognier</td>\n      <td>Buyer</td>\n      <td>4280</td>\n    </tr>\n    <tr>\n      <th>0</th>\n      <td>Cabernet Sauvignon</td>\n      <td>Seller</td>\n      <td>1705</td>\n    </tr>\n    <tr>\n      <th>1</th>\n      <td>Chardonnay</td>\n      <td>Seller</td>\n      <td>2145</td>\n    </tr>\n    <tr>\n      <th>2</th>\n      <td>Granache</td>\n      <td>Seller</td>\n      <td>1670</td>\n    </tr>\n    <tr>\n      <th>3</th>\n      <td>Marsanne</td>\n      <td>Seller</td>\n      <td>1510</td>\n    </tr>\n    <tr>\n      <th>4</th>\n      <td>Merlot</td>\n      <td>Seller</td>\n      <td>1770</td>\n    </tr>\n    <tr>\n      <th>5</th>\n      <td>Mourvedre</td>\n      <td>Seller</td>\n      <td>1100</td>\n    </tr>\n    <tr>\n      <th>6</th>\n      <td>Nebbiolo</td>\n      <td>Seller</td>\n      <td>2040</td>\n    </tr>\n    <tr>\n      <th>7</th>\n      <td>Petit Verdot</td>\n      <td>Seller</td>\n      <td>1765</td>\n    </tr>\n    <tr>\n      <th>8</th>\n      <td>Pinot blanc</td>\n      <td>Seller</td>\n      <td>1895</td>\n    </tr>\n    <tr>\n      <th>9</th>\n      <td>Pinot gris</td>\n      <td>Seller</td>\n      <td>2055</td>\n    </tr>\n    <tr>\n      <th>10</th>\n      <td>Pinot noir</td>\n      <td>Seller</td>\n      <td>1975</td>\n    </tr>\n    <tr>\n      <th>11</th>\n      <td>Riesling</td>\n      <td>Seller</td>\n      <td>1615</td>\n    </tr>\n    <tr>\n      <th>12</th>\n      <td>Roussanne</td>\n      <td>Seller</td>\n      <td>2065</td>\n    </tr>\n    <tr>\n      <th>13</th>\n      <td>Sangiovese</td>\n      <td>Seller</td>\n      <td>1765</td>\n    </tr>\n    <tr>\n      <th>14</th>\n      <td>Sauvignon blanc</td>\n      <td>Seller</td>\n      <td>1915</td>\n    </tr>\n    <tr>\n      <th>15</th>\n      <td>Semillon</td>\n      <td>Seller</td>\n      <td>1785</td>\n    </tr>\n    <tr>\n      <th>16</th>\n      <td>Syrah</td>\n      <td>Seller</td>\n      <td>1440</td>\n    </tr>\n    <tr>\n      <th>17</th>\n      <td>Viognier</td>\n      <td>Seller</td>\n      <td>1685</td>\n    </tr>\n  </tbody>\n</table>\n</div>"
     },
     "execution_count": 96,
     "metadata": {},
     "output_type": "execute_result"
    }
   ],
   "source": [
    "total = concat([grape_buyers, grape_sellers])\n",
    "total"
   ]
  },
  {
   "cell_type": "code",
   "execution_count": 97,
   "outputs": [],
   "source": [
    "def title_fix(string: str) -> str:\n",
    "    return string.title().replace(\"_\", \" \")\n",
    "\n",
    "\n",
    "def stacked_bar_chart(df: DataFrame, column_1: str, column_2: str, column_3: str) -> Chart:\n",
    "    return Chart(\n",
    "        df,\n",
    "        title=f\"{title_fix(column_1)} by {title_fix(column_2)} by {title_fix(column_3)}\",\n",
    "    ).mark_bar().encode(\n",
    "        x=X(column_3, title=title_fix(column_3), sort=\"-y\"),\n",
    "        y=Y(column_1),\n",
    "        color=Color(column_2, title=title_fix(column_2)),\n",
    "        tooltip=Tooltip([column_2, column_3, column_1])\n",
    "    ).properties(\n",
    "        width=480,\n",
    "        height=400,\n",
    "        padding=24,\n",
    "    ).configure(\n",
    "        legend={\"padding\": 24},\n",
    "        title={\"fontSize\": 20, \"offset\": 24},\n",
    "        view={\"stroke\": \"#FFF\"},\n",
    "    )"
   ],
   "metadata": {
    "collapsed": false,
    "pycharm": {
     "name": "#%%\n"
    }
   }
  },
  {
   "cell_type": "code",
   "execution_count": 98,
   "outputs": [
    {
     "data": {
      "text/html": "\n<div id=\"altair-viz-dea98cfccefd44a794852f655e85d665\"></div>\n<script type=\"text/javascript\">\n  var VEGA_DEBUG = (typeof VEGA_DEBUG == \"undefined\") ? {} : VEGA_DEBUG;\n  (function(spec, embedOpt){\n    let outputDiv = document.currentScript.previousElementSibling;\n    if (outputDiv.id !== \"altair-viz-dea98cfccefd44a794852f655e85d665\") {\n      outputDiv = document.getElementById(\"altair-viz-dea98cfccefd44a794852f655e85d665\");\n    }\n    const paths = {\n      \"vega\": \"https://cdn.jsdelivr.net/npm//vega@5?noext\",\n      \"vega-lib\": \"https://cdn.jsdelivr.net/npm//vega-lib?noext\",\n      \"vega-lite\": \"https://cdn.jsdelivr.net/npm//vega-lite@4.17.0?noext\",\n      \"vega-embed\": \"https://cdn.jsdelivr.net/npm//vega-embed@6?noext\",\n    };\n\n    function maybeLoadScript(lib, version) {\n      var key = `${lib.replace(\"-\", \"\")}_version`;\n      return (VEGA_DEBUG[key] == version) ?\n        Promise.resolve(paths[lib]) :\n        new Promise(function(resolve, reject) {\n          var s = document.createElement('script');\n          document.getElementsByTagName(\"head\")[0].appendChild(s);\n          s.async = true;\n          s.onload = () => {\n            VEGA_DEBUG[key] = version;\n            return resolve(paths[lib]);\n          };\n          s.onerror = () => reject(`Error loading script: ${paths[lib]}`);\n          s.src = paths[lib];\n        });\n    }\n\n    function showError(err) {\n      outputDiv.innerHTML = `<div class=\"error\" style=\"color:red;\">${err}</div>`;\n      throw err;\n    }\n\n    function displayChart(vegaEmbed) {\n      vegaEmbed(outputDiv, spec, embedOpt)\n        .catch(err => showError(`Javascript Error: ${err.message}<br>This usually means there's a typo in your chart specification. See the javascript console for the full traceback.`));\n    }\n\n    if(typeof define === \"function\" && define.amd) {\n      requirejs.config({paths});\n      require([\"vega-embed\"], displayChart, err => showError(`Error loading script: ${err.message}`));\n    } else {\n      maybeLoadScript(\"vega\", \"5\")\n        .then(() => maybeLoadScript(\"vega-lite\", \"4.17.0\"))\n        .then(() => maybeLoadScript(\"vega-embed\", \"6\"))\n        .catch(showError)\n        .then(() => displayChart(vegaEmbed));\n    }\n  })({\"config\": {\"view\": {\"continuousWidth\": 400, \"continuousHeight\": 300, \"stroke\": \"#FFF\"}, \"legend\": {\"padding\": 24}, \"title\": {\"fontSize\": 20, \"offset\": 24}}, \"data\": {\"name\": \"data-d7df6bea5b8474df2dfba65bad400fa8\"}, \"mark\": \"bar\", \"encoding\": {\"color\": {\"field\": \"side\", \"title\": \"Side\", \"type\": \"nominal\"}, \"tooltip\": [{\"field\": \"side\", \"type\": \"nominal\"}, {\"field\": \"variety\", \"type\": \"nominal\"}, {\"field\": \"tons\", \"type\": \"quantitative\"}], \"x\": {\"field\": \"variety\", \"sort\": \"-y\", \"title\": \"Variety\", \"type\": \"nominal\"}, \"y\": {\"field\": \"tons\", \"type\": \"quantitative\"}}, \"height\": 400, \"padding\": 24, \"title\": \"Tons by Side by Variety\", \"width\": 480, \"$schema\": \"https://vega.github.io/schema/vega-lite/v4.17.0.json\", \"datasets\": {\"data-d7df6bea5b8474df2dfba65bad400fa8\": [{\"variety\": \"Cabernet Sauvignon\", \"side\": \"Buyer\", \"tons\": 3980}, {\"variety\": \"Chardonnay\", \"side\": \"Buyer\", \"tons\": 4290}, {\"variety\": \"Granache\", \"side\": \"Buyer\", \"tons\": 3810}, {\"variety\": \"Marsanne\", \"side\": \"Buyer\", \"tons\": 3560}, {\"variety\": \"Merlot\", \"side\": \"Buyer\", \"tons\": 4230}, {\"variety\": \"Mourvedre\", \"side\": \"Buyer\", \"tons\": 3875}, {\"variety\": \"Nebbiolo\", \"side\": \"Buyer\", \"tons\": 4020}, {\"variety\": \"Petit Verdot\", \"side\": \"Buyer\", \"tons\": 4275}, {\"variety\": \"Pinot blanc\", \"side\": \"Buyer\", \"tons\": 3595}, {\"variety\": \"Pinot gris\", \"side\": \"Buyer\", \"tons\": 3625}, {\"variety\": \"Pinot noir\", \"side\": \"Buyer\", \"tons\": 3350}, {\"variety\": \"Riesling\", \"side\": \"Buyer\", \"tons\": 3780}, {\"variety\": \"Roussanne\", \"side\": \"Buyer\", \"tons\": 3645}, {\"variety\": \"Sangiovese\", \"side\": \"Buyer\", \"tons\": 3395}, {\"variety\": \"Sauvignon blanc\", \"side\": \"Buyer\", \"tons\": 3960}, {\"variety\": \"Semillon\", \"side\": \"Buyer\", \"tons\": 3395}, {\"variety\": \"Syrah\", \"side\": \"Buyer\", \"tons\": 3480}, {\"variety\": \"Viognier\", \"side\": \"Buyer\", \"tons\": 4280}, {\"variety\": \"Cabernet Sauvignon\", \"side\": \"Seller\", \"tons\": 1705}, {\"variety\": \"Chardonnay\", \"side\": \"Seller\", \"tons\": 2145}, {\"variety\": \"Granache\", \"side\": \"Seller\", \"tons\": 1670}, {\"variety\": \"Marsanne\", \"side\": \"Seller\", \"tons\": 1510}, {\"variety\": \"Merlot\", \"side\": \"Seller\", \"tons\": 1770}, {\"variety\": \"Mourvedre\", \"side\": \"Seller\", \"tons\": 1100}, {\"variety\": \"Nebbiolo\", \"side\": \"Seller\", \"tons\": 2040}, {\"variety\": \"Petit Verdot\", \"side\": \"Seller\", \"tons\": 1765}, {\"variety\": \"Pinot blanc\", \"side\": \"Seller\", \"tons\": 1895}, {\"variety\": \"Pinot gris\", \"side\": \"Seller\", \"tons\": 2055}, {\"variety\": \"Pinot noir\", \"side\": \"Seller\", \"tons\": 1975}, {\"variety\": \"Riesling\", \"side\": \"Seller\", \"tons\": 1615}, {\"variety\": \"Roussanne\", \"side\": \"Seller\", \"tons\": 2065}, {\"variety\": \"Sangiovese\", \"side\": \"Seller\", \"tons\": 1765}, {\"variety\": \"Sauvignon blanc\", \"side\": \"Seller\", \"tons\": 1915}, {\"variety\": \"Semillon\", \"side\": \"Seller\", \"tons\": 1785}, {\"variety\": \"Syrah\", \"side\": \"Seller\", \"tons\": 1440}, {\"variety\": \"Viognier\", \"side\": \"Seller\", \"tons\": 1685}]}}, {\"mode\": \"vega-lite\"});\n</script>",
      "text/plain": "alt.Chart(...)"
     },
     "execution_count": 98,
     "metadata": {},
     "output_type": "execute_result"
    }
   ],
   "source": [
    "stacked_bar_chart(total, \"tons\", \"side\", \"variety\" )"
   ],
   "metadata": {
    "collapsed": false,
    "pycharm": {
     "name": "#%%\n"
    }
   }
  },
  {
   "cell_type": "code",
   "execution_count": 99,
   "outputs": [
    {
     "data": {
      "text/html": "\n<div id=\"altair-viz-a14afe2b992643d69940bf7663e1e00b\"></div>\n<script type=\"text/javascript\">\n  var VEGA_DEBUG = (typeof VEGA_DEBUG == \"undefined\") ? {} : VEGA_DEBUG;\n  (function(spec, embedOpt){\n    let outputDiv = document.currentScript.previousElementSibling;\n    if (outputDiv.id !== \"altair-viz-a14afe2b992643d69940bf7663e1e00b\") {\n      outputDiv = document.getElementById(\"altair-viz-a14afe2b992643d69940bf7663e1e00b\");\n    }\n    const paths = {\n      \"vega\": \"https://cdn.jsdelivr.net/npm//vega@5?noext\",\n      \"vega-lib\": \"https://cdn.jsdelivr.net/npm//vega-lib?noext\",\n      \"vega-lite\": \"https://cdn.jsdelivr.net/npm//vega-lite@4.17.0?noext\",\n      \"vega-embed\": \"https://cdn.jsdelivr.net/npm//vega-embed@6?noext\",\n    };\n\n    function maybeLoadScript(lib, version) {\n      var key = `${lib.replace(\"-\", \"\")}_version`;\n      return (VEGA_DEBUG[key] == version) ?\n        Promise.resolve(paths[lib]) :\n        new Promise(function(resolve, reject) {\n          var s = document.createElement('script');\n          document.getElementsByTagName(\"head\")[0].appendChild(s);\n          s.async = true;\n          s.onload = () => {\n            VEGA_DEBUG[key] = version;\n            return resolve(paths[lib]);\n          };\n          s.onerror = () => reject(`Error loading script: ${paths[lib]}`);\n          s.src = paths[lib];\n        });\n    }\n\n    function showError(err) {\n      outputDiv.innerHTML = `<div class=\"error\" style=\"color:red;\">${err}</div>`;\n      throw err;\n    }\n\n    function displayChart(vegaEmbed) {\n      vegaEmbed(outputDiv, spec, embedOpt)\n        .catch(err => showError(`Javascript Error: ${err.message}<br>This usually means there's a typo in your chart specification. See the javascript console for the full traceback.`));\n    }\n\n    if(typeof define === \"function\" && define.amd) {\n      requirejs.config({paths});\n      require([\"vega-embed\"], displayChart, err => showError(`Error loading script: ${err.message}`));\n    } else {\n      maybeLoadScript(\"vega\", \"5\")\n        .then(() => maybeLoadScript(\"vega-lite\", \"4.17.0\"))\n        .then(() => maybeLoadScript(\"vega-embed\", \"6\"))\n        .catch(showError)\n        .then(() => displayChart(vegaEmbed));\n    }\n  })({\"config\": {\"view\": {\"continuousWidth\": 400, \"continuousHeight\": 300, \"stroke\": \"#FFF\"}, \"legend\": {\"padding\": 24}, \"title\": {\"fontSize\": 20, \"offset\": 24}}, \"data\": {\"name\": \"data-d7df6bea5b8474df2dfba65bad400fa8\"}, \"mark\": \"bar\", \"datasets\": {\"data-d7df6bea5b8474df2dfba65bad400fa8\": [{\"variety\": \"Cabernet Sauvignon\", \"side\": \"Buyer\", \"tons\": 3980}, {\"variety\": \"Chardonnay\", \"side\": \"Buyer\", \"tons\": 4290}, {\"variety\": \"Granache\", \"side\": \"Buyer\", \"tons\": 3810}, {\"variety\": \"Marsanne\", \"side\": \"Buyer\", \"tons\": 3560}, {\"variety\": \"Merlot\", \"side\": \"Buyer\", \"tons\": 4230}, {\"variety\": \"Mourvedre\", \"side\": \"Buyer\", \"tons\": 3875}, {\"variety\": \"Nebbiolo\", \"side\": \"Buyer\", \"tons\": 4020}, {\"variety\": \"Petit Verdot\", \"side\": \"Buyer\", \"tons\": 4275}, {\"variety\": \"Pinot blanc\", \"side\": \"Buyer\", \"tons\": 3595}, {\"variety\": \"Pinot gris\", \"side\": \"Buyer\", \"tons\": 3625}, {\"variety\": \"Pinot noir\", \"side\": \"Buyer\", \"tons\": 3350}, {\"variety\": \"Riesling\", \"side\": \"Buyer\", \"tons\": 3780}, {\"variety\": \"Roussanne\", \"side\": \"Buyer\", \"tons\": 3645}, {\"variety\": \"Sangiovese\", \"side\": \"Buyer\", \"tons\": 3395}, {\"variety\": \"Sauvignon blanc\", \"side\": \"Buyer\", \"tons\": 3960}, {\"variety\": \"Semillon\", \"side\": \"Buyer\", \"tons\": 3395}, {\"variety\": \"Syrah\", \"side\": \"Buyer\", \"tons\": 3480}, {\"variety\": \"Viognier\", \"side\": \"Buyer\", \"tons\": 4280}, {\"variety\": \"Cabernet Sauvignon\", \"side\": \"Seller\", \"tons\": 1705}, {\"variety\": \"Chardonnay\", \"side\": \"Seller\", \"tons\": 2145}, {\"variety\": \"Granache\", \"side\": \"Seller\", \"tons\": 1670}, {\"variety\": \"Marsanne\", \"side\": \"Seller\", \"tons\": 1510}, {\"variety\": \"Merlot\", \"side\": \"Seller\", \"tons\": 1770}, {\"variety\": \"Mourvedre\", \"side\": \"Seller\", \"tons\": 1100}, {\"variety\": \"Nebbiolo\", \"side\": \"Seller\", \"tons\": 2040}, {\"variety\": \"Petit Verdot\", \"side\": \"Seller\", \"tons\": 1765}, {\"variety\": \"Pinot blanc\", \"side\": \"Seller\", \"tons\": 1895}, {\"variety\": \"Pinot gris\", \"side\": \"Seller\", \"tons\": 2055}, {\"variety\": \"Pinot noir\", \"side\": \"Seller\", \"tons\": 1975}, {\"variety\": \"Riesling\", \"side\": \"Seller\", \"tons\": 1615}, {\"variety\": \"Roussanne\", \"side\": \"Seller\", \"tons\": 2065}, {\"variety\": \"Sangiovese\", \"side\": \"Seller\", \"tons\": 1765}, {\"variety\": \"Sauvignon blanc\", \"side\": \"Seller\", \"tons\": 1915}, {\"variety\": \"Semillon\", \"side\": \"Seller\", \"tons\": 1785}, {\"variety\": \"Syrah\", \"side\": \"Seller\", \"tons\": 1440}, {\"variety\": \"Viognier\", \"side\": \"Seller\", \"tons\": 1685}]}, \"encoding\": {\"color\": {\"field\": \"side\", \"title\": \"Side\", \"type\": \"nominal\"}, \"tooltip\": [{\"field\": \"side\", \"type\": \"nominal\"}, {\"field\": \"variety\", \"type\": \"nominal\"}, {\"field\": \"tons\", \"type\": \"quantitative\"}], \"x\": {\"field\": \"variety\", \"sort\": \"-y\", \"title\": \"Variety\", \"type\": \"nominal\"}, \"y\": {\"field\": \"tons\", \"type\": \"quantitative\"}}, \"height\": 400, \"padding\": 24, \"title\": \"Tons by Side by Variety\", \"width\": 480, \"$schema\": \"https://vega.github.io/schema/vega-lite/v4.17.0.json\"}, {\"mode\": \"vega-lite\"});\n</script>",
      "text/plain": "alt.Chart(...)"
     },
     "execution_count": 99,
     "metadata": {},
     "output_type": "execute_result"
    }
   ],
   "source": [
    "chart = requests.get('http://127.0.0.1:8000/graph/df-grapes-by-side').json()\n",
    "Chart.from_dict(chart)"
   ],
   "metadata": {
    "collapsed": false,
    "pycharm": {
     "name": "#%%\n"
    }
   }
  }
 ],
 "metadata": {
  "kernelspec": {
   "display_name": "Python 3 (ipykernel)",
   "language": "python",
   "name": "python3"
  },
  "language_info": {
   "codemirror_mode": {
    "name": "ipython",
    "version": 3
   },
   "file_extension": ".py",
   "mimetype": "text/x-python",
   "name": "python",
   "nbconvert_exporter": "python",
   "pygments_lexer": "ipython3",
   "version": "3.9.7"
  }
 },
 "nbformat": 4,
 "nbformat_minor": 5
}