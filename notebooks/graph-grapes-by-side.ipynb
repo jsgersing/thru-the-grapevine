{
 "cells": [
  {
   "cell_type": "code",
   "execution_count": 252,
   "id": "fa83f9da",
   "metadata": {
    "pycharm": {
     "name": "#%%\n"
    }
   },
   "outputs": [],
   "source": [
    "from os import getenv\n",
    "from pymongo import MongoClient\n",
    "from pandas import DataFrame, Series, concat\n",
    "from dotenv import load_dotenv"
   ]
  },
  {
   "cell_type": "code",
   "execution_count": 165,
   "id": "7ce885c0",
   "metadata": {
    "pycharm": {
     "name": "#%%\n"
    }
   },
   "outputs": [],
   "source": [
    "filepath = 'Users/jasongersing/PycharmProjects/fastApiProject/.env'"
   ]
  },
  {
   "cell_type": "code",
   "execution_count": 168,
   "id": "8053602e",
   "metadata": {
    "pycharm": {
     "name": "#%%\n"
    }
   },
   "outputs": [
    {
     "data": {
      "text/plain": [
       "True"
      ]
     },
     "execution_count": 168,
     "metadata": {},
     "output_type": "execute_result"
    }
   ],
   "source": [
    "load_dotenv(filepath)"
   ]
  },
  {
   "cell_type": "code",
   "execution_count": 194,
   "id": "37e9a9fd",
   "metadata": {
    "pycharm": {
     "name": "#%%\n"
    }
   },
   "outputs": [],
   "source": [
    "url = getenv('MONGO_URL')\n",
    "database = \"thruTheGrapevine\"\n",
    "collection_GB = \"GrapeBuyers\"\n",
    "collection_GS = \"GrapeSellers\""
   ]
  },
  {
   "cell_type": "code",
   "execution_count": 195,
   "id": "0fe74d09",
   "metadata": {
    "pycharm": {
     "name": "#%%\n"
    }
   },
   "outputs": [],
   "source": [
    "url = url[1:-1]"
   ]
  },
  {
   "cell_type": "code",
   "execution_count": 280,
   "id": "de1e818a",
   "metadata": {
    "pycharm": {
     "name": "#%%\n"
    }
   },
   "outputs": [],
   "source": [
    "db_GB = MongoClient(url)[database][collection_GB]\n"
   ]
  },
  {
   "cell_type": "code",
   "execution_count": 281,
   "id": "f2246bc8",
   "metadata": {
    "pycharm": {
     "name": "#%%\n"
    }
   },
   "outputs": [
    {
     "data": {
      "text/plain": [
       "100"
      ]
     },
     "execution_count": 281,
     "metadata": {},
     "output_type": "execute_result"
    }
   ],
   "source": [
    "db_GB.count_documents({})"
   ]
  },
  {
   "cell_type": "code",
   "execution_count": 240,
   "id": "a1b67188",
   "metadata": {
    "pycharm": {
     "name": "#%%\n"
    }
   },
   "outputs": [],
   "source": [
    "db_GS = MongoClient(url)[database][collection_GS]"
   ]
  },
  {
   "cell_type": "code",
   "execution_count": 241,
   "id": "031722af",
   "metadata": {
    "pycharm": {
     "name": "#%%\n"
    }
   },
   "outputs": [
    {
     "data": {
      "text/plain": [
       "20"
      ]
     },
     "execution_count": 241,
     "metadata": {},
     "output_type": "execute_result"
    }
   ],
   "source": [
    "db_GS.count_documents({})"
   ]
  },
  {
   "cell_type": "code",
   "execution_count": 282,
   "id": "86e73c25",
   "metadata": {
    "pycharm": {
     "name": "#%%\n"
    }
   },
   "outputs": [],
   "source": [
    "grape_buyers = DataFrame(db_GB.find(projection={\"_id\": False, \"grapes_seeking\": True, \"volume_seeking\": True}))"
   ]
  },
  {
   "cell_type": "code",
   "execution_count": 283,
   "id": "7ce0d702",
   "metadata": {
    "pycharm": {
     "name": "#%%\n"
    }
   },
   "outputs": [],
   "source": [
    "grape_buyers = grape_buyers.explode(column=[\"grapes_seeking\", \"volume_seeking\"])"
   ]
  },
  {
   "cell_type": "code",
   "execution_count": 284,
   "id": "650bc04b",
   "metadata": {
    "pycharm": {
     "name": "#%%\n"
    }
   },
   "outputs": [],
   "source": [
    "grape_buyers.rename(columns={\"grapes_seeking\": \"grapes\", \"volume_seeking\": \"volume\"}, inplace=True)"
   ]
  },
  {
   "cell_type": "code",
   "execution_count": 285,
   "id": "8ea2ecb4",
   "metadata": {
    "pycharm": {
     "name": "#%%\n"
    }
   },
   "outputs": [],
   "source": [
    "grape_buyers[\"side\"] = \"Buyer\""
   ]
  },
  {
   "cell_type": "code",
   "execution_count": 286,
   "id": "a91bfd89",
   "metadata": {
    "pycharm": {
     "name": "#%%\n"
    }
   },
   "outputs": [],
   "source": [
    "grape_buyers[\"volume\"] = Series([int(num) for num in grape_buyers[\"volume\"]])"
   ]
  },
  {
   "cell_type": "code",
   "execution_count": 287,
   "id": "bcbe688a",
   "metadata": {
    "pycharm": {
     "name": "#%%\n"
    }
   },
   "outputs": [
    {
     "data": {
      "text/html": [
       "<div>\n",
       "<style scoped>\n",
       "    .dataframe tbody tr th:only-of-type {\n",
       "        vertical-align: middle;\n",
       "    }\n",
       "\n",
       "    .dataframe tbody tr th {\n",
       "        vertical-align: top;\n",
       "    }\n",
       "\n",
       "    .dataframe thead th {\n",
       "        text-align: right;\n",
       "    }\n",
       "</style>\n",
       "<table border=\"1\" class=\"dataframe\">\n",
       "  <thead>\n",
       "    <tr style=\"text-align: right;\">\n",
       "      <th></th>\n",
       "      <th>grapes</th>\n",
       "      <th>volume</th>\n",
       "      <th>side</th>\n",
       "    </tr>\n",
       "  </thead>\n",
       "  <tbody>\n",
       "    <tr>\n",
       "      <th>0</th>\n",
       "      <td>Mourvedre</td>\n",
       "      <td>50</td>\n",
       "      <td>Buyer</td>\n",
       "    </tr>\n",
       "    <tr>\n",
       "      <th>0</th>\n",
       "      <td>Pinot blanc</td>\n",
       "      <td>50</td>\n",
       "      <td>Buyer</td>\n",
       "    </tr>\n",
       "    <tr>\n",
       "      <th>0</th>\n",
       "      <td>Nebbiolo</td>\n",
       "      <td>50</td>\n",
       "      <td>Buyer</td>\n",
       "    </tr>\n",
       "    <tr>\n",
       "      <th>0</th>\n",
       "      <td>Syrah</td>\n",
       "      <td>50</td>\n",
       "      <td>Buyer</td>\n",
       "    </tr>\n",
       "    <tr>\n",
       "      <th>1</th>\n",
       "      <td>Syrah</td>\n",
       "      <td>10</td>\n",
       "      <td>Buyer</td>\n",
       "    </tr>\n",
       "    <tr>\n",
       "      <th>...</th>\n",
       "      <td>...</td>\n",
       "      <td>...</td>\n",
       "      <td>...</td>\n",
       "    </tr>\n",
       "    <tr>\n",
       "      <th>98</th>\n",
       "      <td>Marsanne</td>\n",
       "      <td>45</td>\n",
       "      <td>Buyer</td>\n",
       "    </tr>\n",
       "    <tr>\n",
       "      <th>99</th>\n",
       "      <td>Viognier</td>\n",
       "      <td>50</td>\n",
       "      <td>Buyer</td>\n",
       "    </tr>\n",
       "    <tr>\n",
       "      <th>99</th>\n",
       "      <td>Petit Verdot</td>\n",
       "      <td>50</td>\n",
       "      <td>Buyer</td>\n",
       "    </tr>\n",
       "    <tr>\n",
       "      <th>99</th>\n",
       "      <td>Marsanne</td>\n",
       "      <td>50</td>\n",
       "      <td>Buyer</td>\n",
       "    </tr>\n",
       "    <tr>\n",
       "      <th>99</th>\n",
       "      <td>Cabernet Sauvignon</td>\n",
       "      <td>50</td>\n",
       "      <td>Buyer</td>\n",
       "    </tr>\n",
       "  </tbody>\n",
       "</table>\n",
       "<p>232 rows × 3 columns</p>\n",
       "</div>"
      ],
      "text/plain": [
       "                grapes  volume   side\n",
       "0            Mourvedre      50  Buyer\n",
       "0          Pinot blanc      50  Buyer\n",
       "0             Nebbiolo      50  Buyer\n",
       "0                Syrah      50  Buyer\n",
       "1                Syrah      10  Buyer\n",
       "..                 ...     ...    ...\n",
       "98            Marsanne      45  Buyer\n",
       "99            Viognier      50  Buyer\n",
       "99        Petit Verdot      50  Buyer\n",
       "99            Marsanne      50  Buyer\n",
       "99  Cabernet Sauvignon      50  Buyer\n",
       "\n",
       "[232 rows x 3 columns]"
      ]
     },
     "execution_count": 287,
     "metadata": {},
     "output_type": "execute_result"
    }
   ],
   "source": [
    "grape_buyers"
   ]
  },
  {
   "cell_type": "code",
   "execution_count": 288,
   "id": "c0e4723e",
   "metadata": {
    "pycharm": {
     "name": "#%%\n"
    }
   },
   "outputs": [],
   "source": [
    "grape_buyers = grape_buyers.groupby([\"grapes\", \"side\"]).agg({\"volume\": \"sum\"}).reset_index()"
   ]
  },
  {
   "cell_type": "code",
   "execution_count": 289,
   "id": "cc8296d1",
   "metadata": {
    "pycharm": {
     "name": "#%%\n"
    }
   },
   "outputs": [
    {
     "data": {
      "text/html": [
       "<div>\n",
       "<style scoped>\n",
       "    .dataframe tbody tr th:only-of-type {\n",
       "        vertical-align: middle;\n",
       "    }\n",
       "\n",
       "    .dataframe tbody tr th {\n",
       "        vertical-align: top;\n",
       "    }\n",
       "\n",
       "    .dataframe thead th {\n",
       "        text-align: right;\n",
       "    }\n",
       "</style>\n",
       "<table border=\"1\" class=\"dataframe\">\n",
       "  <thead>\n",
       "    <tr style=\"text-align: right;\">\n",
       "      <th></th>\n",
       "      <th>grapes</th>\n",
       "      <th>side</th>\n",
       "      <th>volume</th>\n",
       "    </tr>\n",
       "  </thead>\n",
       "  <tbody>\n",
       "    <tr>\n",
       "      <th>0</th>\n",
       "      <td>Cabernet Sauvignon</td>\n",
       "      <td>Buyer</td>\n",
       "      <td>395</td>\n",
       "    </tr>\n",
       "    <tr>\n",
       "      <th>1</th>\n",
       "      <td>Chardonnay</td>\n",
       "      <td>Buyer</td>\n",
       "      <td>185</td>\n",
       "    </tr>\n",
       "    <tr>\n",
       "      <th>2</th>\n",
       "      <td>Granache</td>\n",
       "      <td>Buyer</td>\n",
       "      <td>545</td>\n",
       "    </tr>\n",
       "    <tr>\n",
       "      <th>3</th>\n",
       "      <td>Marsanne</td>\n",
       "      <td>Buyer</td>\n",
       "      <td>435</td>\n",
       "    </tr>\n",
       "    <tr>\n",
       "      <th>4</th>\n",
       "      <td>Merlot</td>\n",
       "      <td>Buyer</td>\n",
       "      <td>220</td>\n",
       "    </tr>\n",
       "    <tr>\n",
       "      <th>5</th>\n",
       "      <td>Mourvedre</td>\n",
       "      <td>Buyer</td>\n",
       "      <td>255</td>\n",
       "    </tr>\n",
       "    <tr>\n",
       "      <th>6</th>\n",
       "      <td>Nebbiolo</td>\n",
       "      <td>Buyer</td>\n",
       "      <td>390</td>\n",
       "    </tr>\n",
       "    <tr>\n",
       "      <th>7</th>\n",
       "      <td>Petit Verdot</td>\n",
       "      <td>Buyer</td>\n",
       "      <td>310</td>\n",
       "    </tr>\n",
       "    <tr>\n",
       "      <th>8</th>\n",
       "      <td>Pinot blanc</td>\n",
       "      <td>Buyer</td>\n",
       "      <td>355</td>\n",
       "    </tr>\n",
       "    <tr>\n",
       "      <th>9</th>\n",
       "      <td>Pinot gris</td>\n",
       "      <td>Buyer</td>\n",
       "      <td>555</td>\n",
       "    </tr>\n",
       "    <tr>\n",
       "      <th>10</th>\n",
       "      <td>Pinot noir</td>\n",
       "      <td>Buyer</td>\n",
       "      <td>330</td>\n",
       "    </tr>\n",
       "    <tr>\n",
       "      <th>11</th>\n",
       "      <td>Riesling</td>\n",
       "      <td>Buyer</td>\n",
       "      <td>230</td>\n",
       "    </tr>\n",
       "    <tr>\n",
       "      <th>12</th>\n",
       "      <td>Roussanne</td>\n",
       "      <td>Buyer</td>\n",
       "      <td>155</td>\n",
       "    </tr>\n",
       "    <tr>\n",
       "      <th>13</th>\n",
       "      <td>Sangiovese</td>\n",
       "      <td>Buyer</td>\n",
       "      <td>420</td>\n",
       "    </tr>\n",
       "    <tr>\n",
       "      <th>14</th>\n",
       "      <td>Sauvignon blanc</td>\n",
       "      <td>Buyer</td>\n",
       "      <td>450</td>\n",
       "    </tr>\n",
       "    <tr>\n",
       "      <th>15</th>\n",
       "      <td>Semillon</td>\n",
       "      <td>Buyer</td>\n",
       "      <td>330</td>\n",
       "    </tr>\n",
       "    <tr>\n",
       "      <th>16</th>\n",
       "      <td>Syrah</td>\n",
       "      <td>Buyer</td>\n",
       "      <td>525</td>\n",
       "    </tr>\n",
       "    <tr>\n",
       "      <th>17</th>\n",
       "      <td>Viognier</td>\n",
       "      <td>Buyer</td>\n",
       "      <td>375</td>\n",
       "    </tr>\n",
       "  </tbody>\n",
       "</table>\n",
       "</div>"
      ],
      "text/plain": [
       "                grapes   side  volume\n",
       "0   Cabernet Sauvignon  Buyer     395\n",
       "1           Chardonnay  Buyer     185\n",
       "2             Granache  Buyer     545\n",
       "3             Marsanne  Buyer     435\n",
       "4               Merlot  Buyer     220\n",
       "5            Mourvedre  Buyer     255\n",
       "6             Nebbiolo  Buyer     390\n",
       "7         Petit Verdot  Buyer     310\n",
       "8          Pinot blanc  Buyer     355\n",
       "9           Pinot gris  Buyer     555\n",
       "10          Pinot noir  Buyer     330\n",
       "11            Riesling  Buyer     230\n",
       "12           Roussanne  Buyer     155\n",
       "13          Sangiovese  Buyer     420\n",
       "14     Sauvignon blanc  Buyer     450\n",
       "15            Semillon  Buyer     330\n",
       "16               Syrah  Buyer     525\n",
       "17            Viognier  Buyer     375"
      ]
     },
     "execution_count": 289,
     "metadata": {},
     "output_type": "execute_result"
    }
   ],
   "source": [
    "grape_buyers"
   ]
  },
  {
   "cell_type": "code",
   "execution_count": 290,
   "id": "87ea2614",
   "metadata": {
    "pycharm": {
     "name": "#%%\n"
    }
   },
   "outputs": [],
   "source": [
    "grape_sellers = DataFrame(db_GS.find(projection={\"_id\": False, \"grapes_selling\": True, \"volume_selling\": True}))"
   ]
  },
  {
   "cell_type": "code",
   "execution_count": 291,
   "id": "a6b17481",
   "metadata": {
    "pycharm": {
     "name": "#%%\n"
    }
   },
   "outputs": [],
   "source": [
    "grape_sellers = grape_sellers.explode(column=[\"grapes_selling\", \"volume_selling\"])"
   ]
  },
  {
   "cell_type": "code",
   "execution_count": 292,
   "id": "01fe4755",
   "metadata": {
    "pycharm": {
     "name": "#%%\n"
    }
   },
   "outputs": [],
   "source": [
    "grape_sellers.rename(columns={\"grapes_selling\": \"grapes\", \"volume_selling\": \"volume\"}, inplace=True)"
   ]
  },
  {
   "cell_type": "code",
   "execution_count": 293,
   "id": "e4b2d635",
   "metadata": {
    "pycharm": {
     "name": "#%%\n"
    }
   },
   "outputs": [],
   "source": [
    "grape_sellers[\"side\"] = \"Seller\""
   ]
  },
  {
   "cell_type": "code",
   "execution_count": 294,
   "id": "457d4e73",
   "metadata": {
    "pycharm": {
     "name": "#%%\n"
    }
   },
   "outputs": [],
   "source": [
    "grape_sellers[\"volume\"] = Series([int(num) for num in grape_sellers[\"volume\"]])"
   ]
  },
  {
   "cell_type": "code",
   "execution_count": 295,
   "id": "1ec8932c",
   "metadata": {
    "pycharm": {
     "name": "#%%\n"
    }
   },
   "outputs": [],
   "source": [
    "grape_sellers = grape_sellers.groupby([\"grapes\", \"side\"]).agg({\"volume\": \"sum\"}).reset_index()"
   ]
  },
  {
   "cell_type": "code",
   "execution_count": 296,
   "id": "3eb9afd9",
   "metadata": {
    "pycharm": {
     "name": "#%%\n"
    }
   },
   "outputs": [
    {
     "data": {
      "text/html": [
       "<div>\n",
       "<style scoped>\n",
       "    .dataframe tbody tr th:only-of-type {\n",
       "        vertical-align: middle;\n",
       "    }\n",
       "\n",
       "    .dataframe tbody tr th {\n",
       "        vertical-align: top;\n",
       "    }\n",
       "\n",
       "    .dataframe thead th {\n",
       "        text-align: right;\n",
       "    }\n",
       "</style>\n",
       "<table border=\"1\" class=\"dataframe\">\n",
       "  <thead>\n",
       "    <tr style=\"text-align: right;\">\n",
       "      <th></th>\n",
       "      <th>grapes</th>\n",
       "      <th>side</th>\n",
       "      <th>volume</th>\n",
       "    </tr>\n",
       "  </thead>\n",
       "  <tbody>\n",
       "    <tr>\n",
       "      <th>0</th>\n",
       "      <td>Cabernet Sauvignon</td>\n",
       "      <td>Seller</td>\n",
       "      <td>35</td>\n",
       "    </tr>\n",
       "    <tr>\n",
       "      <th>1</th>\n",
       "      <td>Chardonnay</td>\n",
       "      <td>Seller</td>\n",
       "      <td>235</td>\n",
       "    </tr>\n",
       "    <tr>\n",
       "      <th>2</th>\n",
       "      <td>Granache</td>\n",
       "      <td>Seller</td>\n",
       "      <td>15</td>\n",
       "    </tr>\n",
       "    <tr>\n",
       "      <th>3</th>\n",
       "      <td>Marsanne</td>\n",
       "      <td>Seller</td>\n",
       "      <td>45</td>\n",
       "    </tr>\n",
       "    <tr>\n",
       "      <th>4</th>\n",
       "      <td>Merlot</td>\n",
       "      <td>Seller</td>\n",
       "      <td>170</td>\n",
       "    </tr>\n",
       "    <tr>\n",
       "      <th>5</th>\n",
       "      <td>Mourvedre</td>\n",
       "      <td>Seller</td>\n",
       "      <td>210</td>\n",
       "    </tr>\n",
       "    <tr>\n",
       "      <th>6</th>\n",
       "      <td>Nebbiolo</td>\n",
       "      <td>Seller</td>\n",
       "      <td>55</td>\n",
       "    </tr>\n",
       "    <tr>\n",
       "      <th>7</th>\n",
       "      <td>Petit Verdot</td>\n",
       "      <td>Seller</td>\n",
       "      <td>85</td>\n",
       "    </tr>\n",
       "    <tr>\n",
       "      <th>8</th>\n",
       "      <td>Pinot blanc</td>\n",
       "      <td>Seller</td>\n",
       "      <td>25</td>\n",
       "    </tr>\n",
       "    <tr>\n",
       "      <th>9</th>\n",
       "      <td>Pinot gris</td>\n",
       "      <td>Seller</td>\n",
       "      <td>45</td>\n",
       "    </tr>\n",
       "    <tr>\n",
       "      <th>10</th>\n",
       "      <td>Pinot noir</td>\n",
       "      <td>Seller</td>\n",
       "      <td>95</td>\n",
       "    </tr>\n",
       "    <tr>\n",
       "      <th>11</th>\n",
       "      <td>Riesling</td>\n",
       "      <td>Seller</td>\n",
       "      <td>30</td>\n",
       "    </tr>\n",
       "    <tr>\n",
       "      <th>12</th>\n",
       "      <td>Roussanne</td>\n",
       "      <td>Seller</td>\n",
       "      <td>80</td>\n",
       "    </tr>\n",
       "    <tr>\n",
       "      <th>13</th>\n",
       "      <td>Sangiovese</td>\n",
       "      <td>Seller</td>\n",
       "      <td>45</td>\n",
       "    </tr>\n",
       "    <tr>\n",
       "      <th>14</th>\n",
       "      <td>Sauvignon blanc</td>\n",
       "      <td>Seller</td>\n",
       "      <td>130</td>\n",
       "    </tr>\n",
       "    <tr>\n",
       "      <th>15</th>\n",
       "      <td>Semillon</td>\n",
       "      <td>Seller</td>\n",
       "      <td>10</td>\n",
       "    </tr>\n",
       "    <tr>\n",
       "      <th>16</th>\n",
       "      <td>Syrah</td>\n",
       "      <td>Seller</td>\n",
       "      <td>125</td>\n",
       "    </tr>\n",
       "    <tr>\n",
       "      <th>17</th>\n",
       "      <td>Viognier</td>\n",
       "      <td>Seller</td>\n",
       "      <td>75</td>\n",
       "    </tr>\n",
       "  </tbody>\n",
       "</table>\n",
       "</div>"
      ],
      "text/plain": [
       "                grapes    side  volume\n",
       "0   Cabernet Sauvignon  Seller      35\n",
       "1           Chardonnay  Seller     235\n",
       "2             Granache  Seller      15\n",
       "3             Marsanne  Seller      45\n",
       "4               Merlot  Seller     170\n",
       "5            Mourvedre  Seller     210\n",
       "6             Nebbiolo  Seller      55\n",
       "7         Petit Verdot  Seller      85\n",
       "8          Pinot blanc  Seller      25\n",
       "9           Pinot gris  Seller      45\n",
       "10          Pinot noir  Seller      95\n",
       "11            Riesling  Seller      30\n",
       "12           Roussanne  Seller      80\n",
       "13          Sangiovese  Seller      45\n",
       "14     Sauvignon blanc  Seller     130\n",
       "15            Semillon  Seller      10\n",
       "16               Syrah  Seller     125\n",
       "17            Viognier  Seller      75"
      ]
     },
     "execution_count": 296,
     "metadata": {},
     "output_type": "execute_result"
    }
   ],
   "source": [
    "grape_sellers"
   ]
  },
  {
   "cell_type": "code",
   "execution_count": 297,
   "id": "9fd40433",
   "metadata": {
    "pycharm": {
     "name": "#%%\n"
    }
   },
   "outputs": [],
   "source": [
    "total = concat([grape_buyers, grape_sellers])"
   ]
  },
  {
   "cell_type": "code",
   "execution_count": 298,
   "id": "e83ebad9",
   "metadata": {
    "pycharm": {
     "name": "#%%\n"
    }
   },
   "outputs": [
    {
     "data": {
      "text/html": [
       "<div>\n",
       "<style scoped>\n",
       "    .dataframe tbody tr th:only-of-type {\n",
       "        vertical-align: middle;\n",
       "    }\n",
       "\n",
       "    .dataframe tbody tr th {\n",
       "        vertical-align: top;\n",
       "    }\n",
       "\n",
       "    .dataframe thead th {\n",
       "        text-align: right;\n",
       "    }\n",
       "</style>\n",
       "<table border=\"1\" class=\"dataframe\">\n",
       "  <thead>\n",
       "    <tr style=\"text-align: right;\">\n",
       "      <th></th>\n",
       "      <th>grapes</th>\n",
       "      <th>side</th>\n",
       "      <th>volume</th>\n",
       "    </tr>\n",
       "  </thead>\n",
       "  <tbody>\n",
       "    <tr>\n",
       "      <th>0</th>\n",
       "      <td>Cabernet Sauvignon</td>\n",
       "      <td>Buyer</td>\n",
       "      <td>395</td>\n",
       "    </tr>\n",
       "    <tr>\n",
       "      <th>1</th>\n",
       "      <td>Chardonnay</td>\n",
       "      <td>Buyer</td>\n",
       "      <td>185</td>\n",
       "    </tr>\n",
       "    <tr>\n",
       "      <th>2</th>\n",
       "      <td>Granache</td>\n",
       "      <td>Buyer</td>\n",
       "      <td>545</td>\n",
       "    </tr>\n",
       "    <tr>\n",
       "      <th>3</th>\n",
       "      <td>Marsanne</td>\n",
       "      <td>Buyer</td>\n",
       "      <td>435</td>\n",
       "    </tr>\n",
       "    <tr>\n",
       "      <th>4</th>\n",
       "      <td>Merlot</td>\n",
       "      <td>Buyer</td>\n",
       "      <td>220</td>\n",
       "    </tr>\n",
       "    <tr>\n",
       "      <th>5</th>\n",
       "      <td>Mourvedre</td>\n",
       "      <td>Buyer</td>\n",
       "      <td>255</td>\n",
       "    </tr>\n",
       "    <tr>\n",
       "      <th>6</th>\n",
       "      <td>Nebbiolo</td>\n",
       "      <td>Buyer</td>\n",
       "      <td>390</td>\n",
       "    </tr>\n",
       "    <tr>\n",
       "      <th>7</th>\n",
       "      <td>Petit Verdot</td>\n",
       "      <td>Buyer</td>\n",
       "      <td>310</td>\n",
       "    </tr>\n",
       "    <tr>\n",
       "      <th>8</th>\n",
       "      <td>Pinot blanc</td>\n",
       "      <td>Buyer</td>\n",
       "      <td>355</td>\n",
       "    </tr>\n",
       "    <tr>\n",
       "      <th>9</th>\n",
       "      <td>Pinot gris</td>\n",
       "      <td>Buyer</td>\n",
       "      <td>555</td>\n",
       "    </tr>\n",
       "    <tr>\n",
       "      <th>10</th>\n",
       "      <td>Pinot noir</td>\n",
       "      <td>Buyer</td>\n",
       "      <td>330</td>\n",
       "    </tr>\n",
       "    <tr>\n",
       "      <th>11</th>\n",
       "      <td>Riesling</td>\n",
       "      <td>Buyer</td>\n",
       "      <td>230</td>\n",
       "    </tr>\n",
       "    <tr>\n",
       "      <th>12</th>\n",
       "      <td>Roussanne</td>\n",
       "      <td>Buyer</td>\n",
       "      <td>155</td>\n",
       "    </tr>\n",
       "    <tr>\n",
       "      <th>13</th>\n",
       "      <td>Sangiovese</td>\n",
       "      <td>Buyer</td>\n",
       "      <td>420</td>\n",
       "    </tr>\n",
       "    <tr>\n",
       "      <th>14</th>\n",
       "      <td>Sauvignon blanc</td>\n",
       "      <td>Buyer</td>\n",
       "      <td>450</td>\n",
       "    </tr>\n",
       "    <tr>\n",
       "      <th>15</th>\n",
       "      <td>Semillon</td>\n",
       "      <td>Buyer</td>\n",
       "      <td>330</td>\n",
       "    </tr>\n",
       "    <tr>\n",
       "      <th>16</th>\n",
       "      <td>Syrah</td>\n",
       "      <td>Buyer</td>\n",
       "      <td>525</td>\n",
       "    </tr>\n",
       "    <tr>\n",
       "      <th>17</th>\n",
       "      <td>Viognier</td>\n",
       "      <td>Buyer</td>\n",
       "      <td>375</td>\n",
       "    </tr>\n",
       "    <tr>\n",
       "      <th>0</th>\n",
       "      <td>Cabernet Sauvignon</td>\n",
       "      <td>Seller</td>\n",
       "      <td>35</td>\n",
       "    </tr>\n",
       "    <tr>\n",
       "      <th>1</th>\n",
       "      <td>Chardonnay</td>\n",
       "      <td>Seller</td>\n",
       "      <td>235</td>\n",
       "    </tr>\n",
       "    <tr>\n",
       "      <th>2</th>\n",
       "      <td>Granache</td>\n",
       "      <td>Seller</td>\n",
       "      <td>15</td>\n",
       "    </tr>\n",
       "    <tr>\n",
       "      <th>3</th>\n",
       "      <td>Marsanne</td>\n",
       "      <td>Seller</td>\n",
       "      <td>45</td>\n",
       "    </tr>\n",
       "    <tr>\n",
       "      <th>4</th>\n",
       "      <td>Merlot</td>\n",
       "      <td>Seller</td>\n",
       "      <td>170</td>\n",
       "    </tr>\n",
       "    <tr>\n",
       "      <th>5</th>\n",
       "      <td>Mourvedre</td>\n",
       "      <td>Seller</td>\n",
       "      <td>210</td>\n",
       "    </tr>\n",
       "    <tr>\n",
       "      <th>6</th>\n",
       "      <td>Nebbiolo</td>\n",
       "      <td>Seller</td>\n",
       "      <td>55</td>\n",
       "    </tr>\n",
       "    <tr>\n",
       "      <th>7</th>\n",
       "      <td>Petit Verdot</td>\n",
       "      <td>Seller</td>\n",
       "      <td>85</td>\n",
       "    </tr>\n",
       "    <tr>\n",
       "      <th>8</th>\n",
       "      <td>Pinot blanc</td>\n",
       "      <td>Seller</td>\n",
       "      <td>25</td>\n",
       "    </tr>\n",
       "    <tr>\n",
       "      <th>9</th>\n",
       "      <td>Pinot gris</td>\n",
       "      <td>Seller</td>\n",
       "      <td>45</td>\n",
       "    </tr>\n",
       "    <tr>\n",
       "      <th>10</th>\n",
       "      <td>Pinot noir</td>\n",
       "      <td>Seller</td>\n",
       "      <td>95</td>\n",
       "    </tr>\n",
       "    <tr>\n",
       "      <th>11</th>\n",
       "      <td>Riesling</td>\n",
       "      <td>Seller</td>\n",
       "      <td>30</td>\n",
       "    </tr>\n",
       "    <tr>\n",
       "      <th>12</th>\n",
       "      <td>Roussanne</td>\n",
       "      <td>Seller</td>\n",
       "      <td>80</td>\n",
       "    </tr>\n",
       "    <tr>\n",
       "      <th>13</th>\n",
       "      <td>Sangiovese</td>\n",
       "      <td>Seller</td>\n",
       "      <td>45</td>\n",
       "    </tr>\n",
       "    <tr>\n",
       "      <th>14</th>\n",
       "      <td>Sauvignon blanc</td>\n",
       "      <td>Seller</td>\n",
       "      <td>130</td>\n",
       "    </tr>\n",
       "    <tr>\n",
       "      <th>15</th>\n",
       "      <td>Semillon</td>\n",
       "      <td>Seller</td>\n",
       "      <td>10</td>\n",
       "    </tr>\n",
       "    <tr>\n",
       "      <th>16</th>\n",
       "      <td>Syrah</td>\n",
       "      <td>Seller</td>\n",
       "      <td>125</td>\n",
       "    </tr>\n",
       "    <tr>\n",
       "      <th>17</th>\n",
       "      <td>Viognier</td>\n",
       "      <td>Seller</td>\n",
       "      <td>75</td>\n",
       "    </tr>\n",
       "  </tbody>\n",
       "</table>\n",
       "</div>"
      ],
      "text/plain": [
       "                grapes    side  volume\n",
       "0   Cabernet Sauvignon   Buyer     395\n",
       "1           Chardonnay   Buyer     185\n",
       "2             Granache   Buyer     545\n",
       "3             Marsanne   Buyer     435\n",
       "4               Merlot   Buyer     220\n",
       "5            Mourvedre   Buyer     255\n",
       "6             Nebbiolo   Buyer     390\n",
       "7         Petit Verdot   Buyer     310\n",
       "8          Pinot blanc   Buyer     355\n",
       "9           Pinot gris   Buyer     555\n",
       "10          Pinot noir   Buyer     330\n",
       "11            Riesling   Buyer     230\n",
       "12           Roussanne   Buyer     155\n",
       "13          Sangiovese   Buyer     420\n",
       "14     Sauvignon blanc   Buyer     450\n",
       "15            Semillon   Buyer     330\n",
       "16               Syrah   Buyer     525\n",
       "17            Viognier   Buyer     375\n",
       "0   Cabernet Sauvignon  Seller      35\n",
       "1           Chardonnay  Seller     235\n",
       "2             Granache  Seller      15\n",
       "3             Marsanne  Seller      45\n",
       "4               Merlot  Seller     170\n",
       "5            Mourvedre  Seller     210\n",
       "6             Nebbiolo  Seller      55\n",
       "7         Petit Verdot  Seller      85\n",
       "8          Pinot blanc  Seller      25\n",
       "9           Pinot gris  Seller      45\n",
       "10          Pinot noir  Seller      95\n",
       "11            Riesling  Seller      30\n",
       "12           Roussanne  Seller      80\n",
       "13          Sangiovese  Seller      45\n",
       "14     Sauvignon blanc  Seller     130\n",
       "15            Semillon  Seller      10\n",
       "16               Syrah  Seller     125\n",
       "17            Viognier  Seller      75"
      ]
     },
     "execution_count": 298,
     "metadata": {},
     "output_type": "execute_result"
    }
   ],
   "source": [
    "total"
   ]
  },
  {
   "cell_type": "code",
   "execution_count": 299,
   "id": "abf8c302",
   "metadata": {
    "pycharm": {
     "name": "#%%\n"
    }
   },
   "outputs": [],
   "source": [
    "import requests\n",
    "from altair import Chart"
   ]
  },
  {
   "cell_type": "code",
   "execution_count": 301,
   "id": "71bacc2d",
   "metadata": {
    "pycharm": {
     "name": "#%%\n"
    }
   },
   "outputs": [
    {
     "data": {
      "text/html": [
       "\n",
       "<div id=\"altair-viz-4bbe8f0197124fc88cfa5ccd8e8d815c\"></div>\n",
       "<script type=\"text/javascript\">\n",
       "  var VEGA_DEBUG = (typeof VEGA_DEBUG == \"undefined\") ? {} : VEGA_DEBUG;\n",
       "  (function(spec, embedOpt){\n",
       "    let outputDiv = document.currentScript.previousElementSibling;\n",
       "    if (outputDiv.id !== \"altair-viz-4bbe8f0197124fc88cfa5ccd8e8d815c\") {\n",
       "      outputDiv = document.getElementById(\"altair-viz-4bbe8f0197124fc88cfa5ccd8e8d815c\");\n",
       "    }\n",
       "    const paths = {\n",
       "      \"vega\": \"https://cdn.jsdelivr.net/npm//vega@5?noext\",\n",
       "      \"vega-lib\": \"https://cdn.jsdelivr.net/npm//vega-lib?noext\",\n",
       "      \"vega-lite\": \"https://cdn.jsdelivr.net/npm//vega-lite@4.17.0?noext\",\n",
       "      \"vega-embed\": \"https://cdn.jsdelivr.net/npm//vega-embed@6?noext\",\n",
       "    };\n",
       "\n",
       "    function maybeLoadScript(lib, version) {\n",
       "      var key = `${lib.replace(\"-\", \"\")}_version`;\n",
       "      return (VEGA_DEBUG[key] == version) ?\n",
       "        Promise.resolve(paths[lib]) :\n",
       "        new Promise(function(resolve, reject) {\n",
       "          var s = document.createElement('script');\n",
       "          document.getElementsByTagName(\"head\")[0].appendChild(s);\n",
       "          s.async = true;\n",
       "          s.onload = () => {\n",
       "            VEGA_DEBUG[key] = version;\n",
       "            return resolve(paths[lib]);\n",
       "          };\n",
       "          s.onerror = () => reject(`Error loading script: ${paths[lib]}`);\n",
       "          s.src = paths[lib];\n",
       "        });\n",
       "    }\n",
       "\n",
       "    function showError(err) {\n",
       "      outputDiv.innerHTML = `<div class=\"error\" style=\"color:red;\">${err}</div>`;\n",
       "      throw err;\n",
       "    }\n",
       "\n",
       "    function displayChart(vegaEmbed) {\n",
       "      vegaEmbed(outputDiv, spec, embedOpt)\n",
       "        .catch(err => showError(`Javascript Error: ${err.message}<br>This usually means there's a typo in your chart specification. See the javascript console for the full traceback.`));\n",
       "    }\n",
       "\n",
       "    if(typeof define === \"function\" && define.amd) {\n",
       "      requirejs.config({paths});\n",
       "      require([\"vega-embed\"], displayChart, err => showError(`Error loading script: ${err.message}`));\n",
       "    } else {\n",
       "      maybeLoadScript(\"vega\", \"5\")\n",
       "        .then(() => maybeLoadScript(\"vega-lite\", \"4.17.0\"))\n",
       "        .then(() => maybeLoadScript(\"vega-embed\", \"6\"))\n",
       "        .catch(showError)\n",
       "        .then(() => displayChart(vegaEmbed));\n",
       "    }\n",
       "  })({\"config\": {\"view\": {\"continuousWidth\": 400, \"continuousHeight\": 300}}, \"data\": {\"name\": \"data-df96a5e4ab0afafea4a6610aba733445\"}, \"mark\": \"bar\", \"datasets\": {\"data-df96a5e4ab0afafea4a6610aba733445\": [{\"grapes\": \"Cabernet Sauvignon\", \"side\": \"Buyer\", \"volume\": 370}, {\"grapes\": \"Chardonnay\", \"side\": \"Buyer\", \"volume\": 545}, {\"grapes\": \"Granache\", \"side\": \"Buyer\", \"volume\": 485}, {\"grapes\": \"Marsanne\", \"side\": \"Buyer\", \"volume\": 255}, {\"grapes\": \"Merlot\", \"side\": \"Buyer\", \"volume\": 245}, {\"grapes\": \"Mourvedre\", \"side\": \"Buyer\", \"volume\": 270}, {\"grapes\": \"Nebbiolo\", \"side\": \"Buyer\", \"volume\": 365}, {\"grapes\": \"Petit Verdot\", \"side\": \"Buyer\", \"volume\": 440}, {\"grapes\": \"Pinot blanc\", \"side\": \"Buyer\", \"volume\": 255}, {\"grapes\": \"Pinot gris\", \"side\": \"Buyer\", \"volume\": 380}, {\"grapes\": \"Pinot noir\", \"side\": \"Buyer\", \"volume\": 550}, {\"grapes\": \"Riesling\", \"side\": \"Buyer\", \"volume\": 175}, {\"grapes\": \"Roussanne\", \"side\": \"Buyer\", \"volume\": 335}, {\"grapes\": \"Sangiovese\", \"side\": \"Buyer\", \"volume\": 385}, {\"grapes\": \"Sauvignon blanc\", \"side\": \"Buyer\", \"volume\": 460}, {\"grapes\": \"Semillon\", \"side\": \"Buyer\", \"volume\": 240}, {\"grapes\": \"Syrah\", \"side\": \"Buyer\", \"volume\": 300}, {\"grapes\": \"Viognier\", \"side\": \"Buyer\", \"volume\": 290}, {\"grapes\": \"Cabernet Sauvignon\", \"side\": \"Seller\", \"volume\": 50}, {\"grapes\": \"Chardonnay\", \"side\": \"Seller\", \"volume\": 55}, {\"grapes\": \"Granache\", \"side\": \"Seller\", \"volume\": 30}, {\"grapes\": \"Marsanne\", \"side\": \"Seller\", \"volume\": 25}, {\"grapes\": \"Merlot\", \"side\": \"Seller\", \"volume\": 25}, {\"grapes\": \"Mourvedre\", \"side\": \"Seller\", \"volume\": 100}, {\"grapes\": \"Nebbiolo\", \"side\": \"Seller\", \"volume\": 70}, {\"grapes\": \"Petit Verdot\", \"side\": \"Seller\", \"volume\": 45}, {\"grapes\": \"Pinot blanc\", \"side\": \"Seller\", \"volume\": 150}, {\"grapes\": \"Pinot gris\", \"side\": \"Seller\", \"volume\": 165}, {\"grapes\": \"Pinot noir\", \"side\": \"Seller\", \"volume\": 140}, {\"grapes\": \"Riesling\", \"side\": \"Seller\", \"volume\": 100}, {\"grapes\": \"Roussanne\", \"side\": \"Seller\", \"volume\": 95}, {\"grapes\": \"Sangiovese\", \"side\": \"Seller\", \"volume\": 145}, {\"grapes\": \"Sauvignon blanc\", \"side\": \"Seller\", \"volume\": 65}, {\"grapes\": \"Semillon\", \"side\": \"Seller\", \"volume\": 100}, {\"grapes\": \"Syrah\", \"side\": \"Seller\", \"volume\": 120}, {\"grapes\": \"Viognier\", \"side\": \"Seller\", \"volume\": 80}]}, \"encoding\": {\"color\": {\"field\": \"side\", \"type\": \"nominal\"}, \"column\": {\"field\": \"grapes\", \"type\": \"nominal\"}, \"x\": {\"field\": \"side\", \"type\": \"nominal\"}, \"y\": {\"field\": \"volume\", \"type\": \"quantitative\"}}, \"$schema\": \"https://vega.github.io/schema/vega-lite/v4.17.0.json\"}, {\"mode\": \"vega-lite\"});\n",
       "</script>"
      ],
      "text/plain": [
       "alt.Chart(...)"
      ]
     },
     "execution_count": 301,
     "metadata": {},
     "output_type": "execute_result"
    }
   ],
   "source": [
    "chart = requests.get('http://127.0.0.1:8000/graph/df-grapes-by-side').json()\n",
    "Chart.from_dict(chart)"
   ]
  }
 ],
 "metadata": {
  "kernelspec": {
   "display_name": "Python 3 (ipykernel)",
   "language": "python",
   "name": "python3"
  },
  "language_info": {
   "codemirror_mode": {
    "name": "ipython",
    "version": 3
   },
   "file_extension": ".py",
   "mimetype": "text/x-python",
   "name": "python",
   "nbconvert_exporter": "python",
   "pygments_lexer": "ipython3",
   "version": "3.9.7"
  }
 },
 "nbformat": 4,
 "nbformat_minor": 5
}