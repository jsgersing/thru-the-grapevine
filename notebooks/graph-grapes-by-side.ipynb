{
 "cells": [
  {
   "cell_type": "code",
   "execution_count": 9,
   "id": "fa83f9da",
   "metadata": {
    "pycharm": {
     "name": "#%%\n"
    }
   },
   "outputs": [],
   "source": [
    "from os import getenv\n",
    "from pymongo import MongoClient\n",
    "from pandas import DataFrame, Series, concat\n",
    "from dotenv import load_dotenv"
   ]
  },
  {
   "cell_type": "code",
   "execution_count": 35,
   "id": "7ce885c0",
   "metadata": {
    "pycharm": {
     "name": "#%%\n"
    }
   },
   "outputs": [],
   "source": [
    "filepath = '/Users/jasongersing/PycharmProjects/fastApiProject/.env'\n",
    "load_dotenv(filepath)\n",
    "url = getenv('MONGO_URL')\n",
    "database = \"thruTheGrapevine\"\n",
    "collection_GB = \"GrapeBuyers\"\n",
    "collection_GS = \"GrapeSellers\""
   ]
  },
  {
   "cell_type": "code",
   "execution_count": 36,
   "id": "de1e818a",
   "metadata": {
    "pycharm": {
     "name": "#%%\n"
    }
   },
   "outputs": [
    {
     "data": {
      "text/plain": "100"
     },
     "execution_count": 36,
     "metadata": {},
     "output_type": "execute_result"
    }
   ],
   "source": [
    "db_GB = MongoClient(url)[database][collection_GB]\n",
    "db_GB.count_documents({})"
   ]
  },
  {
   "cell_type": "code",
   "execution_count": 37,
   "id": "a1b67188",
   "metadata": {
    "pycharm": {
     "name": "#%%\n"
    }
   },
   "outputs": [
    {
     "data": {
      "text/plain": "20"
     },
     "execution_count": 37,
     "metadata": {},
     "output_type": "execute_result"
    }
   ],
   "source": [
    "db_GS = MongoClient(url)[database][collection_GS]\n",
    "db_GS.count_documents({})"
   ]
  },
  {
   "cell_type": "code",
   "execution_count": 39,
   "id": "86e73c25",
   "metadata": {
    "pycharm": {
     "name": "#%%\n"
    }
   },
   "outputs": [
    {
     "data": {
      "text/plain": "                grapes   side  volume\n0   Cabernet Sauvignon  Buyer     405\n1           Chardonnay  Buyer     195\n2             Granache  Buyer     435\n3             Marsanne  Buyer     495\n4               Merlot  Buyer     370\n5            Mourvedre  Buyer     445\n6             Nebbiolo  Buyer     255\n7         Petit Verdot  Buyer     385\n8          Pinot blanc  Buyer     200\n9           Pinot gris  Buyer     320\n10          Pinot noir  Buyer     430\n11            Riesling  Buyer     250\n12           Roussanne  Buyer     555\n13          Sangiovese  Buyer     335\n14     Sauvignon blanc  Buyer     190\n15            Semillon  Buyer     490\n16               Syrah  Buyer     375\n17            Viognier  Buyer     375",
      "text/html": "<div>\n<style scoped>\n    .dataframe tbody tr th:only-of-type {\n        vertical-align: middle;\n    }\n\n    .dataframe tbody tr th {\n        vertical-align: top;\n    }\n\n    .dataframe thead th {\n        text-align: right;\n    }\n</style>\n<table border=\"1\" class=\"dataframe\">\n  <thead>\n    <tr style=\"text-align: right;\">\n      <th></th>\n      <th>grapes</th>\n      <th>side</th>\n      <th>volume</th>\n    </tr>\n  </thead>\n  <tbody>\n    <tr>\n      <th>0</th>\n      <td>Cabernet Sauvignon</td>\n      <td>Buyer</td>\n      <td>405</td>\n    </tr>\n    <tr>\n      <th>1</th>\n      <td>Chardonnay</td>\n      <td>Buyer</td>\n      <td>195</td>\n    </tr>\n    <tr>\n      <th>2</th>\n      <td>Granache</td>\n      <td>Buyer</td>\n      <td>435</td>\n    </tr>\n    <tr>\n      <th>3</th>\n      <td>Marsanne</td>\n      <td>Buyer</td>\n      <td>495</td>\n    </tr>\n    <tr>\n      <th>4</th>\n      <td>Merlot</td>\n      <td>Buyer</td>\n      <td>370</td>\n    </tr>\n    <tr>\n      <th>5</th>\n      <td>Mourvedre</td>\n      <td>Buyer</td>\n      <td>445</td>\n    </tr>\n    <tr>\n      <th>6</th>\n      <td>Nebbiolo</td>\n      <td>Buyer</td>\n      <td>255</td>\n    </tr>\n    <tr>\n      <th>7</th>\n      <td>Petit Verdot</td>\n      <td>Buyer</td>\n      <td>385</td>\n    </tr>\n    <tr>\n      <th>8</th>\n      <td>Pinot blanc</td>\n      <td>Buyer</td>\n      <td>200</td>\n    </tr>\n    <tr>\n      <th>9</th>\n      <td>Pinot gris</td>\n      <td>Buyer</td>\n      <td>320</td>\n    </tr>\n    <tr>\n      <th>10</th>\n      <td>Pinot noir</td>\n      <td>Buyer</td>\n      <td>430</td>\n    </tr>\n    <tr>\n      <th>11</th>\n      <td>Riesling</td>\n      <td>Buyer</td>\n      <td>250</td>\n    </tr>\n    <tr>\n      <th>12</th>\n      <td>Roussanne</td>\n      <td>Buyer</td>\n      <td>555</td>\n    </tr>\n    <tr>\n      <th>13</th>\n      <td>Sangiovese</td>\n      <td>Buyer</td>\n      <td>335</td>\n    </tr>\n    <tr>\n      <th>14</th>\n      <td>Sauvignon blanc</td>\n      <td>Buyer</td>\n      <td>190</td>\n    </tr>\n    <tr>\n      <th>15</th>\n      <td>Semillon</td>\n      <td>Buyer</td>\n      <td>490</td>\n    </tr>\n    <tr>\n      <th>16</th>\n      <td>Syrah</td>\n      <td>Buyer</td>\n      <td>375</td>\n    </tr>\n    <tr>\n      <th>17</th>\n      <td>Viognier</td>\n      <td>Buyer</td>\n      <td>375</td>\n    </tr>\n  </tbody>\n</table>\n</div>"
     },
     "execution_count": 39,
     "metadata": {},
     "output_type": "execute_result"
    }
   ],
   "source": [
    "grape_buyers = DataFrame(db_GB.find(projection={\"_id\": False, \"grapes_seeking\": True, \"volume_seeking\": True}))\n",
    "grape_buyers = grape_buyers.explode(column=[\"grapes_seeking\", \"volume_seeking\"])\n",
    "grape_buyers.rename(columns={\"grapes_seeking\": \"grapes\", \"volume_seeking\": \"volume\"}, inplace=True)\n",
    "grape_buyers[\"side\"] = \"Buyer\"\n",
    "grape_buyers[\"volume\"] = Series([int(num) for num in grape_buyers[\"volume\"]])\n",
    "grape_buyers = grape_buyers.groupby([\"grapes\", \"side\"]).agg({\"volume\": \"sum\"}).reset_index()\n",
    "grape_buyers"
   ]
  },
  {
   "cell_type": "code",
   "execution_count": 40,
   "id": "87ea2614",
   "metadata": {
    "pycharm": {
     "name": "#%%\n"
    }
   },
   "outputs": [
    {
     "data": {
      "text/plain": "                grapes    side  volume\n0   Cabernet Sauvignon  Seller      50\n1           Chardonnay  Seller      50\n2             Granache  Seller      90\n3               Merlot  Seller     100\n4            Mourvedre  Seller     145\n5             Nebbiolo  Seller     135\n6         Petit Verdot  Seller      30\n7          Pinot blanc  Seller     145\n8           Pinot gris  Seller     125\n9           Pinot noir  Seller     160\n10            Riesling  Seller      50\n11           Roussanne  Seller      45\n12          Sangiovese  Seller      75\n13     Sauvignon blanc  Seller      75\n14            Semillon  Seller      25\n15               Syrah  Seller     115\n16            Viognier  Seller      65",
      "text/html": "<div>\n<style scoped>\n    .dataframe tbody tr th:only-of-type {\n        vertical-align: middle;\n    }\n\n    .dataframe tbody tr th {\n        vertical-align: top;\n    }\n\n    .dataframe thead th {\n        text-align: right;\n    }\n</style>\n<table border=\"1\" class=\"dataframe\">\n  <thead>\n    <tr style=\"text-align: right;\">\n      <th></th>\n      <th>grapes</th>\n      <th>side</th>\n      <th>volume</th>\n    </tr>\n  </thead>\n  <tbody>\n    <tr>\n      <th>0</th>\n      <td>Cabernet Sauvignon</td>\n      <td>Seller</td>\n      <td>50</td>\n    </tr>\n    <tr>\n      <th>1</th>\n      <td>Chardonnay</td>\n      <td>Seller</td>\n      <td>50</td>\n    </tr>\n    <tr>\n      <th>2</th>\n      <td>Granache</td>\n      <td>Seller</td>\n      <td>90</td>\n    </tr>\n    <tr>\n      <th>3</th>\n      <td>Merlot</td>\n      <td>Seller</td>\n      <td>100</td>\n    </tr>\n    <tr>\n      <th>4</th>\n      <td>Mourvedre</td>\n      <td>Seller</td>\n      <td>145</td>\n    </tr>\n    <tr>\n      <th>5</th>\n      <td>Nebbiolo</td>\n      <td>Seller</td>\n      <td>135</td>\n    </tr>\n    <tr>\n      <th>6</th>\n      <td>Petit Verdot</td>\n      <td>Seller</td>\n      <td>30</td>\n    </tr>\n    <tr>\n      <th>7</th>\n      <td>Pinot blanc</td>\n      <td>Seller</td>\n      <td>145</td>\n    </tr>\n    <tr>\n      <th>8</th>\n      <td>Pinot gris</td>\n      <td>Seller</td>\n      <td>125</td>\n    </tr>\n    <tr>\n      <th>9</th>\n      <td>Pinot noir</td>\n      <td>Seller</td>\n      <td>160</td>\n    </tr>\n    <tr>\n      <th>10</th>\n      <td>Riesling</td>\n      <td>Seller</td>\n      <td>50</td>\n    </tr>\n    <tr>\n      <th>11</th>\n      <td>Roussanne</td>\n      <td>Seller</td>\n      <td>45</td>\n    </tr>\n    <tr>\n      <th>12</th>\n      <td>Sangiovese</td>\n      <td>Seller</td>\n      <td>75</td>\n    </tr>\n    <tr>\n      <th>13</th>\n      <td>Sauvignon blanc</td>\n      <td>Seller</td>\n      <td>75</td>\n    </tr>\n    <tr>\n      <th>14</th>\n      <td>Semillon</td>\n      <td>Seller</td>\n      <td>25</td>\n    </tr>\n    <tr>\n      <th>15</th>\n      <td>Syrah</td>\n      <td>Seller</td>\n      <td>115</td>\n    </tr>\n    <tr>\n      <th>16</th>\n      <td>Viognier</td>\n      <td>Seller</td>\n      <td>65</td>\n    </tr>\n  </tbody>\n</table>\n</div>"
     },
     "execution_count": 40,
     "metadata": {},
     "output_type": "execute_result"
    }
   ],
   "source": [
    "grape_sellers = DataFrame(db_GS.find(projection={\"_id\": False, \"grapes_selling\": True, \"volume_selling\": True}))\n",
    "grape_sellers = grape_sellers.explode(column=[\"grapes_selling\", \"volume_selling\"])\n",
    "grape_sellers.rename(columns={\"grapes_selling\": \"grapes\", \"volume_selling\": \"volume\"}, inplace=True)\n",
    "grape_sellers[\"side\"] = \"Seller\"\n",
    "grape_sellers[\"volume\"] = Series([int(num) for num in grape_sellers[\"volume\"]])\n",
    "grape_sellers = grape_sellers.groupby([\"grapes\", \"side\"]).agg({\"volume\": \"sum\"}).reset_index()\n",
    "grape_sellers"
   ]
  },
  {
   "cell_type": "code",
   "execution_count": 41,
   "id": "9fd40433",
   "metadata": {
    "pycharm": {
     "name": "#%%\n"
    }
   },
   "outputs": [
    {
     "data": {
      "text/plain": "                grapes    side  volume\n0   Cabernet Sauvignon   Buyer     405\n1           Chardonnay   Buyer     195\n2             Granache   Buyer     435\n3             Marsanne   Buyer     495\n4               Merlot   Buyer     370\n5            Mourvedre   Buyer     445\n6             Nebbiolo   Buyer     255\n7         Petit Verdot   Buyer     385\n8          Pinot blanc   Buyer     200\n9           Pinot gris   Buyer     320\n10          Pinot noir   Buyer     430\n11            Riesling   Buyer     250\n12           Roussanne   Buyer     555\n13          Sangiovese   Buyer     335\n14     Sauvignon blanc   Buyer     190\n15            Semillon   Buyer     490\n16               Syrah   Buyer     375\n17            Viognier   Buyer     375\n0   Cabernet Sauvignon  Seller      50\n1           Chardonnay  Seller      50\n2             Granache  Seller      90\n3               Merlot  Seller     100\n4            Mourvedre  Seller     145\n5             Nebbiolo  Seller     135\n6         Petit Verdot  Seller      30\n7          Pinot blanc  Seller     145\n8           Pinot gris  Seller     125\n9           Pinot noir  Seller     160\n10            Riesling  Seller      50\n11           Roussanne  Seller      45\n12          Sangiovese  Seller      75\n13     Sauvignon blanc  Seller      75\n14            Semillon  Seller      25\n15               Syrah  Seller     115\n16            Viognier  Seller      65",
      "text/html": "<div>\n<style scoped>\n    .dataframe tbody tr th:only-of-type {\n        vertical-align: middle;\n    }\n\n    .dataframe tbody tr th {\n        vertical-align: top;\n    }\n\n    .dataframe thead th {\n        text-align: right;\n    }\n</style>\n<table border=\"1\" class=\"dataframe\">\n  <thead>\n    <tr style=\"text-align: right;\">\n      <th></th>\n      <th>grapes</th>\n      <th>side</th>\n      <th>volume</th>\n    </tr>\n  </thead>\n  <tbody>\n    <tr>\n      <th>0</th>\n      <td>Cabernet Sauvignon</td>\n      <td>Buyer</td>\n      <td>405</td>\n    </tr>\n    <tr>\n      <th>1</th>\n      <td>Chardonnay</td>\n      <td>Buyer</td>\n      <td>195</td>\n    </tr>\n    <tr>\n      <th>2</th>\n      <td>Granache</td>\n      <td>Buyer</td>\n      <td>435</td>\n    </tr>\n    <tr>\n      <th>3</th>\n      <td>Marsanne</td>\n      <td>Buyer</td>\n      <td>495</td>\n    </tr>\n    <tr>\n      <th>4</th>\n      <td>Merlot</td>\n      <td>Buyer</td>\n      <td>370</td>\n    </tr>\n    <tr>\n      <th>5</th>\n      <td>Mourvedre</td>\n      <td>Buyer</td>\n      <td>445</td>\n    </tr>\n    <tr>\n      <th>6</th>\n      <td>Nebbiolo</td>\n      <td>Buyer</td>\n      <td>255</td>\n    </tr>\n    <tr>\n      <th>7</th>\n      <td>Petit Verdot</td>\n      <td>Buyer</td>\n      <td>385</td>\n    </tr>\n    <tr>\n      <th>8</th>\n      <td>Pinot blanc</td>\n      <td>Buyer</td>\n      <td>200</td>\n    </tr>\n    <tr>\n      <th>9</th>\n      <td>Pinot gris</td>\n      <td>Buyer</td>\n      <td>320</td>\n    </tr>\n    <tr>\n      <th>10</th>\n      <td>Pinot noir</td>\n      <td>Buyer</td>\n      <td>430</td>\n    </tr>\n    <tr>\n      <th>11</th>\n      <td>Riesling</td>\n      <td>Buyer</td>\n      <td>250</td>\n    </tr>\n    <tr>\n      <th>12</th>\n      <td>Roussanne</td>\n      <td>Buyer</td>\n      <td>555</td>\n    </tr>\n    <tr>\n      <th>13</th>\n      <td>Sangiovese</td>\n      <td>Buyer</td>\n      <td>335</td>\n    </tr>\n    <tr>\n      <th>14</th>\n      <td>Sauvignon blanc</td>\n      <td>Buyer</td>\n      <td>190</td>\n    </tr>\n    <tr>\n      <th>15</th>\n      <td>Semillon</td>\n      <td>Buyer</td>\n      <td>490</td>\n    </tr>\n    <tr>\n      <th>16</th>\n      <td>Syrah</td>\n      <td>Buyer</td>\n      <td>375</td>\n    </tr>\n    <tr>\n      <th>17</th>\n      <td>Viognier</td>\n      <td>Buyer</td>\n      <td>375</td>\n    </tr>\n    <tr>\n      <th>0</th>\n      <td>Cabernet Sauvignon</td>\n      <td>Seller</td>\n      <td>50</td>\n    </tr>\n    <tr>\n      <th>1</th>\n      <td>Chardonnay</td>\n      <td>Seller</td>\n      <td>50</td>\n    </tr>\n    <tr>\n      <th>2</th>\n      <td>Granache</td>\n      <td>Seller</td>\n      <td>90</td>\n    </tr>\n    <tr>\n      <th>3</th>\n      <td>Merlot</td>\n      <td>Seller</td>\n      <td>100</td>\n    </tr>\n    <tr>\n      <th>4</th>\n      <td>Mourvedre</td>\n      <td>Seller</td>\n      <td>145</td>\n    </tr>\n    <tr>\n      <th>5</th>\n      <td>Nebbiolo</td>\n      <td>Seller</td>\n      <td>135</td>\n    </tr>\n    <tr>\n      <th>6</th>\n      <td>Petit Verdot</td>\n      <td>Seller</td>\n      <td>30</td>\n    </tr>\n    <tr>\n      <th>7</th>\n      <td>Pinot blanc</td>\n      <td>Seller</td>\n      <td>145</td>\n    </tr>\n    <tr>\n      <th>8</th>\n      <td>Pinot gris</td>\n      <td>Seller</td>\n      <td>125</td>\n    </tr>\n    <tr>\n      <th>9</th>\n      <td>Pinot noir</td>\n      <td>Seller</td>\n      <td>160</td>\n    </tr>\n    <tr>\n      <th>10</th>\n      <td>Riesling</td>\n      <td>Seller</td>\n      <td>50</td>\n    </tr>\n    <tr>\n      <th>11</th>\n      <td>Roussanne</td>\n      <td>Seller</td>\n      <td>45</td>\n    </tr>\n    <tr>\n      <th>12</th>\n      <td>Sangiovese</td>\n      <td>Seller</td>\n      <td>75</td>\n    </tr>\n    <tr>\n      <th>13</th>\n      <td>Sauvignon blanc</td>\n      <td>Seller</td>\n      <td>75</td>\n    </tr>\n    <tr>\n      <th>14</th>\n      <td>Semillon</td>\n      <td>Seller</td>\n      <td>25</td>\n    </tr>\n    <tr>\n      <th>15</th>\n      <td>Syrah</td>\n      <td>Seller</td>\n      <td>115</td>\n    </tr>\n    <tr>\n      <th>16</th>\n      <td>Viognier</td>\n      <td>Seller</td>\n      <td>65</td>\n    </tr>\n  </tbody>\n</table>\n</div>"
     },
     "execution_count": 41,
     "metadata": {},
     "output_type": "execute_result"
    }
   ],
   "source": [
    "total = concat([grape_buyers, grape_sellers])\n",
    "total"
   ]
  },
  {
   "cell_type": "code",
   "execution_count": 299,
   "id": "abf8c302",
   "metadata": {
    "pycharm": {
     "name": "#%%\n"
    }
   },
   "outputs": [],
   "source": [
    "import requests\n",
    "from altair import Chart"
   ]
  },
  {
   "cell_type": "code",
   "execution_count": 301,
   "id": "71bacc2d",
   "metadata": {
    "pycharm": {
     "name": "#%%\n"
    }
   },
   "outputs": [
    {
     "data": {
      "text/html": [
       "\n",
       "<div id=\"altair-viz-4bbe8f0197124fc88cfa5ccd8e8d815c\"></div>\n",
       "<script type=\"text/javascript\">\n",
       "  var VEGA_DEBUG = (typeof VEGA_DEBUG == \"undefined\") ? {} : VEGA_DEBUG;\n",
       "  (function(spec, embedOpt){\n",
       "    let outputDiv = document.currentScript.previousElementSibling;\n",
       "    if (outputDiv.id !== \"altair-viz-4bbe8f0197124fc88cfa5ccd8e8d815c\") {\n",
       "      outputDiv = document.getElementById(\"altair-viz-4bbe8f0197124fc88cfa5ccd8e8d815c\");\n",
       "    }\n",
       "    const paths = {\n",
       "      \"vega\": \"https://cdn.jsdelivr.net/npm//vega@5?noext\",\n",
       "      \"vega-lib\": \"https://cdn.jsdelivr.net/npm//vega-lib?noext\",\n",
       "      \"vega-lite\": \"https://cdn.jsdelivr.net/npm//vega-lite@4.17.0?noext\",\n",
       "      \"vega-embed\": \"https://cdn.jsdelivr.net/npm//vega-embed@6?noext\",\n",
       "    };\n",
       "\n",
       "    function maybeLoadScript(lib, version) {\n",
       "      var key = `${lib.replace(\"-\", \"\")}_version`;\n",
       "      return (VEGA_DEBUG[key] == version) ?\n",
       "        Promise.resolve(paths[lib]) :\n",
       "        new Promise(function(resolve, reject) {\n",
       "          var s = document.createElement('script');\n",
       "          document.getElementsByTagName(\"head\")[0].appendChild(s);\n",
       "          s.async = true;\n",
       "          s.onload = () => {\n",
       "            VEGA_DEBUG[key] = version;\n",
       "            return resolve(paths[lib]);\n",
       "          };\n",
       "          s.onerror = () => reject(`Error loading script: ${paths[lib]}`);\n",
       "          s.src = paths[lib];\n",
       "        });\n",
       "    }\n",
       "\n",
       "    function showError(err) {\n",
       "      outputDiv.innerHTML = `<div class=\"error\" style=\"color:red;\">${err}</div>`;\n",
       "      throw err;\n",
       "    }\n",
       "\n",
       "    function displayChart(vegaEmbed) {\n",
       "      vegaEmbed(outputDiv, spec, embedOpt)\n",
       "        .catch(err => showError(`Javascript Error: ${err.message}<br>This usually means there's a typo in your chart specification. See the javascript console for the full traceback.`));\n",
       "    }\n",
       "\n",
       "    if(typeof define === \"function\" && define.amd) {\n",
       "      requirejs.config({paths});\n",
       "      require([\"vega-embed\"], displayChart, err => showError(`Error loading script: ${err.message}`));\n",
       "    } else {\n",
       "      maybeLoadScript(\"vega\", \"5\")\n",
       "        .then(() => maybeLoadScript(\"vega-lite\", \"4.17.0\"))\n",
       "        .then(() => maybeLoadScript(\"vega-embed\", \"6\"))\n",
       "        .catch(showError)\n",
       "        .then(() => displayChart(vegaEmbed));\n",
       "    }\n",
       "  })({\"config\": {\"view\": {\"continuousWidth\": 400, \"continuousHeight\": 300}}, \"data\": {\"name\": \"data-df96a5e4ab0afafea4a6610aba733445\"}, \"mark\": \"bar\", \"datasets\": {\"data-df96a5e4ab0afafea4a6610aba733445\": [{\"grapes\": \"Cabernet Sauvignon\", \"side\": \"Buyer\", \"volume\": 370}, {\"grapes\": \"Chardonnay\", \"side\": \"Buyer\", \"volume\": 545}, {\"grapes\": \"Granache\", \"side\": \"Buyer\", \"volume\": 485}, {\"grapes\": \"Marsanne\", \"side\": \"Buyer\", \"volume\": 255}, {\"grapes\": \"Merlot\", \"side\": \"Buyer\", \"volume\": 245}, {\"grapes\": \"Mourvedre\", \"side\": \"Buyer\", \"volume\": 270}, {\"grapes\": \"Nebbiolo\", \"side\": \"Buyer\", \"volume\": 365}, {\"grapes\": \"Petit Verdot\", \"side\": \"Buyer\", \"volume\": 440}, {\"grapes\": \"Pinot blanc\", \"side\": \"Buyer\", \"volume\": 255}, {\"grapes\": \"Pinot gris\", \"side\": \"Buyer\", \"volume\": 380}, {\"grapes\": \"Pinot noir\", \"side\": \"Buyer\", \"volume\": 550}, {\"grapes\": \"Riesling\", \"side\": \"Buyer\", \"volume\": 175}, {\"grapes\": \"Roussanne\", \"side\": \"Buyer\", \"volume\": 335}, {\"grapes\": \"Sangiovese\", \"side\": \"Buyer\", \"volume\": 385}, {\"grapes\": \"Sauvignon blanc\", \"side\": \"Buyer\", \"volume\": 460}, {\"grapes\": \"Semillon\", \"side\": \"Buyer\", \"volume\": 240}, {\"grapes\": \"Syrah\", \"side\": \"Buyer\", \"volume\": 300}, {\"grapes\": \"Viognier\", \"side\": \"Buyer\", \"volume\": 290}, {\"grapes\": \"Cabernet Sauvignon\", \"side\": \"Seller\", \"volume\": 50}, {\"grapes\": \"Chardonnay\", \"side\": \"Seller\", \"volume\": 55}, {\"grapes\": \"Granache\", \"side\": \"Seller\", \"volume\": 30}, {\"grapes\": \"Marsanne\", \"side\": \"Seller\", \"volume\": 25}, {\"grapes\": \"Merlot\", \"side\": \"Seller\", \"volume\": 25}, {\"grapes\": \"Mourvedre\", \"side\": \"Seller\", \"volume\": 100}, {\"grapes\": \"Nebbiolo\", \"side\": \"Seller\", \"volume\": 70}, {\"grapes\": \"Petit Verdot\", \"side\": \"Seller\", \"volume\": 45}, {\"grapes\": \"Pinot blanc\", \"side\": \"Seller\", \"volume\": 150}, {\"grapes\": \"Pinot gris\", \"side\": \"Seller\", \"volume\": 165}, {\"grapes\": \"Pinot noir\", \"side\": \"Seller\", \"volume\": 140}, {\"grapes\": \"Riesling\", \"side\": \"Seller\", \"volume\": 100}, {\"grapes\": \"Roussanne\", \"side\": \"Seller\", \"volume\": 95}, {\"grapes\": \"Sangiovese\", \"side\": \"Seller\", \"volume\": 145}, {\"grapes\": \"Sauvignon blanc\", \"side\": \"Seller\", \"volume\": 65}, {\"grapes\": \"Semillon\", \"side\": \"Seller\", \"volume\": 100}, {\"grapes\": \"Syrah\", \"side\": \"Seller\", \"volume\": 120}, {\"grapes\": \"Viognier\", \"side\": \"Seller\", \"volume\": 80}]}, \"encoding\": {\"color\": {\"field\": \"side\", \"type\": \"nominal\"}, \"column\": {\"field\": \"grapes\", \"type\": \"nominal\"}, \"x\": {\"field\": \"side\", \"type\": \"nominal\"}, \"y\": {\"field\": \"volume\", \"type\": \"quantitative\"}}, \"$schema\": \"https://vega.github.io/schema/vega-lite/v4.17.0.json\"}, {\"mode\": \"vega-lite\"});\n",
       "</script>"
      ],
      "text/plain": [
       "alt.Chart(...)"
      ]
     },
     "execution_count": 301,
     "metadata": {},
     "output_type": "execute_result"
    }
   ],
   "source": [
    "chart = requests.get('http://127.0.0.1:8000/graph/df-grapes-by-side').json()\n",
    "Chart.from_dict(chart)"
   ]
  }
 ],
 "metadata": {
  "kernelspec": {
   "display_name": "Python 3 (ipykernel)",
   "language": "python",
   "name": "python3"
  },
  "language_info": {
   "codemirror_mode": {
    "name": "ipython",
    "version": 3
   },
   "file_extension": ".py",
   "mimetype": "text/x-python",
   "name": "python",
   "nbconvert_exporter": "python",
   "pygments_lexer": "ipython3",
   "version": "3.9.7"
  }
 },
 "nbformat": 4,
 "nbformat_minor": 5
}