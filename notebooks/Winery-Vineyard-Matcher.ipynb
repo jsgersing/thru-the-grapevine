{
 "cells": [
  {
   "cell_type": "code",
   "execution_count": 1,
   "id": "d29dd69c",
   "metadata": {
    "pycharm": {
     "name": "#%%\n"
    }
   },
   "outputs": [],
   "source": [
    "from os import getenv\n",
    "from pymongo import MongoClient\n",
    "from pandas import DataFrame, Series, merge\n",
    "from dotenv import load_dotenv"
   ]
  },
  {
   "cell_type": "code",
   "execution_count": 2,
   "id": "b66c922c",
   "metadata": {},
   "outputs": [],
   "source": [
    "filepath = '/Users/jasongersing/PycharmProjects/fastApiProject/.env'\n",
    "load_dotenv(filepath)\n",
    "url = getenv('MONGO_URL')\n",
    "database = \"thruTheGrapevine\"\n",
    "collection_GB = \"GrapeBuyers\"\n",
    "collection_GS = \"GrapeSellers\""
   ]
  },
  {
   "cell_type": "code",
   "execution_count": 3,
   "id": "ae4f4aed",
   "metadata": {},
   "outputs": [
    {
     "data": {
      "text/plain": "         profile_id          variety  tons   side\n0  K1hwd7N64N668a4H        Mourvedre    25  Buyer\n0  K1hwd7N64N668a4H      Pinot blanc    25  Buyer\n0  K1hwd7N64N668a4H       Pinot noir    25  Buyer\n0  K1hwd7N64N668a4H            Syrah    25  Buyer\n1  tQ3M3s60NM7808Bv  Sauvignon blanc    25  Buyer",
      "text/html": "<div>\n<style scoped>\n    .dataframe tbody tr th:only-of-type {\n        vertical-align: middle;\n    }\n\n    .dataframe tbody tr th {\n        vertical-align: top;\n    }\n\n    .dataframe thead th {\n        text-align: right;\n    }\n</style>\n<table border=\"1\" class=\"dataframe\">\n  <thead>\n    <tr style=\"text-align: right;\">\n      <th></th>\n      <th>profile_id</th>\n      <th>variety</th>\n      <th>tons</th>\n      <th>side</th>\n    </tr>\n  </thead>\n  <tbody>\n    <tr>\n      <th>0</th>\n      <td>K1hwd7N64N668a4H</td>\n      <td>Mourvedre</td>\n      <td>25</td>\n      <td>Buyer</td>\n    </tr>\n    <tr>\n      <th>0</th>\n      <td>K1hwd7N64N668a4H</td>\n      <td>Pinot blanc</td>\n      <td>25</td>\n      <td>Buyer</td>\n    </tr>\n    <tr>\n      <th>0</th>\n      <td>K1hwd7N64N668a4H</td>\n      <td>Pinot noir</td>\n      <td>25</td>\n      <td>Buyer</td>\n    </tr>\n    <tr>\n      <th>0</th>\n      <td>K1hwd7N64N668a4H</td>\n      <td>Syrah</td>\n      <td>25</td>\n      <td>Buyer</td>\n    </tr>\n    <tr>\n      <th>1</th>\n      <td>tQ3M3s60NM7808Bv</td>\n      <td>Sauvignon blanc</td>\n      <td>25</td>\n      <td>Buyer</td>\n    </tr>\n  </tbody>\n</table>\n</div>"
     },
     "execution_count": 3,
     "metadata": {},
     "output_type": "execute_result"
    }
   ],
   "source": [
    "db_GB = MongoClient(url)[database][collection_GB]\n",
    "grape_buyers = DataFrame(\n",
    "    db_GB.find(projection={\n",
    "        \"_id\": False, \n",
    "        \"profile_id\": True, \n",
    "        \"grapes_seeking\": True, \n",
    "        \"volume_seeking\": True, \n",
    "    })\n",
    ")\n",
    "grape_buyers = grape_buyers.explode(column=[\"grapes_seeking\", \"volume_seeking\"])\n",
    "grape_buyers.rename(columns={\"grapes_seeking\": \"variety\", \"volume_seeking\": \"tons\"}, inplace=True)\n",
    "grape_buyers[\"side\"] = \"Buyer\"\n",
    "grape_buyers[\"tons\"] = Series([int(num) for num in grape_buyers[\"tons\"]])\n",
    "grape_buyers.head()"
   ]
  },
  {
   "cell_type": "code",
   "execution_count": 4,
   "id": "a3bb2c27",
   "metadata": {},
   "outputs": [
    {
     "data": {
      "text/plain": "         profile_id     variety  tons    side\n0  7xcKb18t353Z7p5Y    Granache     5  Seller\n0  7xcKb18t353Z7p5Y    Riesling     5  Seller\n0  7xcKb18t353Z7p5Y  Pinot gris     5  Seller\n0  7xcKb18t353Z7p5Y  Sangiovese     5  Seller\n1  1726Z0qu1t6Zs7oT  Pinot gris    20  Seller",
      "text/html": "<div>\n<style scoped>\n    .dataframe tbody tr th:only-of-type {\n        vertical-align: middle;\n    }\n\n    .dataframe tbody tr th {\n        vertical-align: top;\n    }\n\n    .dataframe thead th {\n        text-align: right;\n    }\n</style>\n<table border=\"1\" class=\"dataframe\">\n  <thead>\n    <tr style=\"text-align: right;\">\n      <th></th>\n      <th>profile_id</th>\n      <th>variety</th>\n      <th>tons</th>\n      <th>side</th>\n    </tr>\n  </thead>\n  <tbody>\n    <tr>\n      <th>0</th>\n      <td>7xcKb18t353Z7p5Y</td>\n      <td>Granache</td>\n      <td>5</td>\n      <td>Seller</td>\n    </tr>\n    <tr>\n      <th>0</th>\n      <td>7xcKb18t353Z7p5Y</td>\n      <td>Riesling</td>\n      <td>5</td>\n      <td>Seller</td>\n    </tr>\n    <tr>\n      <th>0</th>\n      <td>7xcKb18t353Z7p5Y</td>\n      <td>Pinot gris</td>\n      <td>5</td>\n      <td>Seller</td>\n    </tr>\n    <tr>\n      <th>0</th>\n      <td>7xcKb18t353Z7p5Y</td>\n      <td>Sangiovese</td>\n      <td>5</td>\n      <td>Seller</td>\n    </tr>\n    <tr>\n      <th>1</th>\n      <td>1726Z0qu1t6Zs7oT</td>\n      <td>Pinot gris</td>\n      <td>20</td>\n      <td>Seller</td>\n    </tr>\n  </tbody>\n</table>\n</div>"
     },
     "execution_count": 4,
     "metadata": {},
     "output_type": "execute_result"
    }
   ],
   "source": [
    "db_GS = MongoClient(url)[database][collection_GS]\n",
    "grape_sellers = DataFrame(\n",
    "    db_GS.find(projection={\n",
    "        \"_id\": False, \n",
    "        \"profile_id\": True, \n",
    "        \"grapes_selling\": True, \n",
    "        \"volume_selling\": True,\n",
    "    })\n",
    ")\n",
    "grape_sellers = grape_sellers.explode(column=[\"grapes_selling\", \"volume_selling\"])\n",
    "grape_sellers.rename(columns={\"grapes_selling\": \"variety\", \"volume_selling\": \"tons\"}, inplace=True)\n",
    "grape_sellers[\"side\"] = \"Seller\"\n",
    "grape_sellers[\"tons\"] = Series([int(num) for num in grape_sellers[\"tons\"]])\n",
    "grape_sellers.head()"
   ]
  },
  {
   "cell_type": "code",
   "execution_count": 5,
   "id": "1ad0566f",
   "metadata": {},
   "outputs": [
    {
     "data": {
      "text/plain": "       profile_id_x    variety  tons_x side_x      profile_id_y  tons_y  \\\n0  K1hwd7N64N668a4H  Mourvedre      25  Buyer  dtv7i758zm5n40q1      45   \n2  K1hwd7N64N668a4H  Mourvedre      25  Buyer  EBI50Rq0206h4u4k      50   \n3  K1hwd7N64N668a4H  Mourvedre      25  Buyer  o5B500L63bHv50sv      50   \n7  Xm636aK82Kc31QH8  Mourvedre      45  Buyer  dtv7i758zm5n40q1      45   \n9  Xm636aK82Kc31QH8  Mourvedre      45  Buyer  EBI50Rq0206h4u4k      50   \n\n   side_y  tons_difference  \n0  Seller               20  \n2  Seller               25  \n3  Seller               25  \n7  Seller                0  \n9  Seller                5  ",
      "text/html": "<div>\n<style scoped>\n    .dataframe tbody tr th:only-of-type {\n        vertical-align: middle;\n    }\n\n    .dataframe tbody tr th {\n        vertical-align: top;\n    }\n\n    .dataframe thead th {\n        text-align: right;\n    }\n</style>\n<table border=\"1\" class=\"dataframe\">\n  <thead>\n    <tr style=\"text-align: right;\">\n      <th></th>\n      <th>profile_id_x</th>\n      <th>variety</th>\n      <th>tons_x</th>\n      <th>side_x</th>\n      <th>profile_id_y</th>\n      <th>tons_y</th>\n      <th>side_y</th>\n      <th>tons_difference</th>\n    </tr>\n  </thead>\n  <tbody>\n    <tr>\n      <th>0</th>\n      <td>K1hwd7N64N668a4H</td>\n      <td>Mourvedre</td>\n      <td>25</td>\n      <td>Buyer</td>\n      <td>dtv7i758zm5n40q1</td>\n      <td>45</td>\n      <td>Seller</td>\n      <td>20</td>\n    </tr>\n    <tr>\n      <th>2</th>\n      <td>K1hwd7N64N668a4H</td>\n      <td>Mourvedre</td>\n      <td>25</td>\n      <td>Buyer</td>\n      <td>EBI50Rq0206h4u4k</td>\n      <td>50</td>\n      <td>Seller</td>\n      <td>25</td>\n    </tr>\n    <tr>\n      <th>3</th>\n      <td>K1hwd7N64N668a4H</td>\n      <td>Mourvedre</td>\n      <td>25</td>\n      <td>Buyer</td>\n      <td>o5B500L63bHv50sv</td>\n      <td>50</td>\n      <td>Seller</td>\n      <td>25</td>\n    </tr>\n    <tr>\n      <th>7</th>\n      <td>Xm636aK82Kc31QH8</td>\n      <td>Mourvedre</td>\n      <td>45</td>\n      <td>Buyer</td>\n      <td>dtv7i758zm5n40q1</td>\n      <td>45</td>\n      <td>Seller</td>\n      <td>0</td>\n    </tr>\n    <tr>\n      <th>9</th>\n      <td>Xm636aK82Kc31QH8</td>\n      <td>Mourvedre</td>\n      <td>45</td>\n      <td>Buyer</td>\n      <td>EBI50Rq0206h4u4k</td>\n      <td>50</td>\n      <td>Seller</td>\n      <td>5</td>\n    </tr>\n  </tbody>\n</table>\n</div>"
     },
     "execution_count": 5,
     "metadata": {},
     "output_type": "execute_result"
    }
   ],
   "source": [
    "together = merge(grape_buyers, grape_sellers, how='inner', on=['variety'])\n",
    "together = together.loc[(together.tons_x <= together.tons_y)]\n",
    "together[\"tons_difference\"] = together[\"tons_y\"] - together[\"tons_x\"]\n",
    "together.head()"
   ]
  },
  {
   "cell_type": "code",
   "execution_count": 6,
   "id": "bd92dd3a",
   "metadata": {},
   "outputs": [],
   "source": [
    "def return_seller_profile_ids(n_matches: int, profile_id: str):\n",
    "    buyer_indexes = (together[together[\"profile_id_x\"] == profile_id]).index.tolist()\n",
    "    seller_profile_id = [together.iloc[num][\"profile_id_y\"] for num in buyer_indexes]\n",
    "    return seller_profile_id[:n_matches]"
   ]
  },
  {
   "cell_type": "code",
   "execution_count": 7,
   "outputs": [
    {
     "data": {
      "text/plain": "['dtv7i758zm5n40q1', 'o5B500L63bHv50sv', 'dtv7i758zm5n40q1']"
     },
     "execution_count": 7,
     "metadata": {},
     "output_type": "execute_result"
    }
   ],
   "source": [
    "return_seller_profile_ids(3, 'K1hwd7N64N668a4H')"
   ],
   "metadata": {
    "collapsed": false,
    "pycharm": {
     "name": "#%%\n"
    }
   }
  }
 ],
 "metadata": {
  "kernelspec": {
   "display_name": "Python 3 (ipykernel)",
   "language": "python",
   "name": "python3"
  },
  "language_info": {
   "codemirror_mode": {
    "name": "ipython",
    "version": 3
   },
   "file_extension": ".py",
   "mimetype": "text/x-python",
   "name": "python",
   "nbconvert_exporter": "python",
   "pygments_lexer": "ipython3",
   "version": "3.9.7"
  }
 },
 "nbformat": 4,
 "nbformat_minor": 5
}