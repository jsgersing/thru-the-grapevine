{
 "cells": [
  {
   "cell_type": "code",
   "execution_count": 1,
   "id": "d29dd69c",
   "metadata": {
    "pycharm": {
     "name": "#%%\n"
    }
   },
   "outputs": [],
   "source": [
    "from os import getenv\n",
    "from pymongo import MongoClient\n",
    "from pandas import DataFrame, Series, merge\n",
    "from dotenv import load_dotenv"
   ]
  },
  {
   "cell_type": "code",
   "execution_count": 8,
   "id": "b66c922c",
   "metadata": {},
   "outputs": [],
   "source": [
    "filepath = '/Users/jasongersing/PycharmProjects/fastApiProject/.env'\n",
    "load_dotenv(filepath)\n",
    "url = getenv('MONGO_URL')\n",
    "database = \"thruTheGrapevine\"\n",
    "collection_GB = \"GrapeBuyers\"\n",
    "collection_GS = \"GrapeSellers\""
   ]
  },
  {
   "cell_type": "code",
   "execution_count": 9,
   "id": "ae4f4aed",
   "metadata": {},
   "outputs": [
    {
     "data": {
      "text/plain": "         profile_id     variety  tons   side\n0  8n1y23Qyw37t1Y2X    Semillon    45  Buyer\n0  8n1y23Qyw37t1Y2X    Granache    45  Buyer\n0  8n1y23Qyw37t1Y2X  Pinot gris    45  Buyer\n0  8n1y23Qyw37t1Y2X    Viognier    45  Buyer\n1  5p0Z81Z5HM1eqL02  Sangiovese    25  Buyer",
      "text/html": "<div>\n<style scoped>\n    .dataframe tbody tr th:only-of-type {\n        vertical-align: middle;\n    }\n\n    .dataframe tbody tr th {\n        vertical-align: top;\n    }\n\n    .dataframe thead th {\n        text-align: right;\n    }\n</style>\n<table border=\"1\" class=\"dataframe\">\n  <thead>\n    <tr style=\"text-align: right;\">\n      <th></th>\n      <th>profile_id</th>\n      <th>variety</th>\n      <th>tons</th>\n      <th>side</th>\n    </tr>\n  </thead>\n  <tbody>\n    <tr>\n      <th>0</th>\n      <td>8n1y23Qyw37t1Y2X</td>\n      <td>Semillon</td>\n      <td>45</td>\n      <td>Buyer</td>\n    </tr>\n    <tr>\n      <th>0</th>\n      <td>8n1y23Qyw37t1Y2X</td>\n      <td>Granache</td>\n      <td>45</td>\n      <td>Buyer</td>\n    </tr>\n    <tr>\n      <th>0</th>\n      <td>8n1y23Qyw37t1Y2X</td>\n      <td>Pinot gris</td>\n      <td>45</td>\n      <td>Buyer</td>\n    </tr>\n    <tr>\n      <th>0</th>\n      <td>8n1y23Qyw37t1Y2X</td>\n      <td>Viognier</td>\n      <td>45</td>\n      <td>Buyer</td>\n    </tr>\n    <tr>\n      <th>1</th>\n      <td>5p0Z81Z5HM1eqL02</td>\n      <td>Sangiovese</td>\n      <td>25</td>\n      <td>Buyer</td>\n    </tr>\n  </tbody>\n</table>\n</div>"
     },
     "execution_count": 9,
     "metadata": {},
     "output_type": "execute_result"
    }
   ],
   "source": [
    "db_GB = MongoClient(url)[database][collection_GB]\n",
    "grape_buyers = DataFrame(\n",
    "    db_GB.find(projection={\n",
    "        \"_id\": False, \n",
    "        \"profile_id\": True, \n",
    "        \"grapes_seeking\": True, \n",
    "        \"volume_seeking\": True, \n",
    "    })\n",
    ")\n",
    "grape_buyers = grape_buyers.explode(column=[\"grapes_seeking\", \"volume_seeking\"])\n",
    "grape_buyers.rename(columns={\"grapes_seeking\": \"variety\", \"volume_seeking\": \"tons\"}, inplace=True)\n",
    "grape_buyers[\"side\"] = \"Buyer\"\n",
    "grape_buyers[\"tons\"] = Series([int(num) for num in grape_buyers[\"tons\"]])\n",
    "grape_buyers.head()"
   ]
  },
  {
   "cell_type": "code",
   "execution_count": 10,
   "id": "a3bb2c27",
   "metadata": {},
   "outputs": [
    {
     "data": {
      "text/plain": "         profile_id             variety  tons    side\n0  R87s0gF405b4sf0b            Nebbiolo    15  Seller\n0  R87s0gF405b4sf0b  Cabernet Sauvignon    15  Seller\n0  R87s0gF405b4sf0b            Riesling    15  Seller\n1  wbKU48d1y00R774s         Pinot blanc    50  Seller\n1  wbKU48d1y00R774s        Petit Verdot    50  Seller",
      "text/html": "<div>\n<style scoped>\n    .dataframe tbody tr th:only-of-type {\n        vertical-align: middle;\n    }\n\n    .dataframe tbody tr th {\n        vertical-align: top;\n    }\n\n    .dataframe thead th {\n        text-align: right;\n    }\n</style>\n<table border=\"1\" class=\"dataframe\">\n  <thead>\n    <tr style=\"text-align: right;\">\n      <th></th>\n      <th>profile_id</th>\n      <th>variety</th>\n      <th>tons</th>\n      <th>side</th>\n    </tr>\n  </thead>\n  <tbody>\n    <tr>\n      <th>0</th>\n      <td>R87s0gF405b4sf0b</td>\n      <td>Nebbiolo</td>\n      <td>15</td>\n      <td>Seller</td>\n    </tr>\n    <tr>\n      <th>0</th>\n      <td>R87s0gF405b4sf0b</td>\n      <td>Cabernet Sauvignon</td>\n      <td>15</td>\n      <td>Seller</td>\n    </tr>\n    <tr>\n      <th>0</th>\n      <td>R87s0gF405b4sf0b</td>\n      <td>Riesling</td>\n      <td>15</td>\n      <td>Seller</td>\n    </tr>\n    <tr>\n      <th>1</th>\n      <td>wbKU48d1y00R774s</td>\n      <td>Pinot blanc</td>\n      <td>50</td>\n      <td>Seller</td>\n    </tr>\n    <tr>\n      <th>1</th>\n      <td>wbKU48d1y00R774s</td>\n      <td>Petit Verdot</td>\n      <td>50</td>\n      <td>Seller</td>\n    </tr>\n  </tbody>\n</table>\n</div>"
     },
     "execution_count": 10,
     "metadata": {},
     "output_type": "execute_result"
    }
   ],
   "source": [
    "db_GS = MongoClient(url)[database][collection_GS]\n",
    "grape_sellers = DataFrame(\n",
    "    db_GS.find(projection={\n",
    "        \"_id\": False, \n",
    "        \"profile_id\": True, \n",
    "        \"grapes_selling\": True, \n",
    "        \"volume_selling\": True,\n",
    "    })\n",
    ")\n",
    "grape_sellers = grape_sellers.explode(column=[\"grapes_selling\", \"volume_selling\"])\n",
    "grape_sellers.rename(columns={\"grapes_selling\": \"variety\", \"volume_selling\": \"tons\"}, inplace=True)\n",
    "grape_sellers[\"side\"] = \"Seller\"\n",
    "grape_sellers[\"tons\"] = Series([int(num) for num in grape_sellers[\"tons\"]])\n",
    "grape_sellers.head()"
   ]
  },
  {
   "cell_type": "code",
   "execution_count": 11,
   "id": "1ad0566f",
   "metadata": {},
   "outputs": [
    {
     "data": {
      "text/plain": "       profile_id_x   variety  tons_x side_x      profile_id_y  tons_y  \\\n2  8n1y23Qyw37t1Y2X  Semillon      45  Buyer  l83UDWaSB701N183      50   \n6  0l20pP78UJ81JZD4  Semillon       5  Buyer  3UTk51W7745BZxv1      20   \n7  0l20pP78UJ81JZD4  Semillon       5  Buyer  2ubo3U4R0LiJ1220      15   \n8  0l20pP78UJ81JZD4  Semillon       5  Buyer  l83UDWaSB701N183      50   \n9  0l20pP78UJ81JZD4  Semillon       5  Buyer  FW5uI7D5z3I073M8      30   \n\n   side_y  tons_difference  \n2  Seller                5  \n6  Seller               15  \n7  Seller               10  \n8  Seller               45  \n9  Seller               25  ",
      "text/html": "<div>\n<style scoped>\n    .dataframe tbody tr th:only-of-type {\n        vertical-align: middle;\n    }\n\n    .dataframe tbody tr th {\n        vertical-align: top;\n    }\n\n    .dataframe thead th {\n        text-align: right;\n    }\n</style>\n<table border=\"1\" class=\"dataframe\">\n  <thead>\n    <tr style=\"text-align: right;\">\n      <th></th>\n      <th>profile_id_x</th>\n      <th>variety</th>\n      <th>tons_x</th>\n      <th>side_x</th>\n      <th>profile_id_y</th>\n      <th>tons_y</th>\n      <th>side_y</th>\n      <th>tons_difference</th>\n    </tr>\n  </thead>\n  <tbody>\n    <tr>\n      <th>2</th>\n      <td>8n1y23Qyw37t1Y2X</td>\n      <td>Semillon</td>\n      <td>45</td>\n      <td>Buyer</td>\n      <td>l83UDWaSB701N183</td>\n      <td>50</td>\n      <td>Seller</td>\n      <td>5</td>\n    </tr>\n    <tr>\n      <th>6</th>\n      <td>0l20pP78UJ81JZD4</td>\n      <td>Semillon</td>\n      <td>5</td>\n      <td>Buyer</td>\n      <td>3UTk51W7745BZxv1</td>\n      <td>20</td>\n      <td>Seller</td>\n      <td>15</td>\n    </tr>\n    <tr>\n      <th>7</th>\n      <td>0l20pP78UJ81JZD4</td>\n      <td>Semillon</td>\n      <td>5</td>\n      <td>Buyer</td>\n      <td>2ubo3U4R0LiJ1220</td>\n      <td>15</td>\n      <td>Seller</td>\n      <td>10</td>\n    </tr>\n    <tr>\n      <th>8</th>\n      <td>0l20pP78UJ81JZD4</td>\n      <td>Semillon</td>\n      <td>5</td>\n      <td>Buyer</td>\n      <td>l83UDWaSB701N183</td>\n      <td>50</td>\n      <td>Seller</td>\n      <td>45</td>\n    </tr>\n    <tr>\n      <th>9</th>\n      <td>0l20pP78UJ81JZD4</td>\n      <td>Semillon</td>\n      <td>5</td>\n      <td>Buyer</td>\n      <td>FW5uI7D5z3I073M8</td>\n      <td>30</td>\n      <td>Seller</td>\n      <td>25</td>\n    </tr>\n  </tbody>\n</table>\n</div>"
     },
     "execution_count": 11,
     "metadata": {},
     "output_type": "execute_result"
    }
   ],
   "source": [
    "together = merge(grape_buyers, grape_sellers, how='inner', on=['variety'])\n",
    "together = together.loc[(together.tons_x <= together.tons_y)]\n",
    "together[\"tons_difference\"] = together[\"tons_y\"] - together[\"tons_x\"]\n",
    "together.head()"
   ]
  },
  {
   "cell_type": "code",
   "execution_count": 12,
   "id": "bd92dd3a",
   "metadata": {},
   "outputs": [],
   "source": [
    "def return_seller_profile_ids(n_matches: int, profile_id: str):\n",
    "    buyer_indexes = (together[together[\"profile_id_x\"] == profile_id]).index.tolist()\n",
    "    seller_profile_id = [together.iloc[num][\"profile_id_y\"] for num in buyer_indexes]\n",
    "    return seller_profile_id[:n_matches]"
   ]
  },
  {
   "cell_type": "code",
   "execution_count": 14,
   "outputs": [
    {
     "data": {
      "text/plain": "['2ubo3U4R0LiJ1220', '428F8dE2IE70Vh2L', 'K76Y770Hgl16y6bR']"
     },
     "execution_count": 14,
     "metadata": {},
     "output_type": "execute_result"
    }
   ],
   "source": [
    "return_seller_profile_ids(3, '8n1y23Qyw37t1Y2X')"
   ],
   "metadata": {
    "collapsed": false,
    "pycharm": {
     "name": "#%%\n"
    }
   }
  },
  {
   "cell_type": "code",
   "execution_count": null,
   "outputs": [],
   "source": [],
   "metadata": {
    "collapsed": false,
    "pycharm": {
     "name": "#%%\n"
    }
   }
  }
 ],
 "metadata": {
  "kernelspec": {
   "display_name": "Python 3 (ipykernel)",
   "language": "python",
   "name": "python3"
  },
  "language_info": {
   "codemirror_mode": {
    "name": "ipython",
    "version": 3
   },
   "file_extension": ".py",
   "mimetype": "text/x-python",
   "name": "python",
   "nbconvert_exporter": "python",
   "pygments_lexer": "ipython3",
   "version": "3.9.7"
  }
 },
 "nbformat": 4,
 "nbformat_minor": 5
}